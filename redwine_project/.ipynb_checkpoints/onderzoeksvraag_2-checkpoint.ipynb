{
 "cells": [
  {
   "cell_type": "markdown",
   "metadata": {},
   "source": [
    "# Redwine - OnderzoeksVraag 2 "
   ]
  },
  {
   "cell_type": "markdown",
   "metadata": {},
   "source": [
    "Namen - Studentennummer\n",
    "* Quinn de Groot\n",
    "* Kaai ter Horst\n",
    "* Amaryllis Lee  - 1735290"
   ]
  },
  {
   "cell_type": "markdown",
   "metadata": {},
   "source": [
    "### Casusopdracht\n",
    "Voor deze casus moeten we een data science pipeline maken, waarbij we dataset redwine.csv analyseert. Het uitgangspunt van de analyse is een aantal onderzoeksvragen. Vervolgens doorloop je het data science proces van CRISP-DM en leg je de resultaten op een reproduceerbare manier vast in Jupyter Notebook."
   ]
  },
  {
   "cell_type": "markdown",
   "metadata": {},
   "source": [
    "### Onderzoeksvragen"
   ]
  },
  {
   "cell_type": "markdown",
   "metadata": {},
   "source": [
    "Er zijn drie onderzoekesvragen beschreven, waar een verplecht is van de opdracht en 2 zelf bedacht zijn.Bovendien zijn er ook de eisen die we zullen toepassen voor elke ondezeoksvraag."
   ]
  },
  {
   "cell_type": "markdown",
   "metadata": {},
   "source": [
    " 1.\t**In hoeverre is de score van een Portugese Red te voorspellen op basis van de chemische kenmerken?**\n",
    "    1.\tToepassing van een supervised machine learning \n",
    "    2.\tCorrelatieonderzoek\n",
    "    \n",
    "2.\t**Kunnen we verschillende groepen vinden van de wijnen met een hoge score op base van de chemische samenstelling?**\n",
    "    1.\tToepassing van een unsupervised machine learning\n",
    "    2.\tGebruik van externe dataset\n",
    "    \n",
    "3.\t**Wat is het verband tusen de ingredienten van de wijnen en de regio's?**\n",
    "    1.\tInteractieve visualisatie\n",
    "    2.\tToepassing van supervised learning.\n"
   ]
  },
  {
   "cell_type": "markdown",
   "metadata": {},
   "source": [
    "## Inhoud\n",
    "\n",
    "1. Data Understanding\n",
    "    - Data Collection \n",
    "    - Data exploration & analysis\n",
    "2. Data Preparation\n",
    "    - Data munging\n",
    "    - Data cleaning\n",
    "3. Data Analyses\n",
    "4. Model Implementeren \n"
   ]
  },
  {
   "cell_type": "markdown",
   "metadata": {},
   "source": [
    "## Data Understanding "
   ]
  },
  {
   "cell_type": "markdown",
   "metadata": {},
   "source": [
    "### Data Collection \n",
    "In de Data Collection zullen de libraries gaan importeren, de toegewezen datasets en de externe dataset gaan inlezen  en bekijken."
   ]
  },
  {
   "cell_type": "markdown",
   "metadata": {},
   "source": [
    "#### Libraries importeren "
   ]
  },
  {
   "cell_type": "code",
   "execution_count": 1,
   "metadata": {},
   "outputs": [],
   "source": [
    "import numpy as np \n",
    "import pandas as pd\n",
    "import matplotlib.pyplot as plt\n",
    "import seaborn as sns\n",
    "\n",
    "from sklearn.cluster import KMeans\n",
    "\n",
    "%matplotlib inline"
   ]
  },
  {
   "cell_type": "markdown",
   "metadata": {},
   "source": [
    "#### Datasets inlezen en verkennen "
   ]
  },
  {
   "cell_type": "code",
   "execution_count": 2,
   "metadata": {
    "scrolled": true
   },
   "outputs": [
    {
     "data": {
      "text/html": [
       "<div>\n",
       "<style scoped>\n",
       "    .dataframe tbody tr th:only-of-type {\n",
       "        vertical-align: middle;\n",
       "    }\n",
       "\n",
       "    .dataframe tbody tr th {\n",
       "        vertical-align: top;\n",
       "    }\n",
       "\n",
       "    .dataframe thead th {\n",
       "        text-align: right;\n",
       "    }\n",
       "</style>\n",
       "<table border=\"1\" class=\"dataframe\">\n",
       "  <thead>\n",
       "    <tr style=\"text-align: right;\">\n",
       "      <th></th>\n",
       "      <th>id</th>\n",
       "      <th>country</th>\n",
       "      <th>description</th>\n",
       "      <th>designation</th>\n",
       "      <th>points</th>\n",
       "      <th>price</th>\n",
       "      <th>province</th>\n",
       "      <th>taster_name</th>\n",
       "      <th>title</th>\n",
       "      <th>variety</th>\n",
       "      <th>...</th>\n",
       "      <th>volatile acidity</th>\n",
       "      <th>citric acid</th>\n",
       "      <th>residual sugar</th>\n",
       "      <th>chlorides</th>\n",
       "      <th>free sulfur dioxide</th>\n",
       "      <th>total sulfur dioxide</th>\n",
       "      <th>density</th>\n",
       "      <th>pH</th>\n",
       "      <th>sulphates</th>\n",
       "      <th>alcohol</th>\n",
       "    </tr>\n",
       "  </thead>\n",
       "  <tbody>\n",
       "    <tr>\n",
       "      <th>0</th>\n",
       "      <td>1</td>\n",
       "      <td>Portugal</td>\n",
       "      <td>This is ripe and fruity, a wine that is smooth...</td>\n",
       "      <td>Avidagos</td>\n",
       "      <td>87</td>\n",
       "      <td>15.0</td>\n",
       "      <td>Douro</td>\n",
       "      <td>Kerin O’Keefe</td>\n",
       "      <td>Quinta dos Avidagos 2011 Avidagos Red (Douro)</td>\n",
       "      <td>Portuguese Red</td>\n",
       "      <td>...</td>\n",
       "      <td>0.29</td>\n",
       "      <td>0.4</td>\n",
       "      <td>2.9</td>\n",
       "      <td>0.098</td>\n",
       "      <td>10.0</td>\n",
       "      <td>26.0</td>\n",
       "      <td>10.006</td>\n",
       "      <td>3.48</td>\n",
       "      <td>0.91</td>\n",
       "      <td>9.7</td>\n",
       "    </tr>\n",
       "    <tr>\n",
       "      <th>1</th>\n",
       "      <td>2</td>\n",
       "      <td>Portugal</td>\n",
       "      <td>From an estate in the south of the Alentejo, t...</td>\n",
       "      <td>Grande Reserva Tinto</td>\n",
       "      <td>91</td>\n",
       "      <td>26.0</td>\n",
       "      <td>Alentejano</td>\n",
       "      <td>Roger Voss</td>\n",
       "      <td>Casa Santa Vitória 2013 Grande Reserva Tinto R...</td>\n",
       "      <td>Portuguese Red</td>\n",
       "      <td>...</td>\n",
       "      <td>0.26</td>\n",
       "      <td>0.37</td>\n",
       "      <td>1.4</td>\n",
       "      <td>0.076</td>\n",
       "      <td>8.0</td>\n",
       "      <td>23.0</td>\n",
       "      <td>0.9974</td>\n",
       "      <td>3.26</td>\n",
       "      <td>0.70</td>\n",
       "      <td>9.6</td>\n",
       "    </tr>\n",
       "    <tr>\n",
       "      <th>2</th>\n",
       "      <td>3</td>\n",
       "      <td>Portugal</td>\n",
       "      <td>A year in wood and 30 months in bottle before ...</td>\n",
       "      <td>Montes Claros Garrafeira</td>\n",
       "      <td>90</td>\n",
       "      <td>28.0</td>\n",
       "      <td>Alentejo</td>\n",
       "      <td>Paul Gregutt</td>\n",
       "      <td>Adega Cooperativa de Borba 2012 Montes Claros ...</td>\n",
       "      <td>Portuguese Red</td>\n",
       "      <td>...</td>\n",
       "      <td>0.69</td>\n",
       "      <td>0.07</td>\n",
       "      <td>2.5</td>\n",
       "      <td>0.091</td>\n",
       "      <td>15.0</td>\n",
       "      <td>21.0</td>\n",
       "      <td>0.99572</td>\n",
       "      <td>3.38</td>\n",
       "      <td>0.60</td>\n",
       "      <td>11.3</td>\n",
       "    </tr>\n",
       "    <tr>\n",
       "      <th>3</th>\n",
       "      <td>4</td>\n",
       "      <td>Portugal</td>\n",
       "      <td>Wood aging gives this ripe blend of Baga and T...</td>\n",
       "      <td>NaN</td>\n",
       "      <td>90</td>\n",
       "      <td>20.0</td>\n",
       "      <td>Beira Atlantico</td>\n",
       "      <td>Alexander Peartree</td>\n",
       "      <td>Quinta de Foz de Arouce 2013 Red (Beira Atlant...</td>\n",
       "      <td>Portuguese Red</td>\n",
       "      <td>...</td>\n",
       "      <td>0.69</td>\n",
       "      <td>0.07</td>\n",
       "      <td>2.5</td>\n",
       "      <td>0.091</td>\n",
       "      <td>15.0</td>\n",
       "      <td>21.0</td>\n",
       "      <td>0.99572</td>\n",
       "      <td>3.38</td>\n",
       "      <td>0.60</td>\n",
       "      <td>11.3</td>\n",
       "    </tr>\n",
       "    <tr>\n",
       "      <th>4</th>\n",
       "      <td>5</td>\n",
       "      <td>Portugal</td>\n",
       "      <td>A powerful wine, richly structured and full of...</td>\n",
       "      <td>Gerações Colheita Seleccionada</td>\n",
       "      <td>92</td>\n",
       "      <td>34.0</td>\n",
       "      <td>Alentejano</td>\n",
       "      <td>Paul Gregutt</td>\n",
       "      <td>Herdade Grande 2010 Gerações Colheita Seleccio...</td>\n",
       "      <td>Portuguese Red</td>\n",
       "      <td>...</td>\n",
       "      <td>0.48</td>\n",
       "      <td>0.34</td>\n",
       "      <td>2.2</td>\n",
       "      <td>0.073</td>\n",
       "      <td>16.0</td>\n",
       "      <td>25.0</td>\n",
       "      <td>0.9936</td>\n",
       "      <td>3.28</td>\n",
       "      <td>0.66</td>\n",
       "      <td>12.4</td>\n",
       "    </tr>\n",
       "  </tbody>\n",
       "</table>\n",
       "<p>5 rows × 22 columns</p>\n",
       "</div>"
      ],
      "text/plain": [
       "   id   country                                        description  \\\n",
       "0   1  Portugal  This is ripe and fruity, a wine that is smooth...   \n",
       "1   2  Portugal  From an estate in the south of the Alentejo, t...   \n",
       "2   3  Portugal  A year in wood and 30 months in bottle before ...   \n",
       "3   4  Portugal  Wood aging gives this ripe blend of Baga and T...   \n",
       "4   5  Portugal  A powerful wine, richly structured and full of...   \n",
       "\n",
       "                      designation  points  price         province  \\\n",
       "0                        Avidagos      87   15.0            Douro   \n",
       "1            Grande Reserva Tinto      91   26.0       Alentejano   \n",
       "2        Montes Claros Garrafeira      90   28.0         Alentejo   \n",
       "3                             NaN      90   20.0  Beira Atlantico   \n",
       "4  Gerações Colheita Seleccionada      92   34.0       Alentejano   \n",
       "\n",
       "          taster_name                                              title  \\\n",
       "0       Kerin O’Keefe      Quinta dos Avidagos 2011 Avidagos Red (Douro)   \n",
       "1          Roger Voss  Casa Santa Vitória 2013 Grande Reserva Tinto R...   \n",
       "2        Paul Gregutt  Adega Cooperativa de Borba 2012 Montes Claros ...   \n",
       "3  Alexander Peartree  Quinta de Foz de Arouce 2013 Red (Beira Atlant...   \n",
       "4        Paul Gregutt  Herdade Grande 2010 Gerações Colheita Seleccio...   \n",
       "\n",
       "          variety  ... volatile acidity  citric acid  residual sugar  \\\n",
       "0  Portuguese Red  ...             0.29          0.4             2.9   \n",
       "1  Portuguese Red  ...             0.26         0.37             1.4   \n",
       "2  Portuguese Red  ...             0.69         0.07             2.5   \n",
       "3  Portuguese Red  ...             0.69         0.07             2.5   \n",
       "4  Portuguese Red  ...             0.48         0.34             2.2   \n",
       "\n",
       "  chlorides  free sulfur dioxide  total sulfur dioxide  density    pH  \\\n",
       "0     0.098                 10.0                  26.0   10.006  3.48   \n",
       "1     0.076                  8.0                  23.0   0.9974  3.26   \n",
       "2     0.091                 15.0                  21.0  0.99572  3.38   \n",
       "3     0.091                 15.0                  21.0  0.99572  3.38   \n",
       "4     0.073                 16.0                  25.0   0.9936  3.28   \n",
       "\n",
       "  sulphates  alcohol  \n",
       "0      0.91      9.7  \n",
       "1      0.70      9.6  \n",
       "2      0.60     11.3  \n",
       "3      0.60     11.3  \n",
       "4      0.66     12.4  \n",
       "\n",
       "[5 rows x 22 columns]"
      ]
     },
     "execution_count": 2,
     "metadata": {},
     "output_type": "execute_result"
    }
   ],
   "source": [
    "# load dataset redwine.csv\n",
    "df = pd.read_csv('redwine.csv',encoding  = \"cp1252\", delimiter = ';')\n",
    "# De eerste 5 rijen bekijken van df\n",
    "df.head(5)"
   ]
  },
  {
   "cell_type": "markdown",
   "metadata": {},
   "source": [
    "### Data exploration"
   ]
  },
  {
   "cell_type": "markdown",
   "metadata": {},
   "source": [
    "Er zal in redwine.csv ( **df** ) de *features* word bekeken.Er wordt gezien of de *features* in de dataset compleet is.Verder wordt er een analyse gedaan, zodat we inzicht kan krijgen in de dataset. \n",
    "\n",
    "Eerst gaan we kijken naar de dimensies van de dataset en naar de datatypes van features in de dataset. We kunnen hiervan uithalen hoeveel rijen en kolommen in onze dataset zijn. Bovendien kunnen we bekijken of er missende waardes zit in de features en de datatypes klopten. "
   ]
  },
  {
   "cell_type": "code",
   "execution_count": 3,
   "metadata": {},
   "outputs": [
    {
     "data": {
      "text/plain": [
       "(2465, 22)"
      ]
     },
     "execution_count": 3,
     "metadata": {},
     "output_type": "execute_result"
    }
   ],
   "source": [
    "df.shape  # de dimensies van de dataset "
   ]
  },
  {
   "cell_type": "code",
   "execution_count": 4,
   "metadata": {},
   "outputs": [
    {
     "data": {
      "text/plain": [
       "Index(['id', 'country', 'description', 'designation', 'points', 'price',\n",
       "       'province', 'taster_name', 'title', 'variety', 'winery',\n",
       "       'fixed acidity', 'volatile acidity', 'citric acid', 'residual sugar',\n",
       "       'chlorides', 'free sulfur dioxide', 'total sulfur dioxide', 'density',\n",
       "       'pH', 'sulphates', 'alcohol'],\n",
       "      dtype='object')"
      ]
     },
     "execution_count": 4,
     "metadata": {},
     "output_type": "execute_result"
    }
   ],
   "source": [
    "# lijst van de features/kolommen in de dataset\n",
    "df.columns"
   ]
  },
  {
   "cell_type": "code",
   "execution_count": 5,
   "metadata": {
    "scrolled": false
   },
   "outputs": [
    {
     "data": {
      "text/plain": [
       "id                        int64\n",
       "country                  object\n",
       "description              object\n",
       "designation              object\n",
       "points                    int64\n",
       "price                   float64\n",
       "province                 object\n",
       "taster_name              object\n",
       "title                    object\n",
       "variety                  object\n",
       "winery                   object\n",
       "fixed acidity           float64\n",
       "volatile acidity        float64\n",
       "citric acid              object\n",
       "residual sugar          float64\n",
       "chlorides               float64\n",
       "free sulfur dioxide     float64\n",
       "total sulfur dioxide    float64\n",
       "density                  object\n",
       "pH                      float64\n",
       "sulphates               float64\n",
       "alcohol                  object\n",
       "dtype: object"
      ]
     },
     "execution_count": 5,
     "metadata": {},
     "output_type": "execute_result"
    }
   ],
   "source": [
    "# De datypes voor elke feature\n",
    "df.dtypes"
   ]
  },
  {
   "cell_type": "markdown",
   "metadata": {},
   "source": [
    "We kunnnen van de bovenstaande code de datatypes en de meetniveaus van elke feature in de dataset uithalen. We kunnen elke features bepalen of ze numerieke of string waardes zijn."
   ]
  },
  {
   "cell_type": "markdown",
   "metadata": {},
   "source": [
    "\n",
    "- Numerieke features:  \n",
    "    - id\n",
    "    - points \n",
    "    - price\n",
    "    - fixed_acidity\n",
    "    - volatile acidity\n",
    "    - residual sugar\n",
    "    - chlorides\n",
    "    - free sulfur dioxide\n",
    "    - total sulfur dioxide\n",
    "    - pH \n",
    "    - sulphates\n",
    "    - alcohol\n",
    "- Categorical Features\n",
    "    - country                  # moet verwijdert worden, alle waarden = Portugal\n",
    "    - description              \n",
    "    - designation               \n",
    "    - province                 \n",
    "    - taster_name              \n",
    "    - title                    \n",
    "    - variety                  # moet verwijderd worden\n",
    "    - winery                   \n",
    "    \n",
    "  "
   ]
  },
  {
   "cell_type": "markdown",
   "metadata": {},
   "source": [
    "Als we de de waardes bekijken van de features in de dataset, zien we verkeerde datatypes, onnodige kolommen en verkeerde string representation in de dataset. Als we de feature citric acid bekijk, zien we dat er ' - ' voorkomt die aangepast moet worden."
   ]
  },
  {
   "cell_type": "code",
   "execution_count": 6,
   "metadata": {},
   "outputs": [
    {
     "data": {
      "text/plain": [
       "0      0.4\n",
       "1     0.37\n",
       "2     0.07\n",
       "3     0.07\n",
       "4     0.34\n",
       "5     0.42\n",
       "6     0.43\n",
       "7     -   \n",
       "8     0.41\n",
       "9     0.07\n",
       "Name: citric acid, dtype: object"
      ]
     },
     "execution_count": 6,
     "metadata": {},
     "output_type": "execute_result"
    }
   ],
   "source": [
    "df['citric acid'].head(10)"
   ]
  },
  {
   "cell_type": "markdown",
   "metadata": {},
   "source": [
    "De onderstaande features die de datatype object heeft, moeten een float zijn.\n",
    "We gaat de datatypes van deze features veranderen met pd.to_numeric( *feature* , errors = 'coerce').\n",
    "\n",
    "errors = 'coerce' : zet om alle invalid parsing naar NaN waarde.\n",
    "\n",
    "* citric acid              object - float!\n",
    "* density                  object - float!\n",
    "* alcohol                  object - float!"
   ]
  },
  {
   "cell_type": "code",
   "execution_count": 7,
   "metadata": {},
   "outputs": [],
   "source": [
    "# de datatypes van de nodige features veranderen \n",
    "# we gebruiken errors = 'coerce' om alle invalid parsing naar NaN te zetten.\n",
    "df['citric acid'] = pd.to_numeric(df['citric acid'], errors = 'coerce')\n",
    "df['density']     = pd.to_numeric(df['density'], errors = 'coerce')\n",
    "df['alcohol']     = pd.to_numeric(df['alcohol'], errors = 'coerce')"
   ]
  },
  {
   "cell_type": "code",
   "execution_count": 8,
   "metadata": {},
   "outputs": [
    {
     "data": {
      "text/plain": [
       "id                        int64\n",
       "country                  object\n",
       "description              object\n",
       "designation              object\n",
       "points                    int64\n",
       "price                   float64\n",
       "province                 object\n",
       "taster_name              object\n",
       "title                    object\n",
       "variety                  object\n",
       "winery                   object\n",
       "fixed acidity           float64\n",
       "volatile acidity        float64\n",
       "citric acid             float64\n",
       "residual sugar          float64\n",
       "chlorides               float64\n",
       "free sulfur dioxide     float64\n",
       "total sulfur dioxide    float64\n",
       "density                 float64\n",
       "pH                      float64\n",
       "sulphates               float64\n",
       "alcohol                 float64\n",
       "dtype: object"
      ]
     },
     "execution_count": 8,
     "metadata": {},
     "output_type": "execute_result"
    }
   ],
   "source": [
    "df.dtypes"
   ]
  },
  {
   "cell_type": "markdown",
   "metadata": {},
   "source": [
    "Wij zien dat de features *variety* en *country* zijn onnodig,  want zij hebben 1 soort waarde namelijk Partoguese Red en Portugal. We kunnen dus zeggen dat alle wijnen in de dataset zijn Portuguese Red en alle wijnen komen uit Portugal."
   ]
  },
  {
   "cell_type": "code",
   "execution_count": 9,
   "metadata": {},
   "outputs": [
    {
     "name": "stdout",
     "output_type": "stream",
     "text": [
      "['Portuguese Red']\n",
      "['Portugal']\n"
     ]
    }
   ],
   "source": [
    "print(df['variety'].unique()) \n",
    "print(df['country'].unique()) "
   ]
  },
  {
   "cell_type": "markdown",
   "metadata": {},
   "source": [
    "#### Missend waardes\n",
    "Er wordt bekeken of er missend waardes zijn in de kolommen."
   ]
  },
  {
   "cell_type": "code",
   "execution_count": 10,
   "metadata": {},
   "outputs": [
    {
     "data": {
      "text/plain": [
       "id                        0\n",
       "country                   0\n",
       "description               0\n",
       "designation             153\n",
       "points                    0\n",
       "price                   269\n",
       "province                  0\n",
       "taster_name               0\n",
       "title                     0\n",
       "variety                   0\n",
       "winery                    0\n",
       "fixed acidity             0\n",
       "volatile acidity          0\n",
       "citric acid             203\n",
       "residual sugar            0\n",
       "chlorides                 0\n",
       "free sulfur dioxide       0\n",
       "total sulfur dioxide      0\n",
       "density                   1\n",
       "pH                        0\n",
       "sulphates                 0\n",
       "alcohol                  10\n",
       "dtype: int64"
      ]
     },
     "execution_count": 10,
     "metadata": {},
     "output_type": "execute_result"
    }
   ],
   "source": [
    "df.isnull().sum()"
   ]
  },
  {
   "cell_type": "markdown",
   "metadata": {},
   "source": [
    "Aan de hand van de data exploration, kunnen we de volgende kolommen verwijderen:\n",
    "* country : Deze kolom bevat alleen de waarde Portugal, we kunnen concluderen dat alle wijen komt van Portugal\n",
    "* variety : Deze kolom bevat alleen de waarde Portuguese Red\n",
    "* designation  en price: Deze kolommen zullen we niet gaan gebruiken om onze onderzoeksvragen op te lossen en ze  bevatten veel NaN waarden. "
   ]
  },
  {
   "cell_type": "code",
   "execution_count": 11,
   "metadata": {
    "scrolled": false
   },
   "outputs": [],
   "source": [
    "#kolommen verwijderen \n",
    "df = df.drop(['country'], axis = 1)\n",
    "df = df.drop(['variety'], axis = 1)\n",
    "df = df.drop(['designation'], axis = 1)\n",
    "df = df.drop(['price'], axis = 1)"
   ]
  },
  {
   "cell_type": "markdown",
   "metadata": {},
   "source": [
    "# Onderzoeksvraag 2: Ama"
   ]
  },
  {
   "cell_type": "markdown",
   "metadata": {},
   "source": [
    "**Kunnen we verschillende groepen vinden van de wijnen met een hoge score op base van de chemische samenstelling?**\n",
    "* Toepassing van een unsupervised machine learning\n",
    "* Gebruik van externe dataset\n",
    "\n",
    "Er zal voor deze onderzoeksvraag gebruik maken van clustering en de model k means."
   ]
  },
  {
   "cell_type": "markdown",
   "metadata": {},
   "source": [
    "**Aanpak:**\n",
    "1. Externe dataset loaden bekijken\n",
    "2. boxplot voor elke chemische samenstelling\n",
    "3. Normaliseren \n",
    "4. Model bouwen "
   ]
  },
  {
   "cell_type": "markdown",
   "metadata": {},
   "source": [
    "### Data  analysis\n",
    "*In deze sectie word een analyse uitgevoerd op de dataset en de externe dataset voor onderzoeksvraag 2.\n",
    "\n",
    "We zal eerst de dimensies en de data bekijken van de dataset redwine."
   ]
  },
  {
   "cell_type": "code",
   "execution_count": 12,
   "metadata": {
    "scrolled": true
   },
   "outputs": [
    {
     "data": {
      "text/plain": [
       "(2465, 18)"
      ]
     },
     "execution_count": 12,
     "metadata": {},
     "output_type": "execute_result"
    }
   ],
   "source": [
    "df.shape # Dimensies van de redwine dataset."
   ]
  },
  {
   "cell_type": "code",
   "execution_count": 13,
   "metadata": {
    "scrolled": false
   },
   "outputs": [
    {
     "data": {
      "text/html": [
       "<div>\n",
       "<style scoped>\n",
       "    .dataframe tbody tr th:only-of-type {\n",
       "        vertical-align: middle;\n",
       "    }\n",
       "\n",
       "    .dataframe tbody tr th {\n",
       "        vertical-align: top;\n",
       "    }\n",
       "\n",
       "    .dataframe thead th {\n",
       "        text-align: right;\n",
       "    }\n",
       "</style>\n",
       "<table border=\"1\" class=\"dataframe\">\n",
       "  <thead>\n",
       "    <tr style=\"text-align: right;\">\n",
       "      <th></th>\n",
       "      <th>id</th>\n",
       "      <th>description</th>\n",
       "      <th>points</th>\n",
       "      <th>province</th>\n",
       "      <th>taster_name</th>\n",
       "      <th>title</th>\n",
       "      <th>winery</th>\n",
       "      <th>fixed acidity</th>\n",
       "      <th>volatile acidity</th>\n",
       "      <th>citric acid</th>\n",
       "      <th>residual sugar</th>\n",
       "      <th>chlorides</th>\n",
       "      <th>free sulfur dioxide</th>\n",
       "      <th>total sulfur dioxide</th>\n",
       "      <th>density</th>\n",
       "      <th>pH</th>\n",
       "      <th>sulphates</th>\n",
       "      <th>alcohol</th>\n",
       "    </tr>\n",
       "  </thead>\n",
       "  <tbody>\n",
       "    <tr>\n",
       "      <th>0</th>\n",
       "      <td>1</td>\n",
       "      <td>This is ripe and fruity, a wine that is smooth...</td>\n",
       "      <td>87</td>\n",
       "      <td>Douro</td>\n",
       "      <td>Kerin O’Keefe</td>\n",
       "      <td>Quinta dos Avidagos 2011 Avidagos Red (Douro)</td>\n",
       "      <td>Quinta dos Avidagos</td>\n",
       "      <td>10.0</td>\n",
       "      <td>0.29</td>\n",
       "      <td>0.40</td>\n",
       "      <td>2.9</td>\n",
       "      <td>0.098</td>\n",
       "      <td>10.0</td>\n",
       "      <td>26.0</td>\n",
       "      <td>10.00600</td>\n",
       "      <td>3.48</td>\n",
       "      <td>0.91</td>\n",
       "      <td>9.7</td>\n",
       "    </tr>\n",
       "    <tr>\n",
       "      <th>1</th>\n",
       "      <td>2</td>\n",
       "      <td>From an estate in the south of the Alentejo, t...</td>\n",
       "      <td>91</td>\n",
       "      <td>Alentejano</td>\n",
       "      <td>Roger Voss</td>\n",
       "      <td>Casa Santa Vitória 2013 Grande Reserva Tinto R...</td>\n",
       "      <td>Casa Santa Vitória</td>\n",
       "      <td>8.3</td>\n",
       "      <td>0.26</td>\n",
       "      <td>0.37</td>\n",
       "      <td>1.4</td>\n",
       "      <td>0.076</td>\n",
       "      <td>8.0</td>\n",
       "      <td>23.0</td>\n",
       "      <td>0.99740</td>\n",
       "      <td>3.26</td>\n",
       "      <td>0.70</td>\n",
       "      <td>9.6</td>\n",
       "    </tr>\n",
       "    <tr>\n",
       "      <th>2</th>\n",
       "      <td>3</td>\n",
       "      <td>A year in wood and 30 months in bottle before ...</td>\n",
       "      <td>90</td>\n",
       "      <td>Alentejo</td>\n",
       "      <td>Paul Gregutt</td>\n",
       "      <td>Adega Cooperativa de Borba 2012 Montes Claros ...</td>\n",
       "      <td>Adega Cooperativa de Borba</td>\n",
       "      <td>7.0</td>\n",
       "      <td>0.69</td>\n",
       "      <td>0.07</td>\n",
       "      <td>2.5</td>\n",
       "      <td>0.091</td>\n",
       "      <td>15.0</td>\n",
       "      <td>21.0</td>\n",
       "      <td>0.99572</td>\n",
       "      <td>3.38</td>\n",
       "      <td>0.60</td>\n",
       "      <td>11.3</td>\n",
       "    </tr>\n",
       "    <tr>\n",
       "      <th>3</th>\n",
       "      <td>4</td>\n",
       "      <td>Wood aging gives this ripe blend of Baga and T...</td>\n",
       "      <td>90</td>\n",
       "      <td>Beira Atlantico</td>\n",
       "      <td>Alexander Peartree</td>\n",
       "      <td>Quinta de Foz de Arouce 2013 Red (Beira Atlant...</td>\n",
       "      <td>Quinta de Foz de Arouce</td>\n",
       "      <td>7.0</td>\n",
       "      <td>0.69</td>\n",
       "      <td>0.07</td>\n",
       "      <td>2.5</td>\n",
       "      <td>0.091</td>\n",
       "      <td>15.0</td>\n",
       "      <td>21.0</td>\n",
       "      <td>0.99572</td>\n",
       "      <td>3.38</td>\n",
       "      <td>0.60</td>\n",
       "      <td>11.3</td>\n",
       "    </tr>\n",
       "    <tr>\n",
       "      <th>4</th>\n",
       "      <td>5</td>\n",
       "      <td>A powerful wine, richly structured and full of...</td>\n",
       "      <td>92</td>\n",
       "      <td>Alentejano</td>\n",
       "      <td>Paul Gregutt</td>\n",
       "      <td>Herdade Grande 2010 Gerações Colheita Seleccio...</td>\n",
       "      <td>Herdade Grande</td>\n",
       "      <td>8.0</td>\n",
       "      <td>0.48</td>\n",
       "      <td>0.34</td>\n",
       "      <td>2.2</td>\n",
       "      <td>0.073</td>\n",
       "      <td>16.0</td>\n",
       "      <td>25.0</td>\n",
       "      <td>0.99360</td>\n",
       "      <td>3.28</td>\n",
       "      <td>0.66</td>\n",
       "      <td>12.4</td>\n",
       "    </tr>\n",
       "  </tbody>\n",
       "</table>\n",
       "</div>"
      ],
      "text/plain": [
       "   id                                        description  points  \\\n",
       "0   1  This is ripe and fruity, a wine that is smooth...      87   \n",
       "1   2  From an estate in the south of the Alentejo, t...      91   \n",
       "2   3  A year in wood and 30 months in bottle before ...      90   \n",
       "3   4  Wood aging gives this ripe blend of Baga and T...      90   \n",
       "4   5  A powerful wine, richly structured and full of...      92   \n",
       "\n",
       "          province         taster_name  \\\n",
       "0            Douro       Kerin O’Keefe   \n",
       "1       Alentejano          Roger Voss   \n",
       "2         Alentejo        Paul Gregutt   \n",
       "3  Beira Atlantico  Alexander Peartree   \n",
       "4       Alentejano        Paul Gregutt   \n",
       "\n",
       "                                               title  \\\n",
       "0      Quinta dos Avidagos 2011 Avidagos Red (Douro)   \n",
       "1  Casa Santa Vitória 2013 Grande Reserva Tinto R...   \n",
       "2  Adega Cooperativa de Borba 2012 Montes Claros ...   \n",
       "3  Quinta de Foz de Arouce 2013 Red (Beira Atlant...   \n",
       "4  Herdade Grande 2010 Gerações Colheita Seleccio...   \n",
       "\n",
       "                       winery  fixed acidity  volatile acidity  citric acid  \\\n",
       "0         Quinta dos Avidagos           10.0              0.29         0.40   \n",
       "1          Casa Santa Vitória            8.3              0.26         0.37   \n",
       "2  Adega Cooperativa de Borba            7.0              0.69         0.07   \n",
       "3     Quinta de Foz de Arouce            7.0              0.69         0.07   \n",
       "4              Herdade Grande            8.0              0.48         0.34   \n",
       "\n",
       "   residual sugar  chlorides  free sulfur dioxide  total sulfur dioxide  \\\n",
       "0             2.9      0.098                 10.0                  26.0   \n",
       "1             1.4      0.076                  8.0                  23.0   \n",
       "2             2.5      0.091                 15.0                  21.0   \n",
       "3             2.5      0.091                 15.0                  21.0   \n",
       "4             2.2      0.073                 16.0                  25.0   \n",
       "\n",
       "    density    pH  sulphates  alcohol  \n",
       "0  10.00600  3.48       0.91      9.7  \n",
       "1   0.99740  3.26       0.70      9.6  \n",
       "2   0.99572  3.38       0.60     11.3  \n",
       "3   0.99572  3.38       0.60     11.3  \n",
       "4   0.99360  3.28       0.66     12.4  "
      ]
     },
     "execution_count": 13,
     "metadata": {},
     "output_type": "execute_result"
    }
   ],
   "source": [
    "df.head() # dataset redwine even bekijken"
   ]
  },
  {
   "cell_type": "markdown",
   "metadata": {},
   "source": [
    "Vervolgens gaan we de externe dataset loaden verkennen.  <br>\n",
    "De externe dataset geeft aan de chemische samenstelling van witte varianten van de Portuguese \"Vinho Verde\" wijn."
   ]
  },
  {
   "cell_type": "code",
   "execution_count": 14,
   "metadata": {},
   "outputs": [
    {
     "data": {
      "text/html": [
       "<div>\n",
       "<style scoped>\n",
       "    .dataframe tbody tr th:only-of-type {\n",
       "        vertical-align: middle;\n",
       "    }\n",
       "\n",
       "    .dataframe tbody tr th {\n",
       "        vertical-align: top;\n",
       "    }\n",
       "\n",
       "    .dataframe thead th {\n",
       "        text-align: right;\n",
       "    }\n",
       "</style>\n",
       "<table border=\"1\" class=\"dataframe\">\n",
       "  <thead>\n",
       "    <tr style=\"text-align: right;\">\n",
       "      <th></th>\n",
       "      <th>fixed acidity</th>\n",
       "      <th>volatile acidity</th>\n",
       "      <th>citric acid</th>\n",
       "      <th>residual sugar</th>\n",
       "      <th>chlorides</th>\n",
       "      <th>free sulfur dioxide</th>\n",
       "      <th>total sulfur dioxide</th>\n",
       "      <th>density</th>\n",
       "      <th>pH</th>\n",
       "      <th>sulphates</th>\n",
       "      <th>alcohol</th>\n",
       "      <th>quality</th>\n",
       "    </tr>\n",
       "  </thead>\n",
       "  <tbody>\n",
       "    <tr>\n",
       "      <th>0</th>\n",
       "      <td>7.0</td>\n",
       "      <td>0.27</td>\n",
       "      <td>0.36</td>\n",
       "      <td>20.7</td>\n",
       "      <td>0.045</td>\n",
       "      <td>45.0</td>\n",
       "      <td>170.0</td>\n",
       "      <td>1.0010</td>\n",
       "      <td>3.00</td>\n",
       "      <td>0.45</td>\n",
       "      <td>8.8</td>\n",
       "      <td>6</td>\n",
       "    </tr>\n",
       "    <tr>\n",
       "      <th>1</th>\n",
       "      <td>6.3</td>\n",
       "      <td>0.30</td>\n",
       "      <td>0.34</td>\n",
       "      <td>1.6</td>\n",
       "      <td>0.049</td>\n",
       "      <td>14.0</td>\n",
       "      <td>132.0</td>\n",
       "      <td>0.9940</td>\n",
       "      <td>3.30</td>\n",
       "      <td>0.49</td>\n",
       "      <td>9.5</td>\n",
       "      <td>6</td>\n",
       "    </tr>\n",
       "    <tr>\n",
       "      <th>2</th>\n",
       "      <td>8.1</td>\n",
       "      <td>0.28</td>\n",
       "      <td>0.40</td>\n",
       "      <td>6.9</td>\n",
       "      <td>0.050</td>\n",
       "      <td>30.0</td>\n",
       "      <td>97.0</td>\n",
       "      <td>0.9951</td>\n",
       "      <td>3.26</td>\n",
       "      <td>0.44</td>\n",
       "      <td>10.1</td>\n",
       "      <td>6</td>\n",
       "    </tr>\n",
       "    <tr>\n",
       "      <th>3</th>\n",
       "      <td>7.2</td>\n",
       "      <td>0.23</td>\n",
       "      <td>0.32</td>\n",
       "      <td>8.5</td>\n",
       "      <td>0.058</td>\n",
       "      <td>47.0</td>\n",
       "      <td>186.0</td>\n",
       "      <td>0.9956</td>\n",
       "      <td>3.19</td>\n",
       "      <td>0.40</td>\n",
       "      <td>9.9</td>\n",
       "      <td>6</td>\n",
       "    </tr>\n",
       "    <tr>\n",
       "      <th>4</th>\n",
       "      <td>7.2</td>\n",
       "      <td>0.23</td>\n",
       "      <td>0.32</td>\n",
       "      <td>8.5</td>\n",
       "      <td>0.058</td>\n",
       "      <td>47.0</td>\n",
       "      <td>186.0</td>\n",
       "      <td>0.9956</td>\n",
       "      <td>3.19</td>\n",
       "      <td>0.40</td>\n",
       "      <td>9.9</td>\n",
       "      <td>6</td>\n",
       "    </tr>\n",
       "  </tbody>\n",
       "</table>\n",
       "</div>"
      ],
      "text/plain": [
       "   fixed acidity  volatile acidity  citric acid  residual sugar  chlorides  \\\n",
       "0            7.0              0.27         0.36            20.7      0.045   \n",
       "1            6.3              0.30         0.34             1.6      0.049   \n",
       "2            8.1              0.28         0.40             6.9      0.050   \n",
       "3            7.2              0.23         0.32             8.5      0.058   \n",
       "4            7.2              0.23         0.32             8.5      0.058   \n",
       "\n",
       "   free sulfur dioxide  total sulfur dioxide  density    pH  sulphates  \\\n",
       "0                 45.0                 170.0   1.0010  3.00       0.45   \n",
       "1                 14.0                 132.0   0.9940  3.30       0.49   \n",
       "2                 30.0                  97.0   0.9951  3.26       0.44   \n",
       "3                 47.0                 186.0   0.9956  3.19       0.40   \n",
       "4                 47.0                 186.0   0.9956  3.19       0.40   \n",
       "\n",
       "   alcohol  quality  \n",
       "0      8.8        6  \n",
       "1      9.5        6  \n",
       "2     10.1        6  \n",
       "3      9.9        6  \n",
       "4      9.9        6  "
      ]
     },
     "execution_count": 14,
     "metadata": {},
     "output_type": "execute_result"
    }
   ],
   "source": [
    "#load externe dataset.\n",
    "whiteWine = pd.read_csv('winequality-white.csv', delimiter = ';')\n",
    "whiteWine.head()"
   ]
  },
  {
   "cell_type": "code",
   "execution_count": 15,
   "metadata": {},
   "outputs": [
    {
     "data": {
      "text/plain": [
       "(4898, 12)"
      ]
     },
     "execution_count": 15,
     "metadata": {},
     "output_type": "execute_result"
    }
   ],
   "source": [
    "whiteWine.shape # er zijn 4898 rijen en 12 kolommen "
   ]
  },
  {
   "cell_type": "code",
   "execution_count": 16,
   "metadata": {
    "scrolled": true
   },
   "outputs": [
    {
     "data": {
      "text/html": [
       "<div>\n",
       "<style scoped>\n",
       "    .dataframe tbody tr th:only-of-type {\n",
       "        vertical-align: middle;\n",
       "    }\n",
       "\n",
       "    .dataframe tbody tr th {\n",
       "        vertical-align: top;\n",
       "    }\n",
       "\n",
       "    .dataframe thead th {\n",
       "        text-align: right;\n",
       "    }\n",
       "</style>\n",
       "<table border=\"1\" class=\"dataframe\">\n",
       "  <thead>\n",
       "    <tr style=\"text-align: right;\">\n",
       "      <th></th>\n",
       "      <th>fixed acidity</th>\n",
       "      <th>volatile acidity</th>\n",
       "      <th>citric acid</th>\n",
       "      <th>residual sugar</th>\n",
       "      <th>chlorides</th>\n",
       "      <th>free sulfur dioxide</th>\n",
       "      <th>total sulfur dioxide</th>\n",
       "      <th>density</th>\n",
       "      <th>pH</th>\n",
       "      <th>sulphates</th>\n",
       "      <th>alcohol</th>\n",
       "      <th>quality</th>\n",
       "    </tr>\n",
       "  </thead>\n",
       "  <tbody>\n",
       "    <tr>\n",
       "      <th>count</th>\n",
       "      <td>4898.000000</td>\n",
       "      <td>4898.000000</td>\n",
       "      <td>4898.000000</td>\n",
       "      <td>4898.000000</td>\n",
       "      <td>4898.000000</td>\n",
       "      <td>4898.000000</td>\n",
       "      <td>4898.000000</td>\n",
       "      <td>4898.000000</td>\n",
       "      <td>4898.000000</td>\n",
       "      <td>4898.000000</td>\n",
       "      <td>4898.000000</td>\n",
       "      <td>4898.000000</td>\n",
       "    </tr>\n",
       "    <tr>\n",
       "      <th>mean</th>\n",
       "      <td>6.854788</td>\n",
       "      <td>0.278241</td>\n",
       "      <td>0.334192</td>\n",
       "      <td>6.391415</td>\n",
       "      <td>0.045772</td>\n",
       "      <td>35.308085</td>\n",
       "      <td>138.360657</td>\n",
       "      <td>0.994027</td>\n",
       "      <td>3.188267</td>\n",
       "      <td>0.489847</td>\n",
       "      <td>10.514267</td>\n",
       "      <td>5.877909</td>\n",
       "    </tr>\n",
       "    <tr>\n",
       "      <th>std</th>\n",
       "      <td>0.843868</td>\n",
       "      <td>0.100795</td>\n",
       "      <td>0.121020</td>\n",
       "      <td>5.072058</td>\n",
       "      <td>0.021848</td>\n",
       "      <td>17.007137</td>\n",
       "      <td>42.498065</td>\n",
       "      <td>0.002991</td>\n",
       "      <td>0.151001</td>\n",
       "      <td>0.114126</td>\n",
       "      <td>1.230621</td>\n",
       "      <td>0.885639</td>\n",
       "    </tr>\n",
       "    <tr>\n",
       "      <th>min</th>\n",
       "      <td>3.800000</td>\n",
       "      <td>0.080000</td>\n",
       "      <td>0.000000</td>\n",
       "      <td>0.600000</td>\n",
       "      <td>0.009000</td>\n",
       "      <td>2.000000</td>\n",
       "      <td>9.000000</td>\n",
       "      <td>0.987110</td>\n",
       "      <td>2.720000</td>\n",
       "      <td>0.220000</td>\n",
       "      <td>8.000000</td>\n",
       "      <td>3.000000</td>\n",
       "    </tr>\n",
       "    <tr>\n",
       "      <th>25%</th>\n",
       "      <td>6.300000</td>\n",
       "      <td>0.210000</td>\n",
       "      <td>0.270000</td>\n",
       "      <td>1.700000</td>\n",
       "      <td>0.036000</td>\n",
       "      <td>23.000000</td>\n",
       "      <td>108.000000</td>\n",
       "      <td>0.991723</td>\n",
       "      <td>3.090000</td>\n",
       "      <td>0.410000</td>\n",
       "      <td>9.500000</td>\n",
       "      <td>5.000000</td>\n",
       "    </tr>\n",
       "    <tr>\n",
       "      <th>50%</th>\n",
       "      <td>6.800000</td>\n",
       "      <td>0.260000</td>\n",
       "      <td>0.320000</td>\n",
       "      <td>5.200000</td>\n",
       "      <td>0.043000</td>\n",
       "      <td>34.000000</td>\n",
       "      <td>134.000000</td>\n",
       "      <td>0.993740</td>\n",
       "      <td>3.180000</td>\n",
       "      <td>0.470000</td>\n",
       "      <td>10.400000</td>\n",
       "      <td>6.000000</td>\n",
       "    </tr>\n",
       "    <tr>\n",
       "      <th>75%</th>\n",
       "      <td>7.300000</td>\n",
       "      <td>0.320000</td>\n",
       "      <td>0.390000</td>\n",
       "      <td>9.900000</td>\n",
       "      <td>0.050000</td>\n",
       "      <td>46.000000</td>\n",
       "      <td>167.000000</td>\n",
       "      <td>0.996100</td>\n",
       "      <td>3.280000</td>\n",
       "      <td>0.550000</td>\n",
       "      <td>11.400000</td>\n",
       "      <td>6.000000</td>\n",
       "    </tr>\n",
       "    <tr>\n",
       "      <th>max</th>\n",
       "      <td>14.200000</td>\n",
       "      <td>1.100000</td>\n",
       "      <td>1.660000</td>\n",
       "      <td>65.800000</td>\n",
       "      <td>0.346000</td>\n",
       "      <td>289.000000</td>\n",
       "      <td>440.000000</td>\n",
       "      <td>1.038980</td>\n",
       "      <td>3.820000</td>\n",
       "      <td>1.080000</td>\n",
       "      <td>14.200000</td>\n",
       "      <td>9.000000</td>\n",
       "    </tr>\n",
       "  </tbody>\n",
       "</table>\n",
       "</div>"
      ],
      "text/plain": [
       "       fixed acidity  volatile acidity  citric acid  residual sugar  \\\n",
       "count    4898.000000       4898.000000  4898.000000     4898.000000   \n",
       "mean        6.854788          0.278241     0.334192        6.391415   \n",
       "std         0.843868          0.100795     0.121020        5.072058   \n",
       "min         3.800000          0.080000     0.000000        0.600000   \n",
       "25%         6.300000          0.210000     0.270000        1.700000   \n",
       "50%         6.800000          0.260000     0.320000        5.200000   \n",
       "75%         7.300000          0.320000     0.390000        9.900000   \n",
       "max        14.200000          1.100000     1.660000       65.800000   \n",
       "\n",
       "         chlorides  free sulfur dioxide  total sulfur dioxide      density  \\\n",
       "count  4898.000000          4898.000000           4898.000000  4898.000000   \n",
       "mean      0.045772            35.308085            138.360657     0.994027   \n",
       "std       0.021848            17.007137             42.498065     0.002991   \n",
       "min       0.009000             2.000000              9.000000     0.987110   \n",
       "25%       0.036000            23.000000            108.000000     0.991723   \n",
       "50%       0.043000            34.000000            134.000000     0.993740   \n",
       "75%       0.050000            46.000000            167.000000     0.996100   \n",
       "max       0.346000           289.000000            440.000000     1.038980   \n",
       "\n",
       "                pH    sulphates      alcohol      quality  \n",
       "count  4898.000000  4898.000000  4898.000000  4898.000000  \n",
       "mean      3.188267     0.489847    10.514267     5.877909  \n",
       "std       0.151001     0.114126     1.230621     0.885639  \n",
       "min       2.720000     0.220000     8.000000     3.000000  \n",
       "25%       3.090000     0.410000     9.500000     5.000000  \n",
       "50%       3.180000     0.470000    10.400000     6.000000  \n",
       "75%       3.280000     0.550000    11.400000     6.000000  \n",
       "max       3.820000     1.080000    14.200000     9.000000  "
      ]
     },
     "execution_count": 16,
     "metadata": {},
     "output_type": "execute_result"
    }
   ],
   "source": [
    "whiteWine.describe(include = 'all') # attributen bekijken van whiteWine"
   ]
  },
  {
   "cell_type": "code",
   "execution_count": 17,
   "metadata": {},
   "outputs": [
    {
     "data": {
      "text/plain": [
       "fixed acidity           0\n",
       "volatile acidity        0\n",
       "citric acid             0\n",
       "residual sugar          0\n",
       "chlorides               0\n",
       "free sulfur dioxide     0\n",
       "total sulfur dioxide    0\n",
       "density                 0\n",
       "pH                      0\n",
       "sulphates               0\n",
       "alcohol                 0\n",
       "quality                 0\n",
       "dtype: int64"
      ]
     },
     "execution_count": 17,
     "metadata": {},
     "output_type": "execute_result"
    }
   ],
   "source": [
    "whiteWine.isnull().sum() # er zijn geen missende waardes "
   ]
  },
  {
   "cell_type": "code",
   "execution_count": 18,
   "metadata": {},
   "outputs": [
    {
     "data": {
      "text/plain": [
       "fixed acidity           float64\n",
       "volatile acidity        float64\n",
       "citric acid             float64\n",
       "residual sugar          float64\n",
       "chlorides               float64\n",
       "free sulfur dioxide     float64\n",
       "total sulfur dioxide    float64\n",
       "density                 float64\n",
       "pH                      float64\n",
       "sulphates               float64\n",
       "alcohol                 float64\n",
       "quality                   int64\n",
       "dtype: object"
      ]
     },
     "execution_count": 18,
     "metadata": {},
     "output_type": "execute_result"
    }
   ],
   "source": [
    "whiteWine.dtypes"
   ]
  },
  {
   "cell_type": "markdown",
   "metadata": {},
   "source": [
    "Er zijn 4898 rijen en 12 kolommen in de dataset whiteWine.  <br>\n",
    "Bovendien is de dataset schoon , want de datatypes klopten en de features bevatten geen missende waardes."
   ]
  },
  {
   "cell_type": "markdown",
   "metadata": {},
   "source": [
    "Aan de hand van de boxplotten zie we dat de waardes van de feautures zeer divers zijn en voor problemen kunnen zorgen wanneer we gaan weken met afstandsmaten."
   ]
  },
  {
   "cell_type": "code",
   "execution_count": 19,
   "metadata": {},
   "outputs": [
    {
     "data": {
      "text/plain": [
       "count    4898.000000\n",
       "mean        5.877909\n",
       "std         0.885639\n",
       "min         3.000000\n",
       "25%         5.000000\n",
       "50%         6.000000\n",
       "75%         6.000000\n",
       "max         9.000000\n",
       "Name: quality, dtype: float64"
      ]
     },
     "execution_count": 19,
     "metadata": {},
     "output_type": "execute_result"
    }
   ],
   "source": [
    "whiteWine['quality'].describe()"
   ]
  },
  {
   "cell_type": "code",
   "execution_count": 20,
   "metadata": {},
   "outputs": [
    {
     "data": {
      "text/html": [
       "<div>\n",
       "<style scoped>\n",
       "    .dataframe tbody tr th:only-of-type {\n",
       "        vertical-align: middle;\n",
       "    }\n",
       "\n",
       "    .dataframe tbody tr th {\n",
       "        vertical-align: top;\n",
       "    }\n",
       "\n",
       "    .dataframe thead th {\n",
       "        text-align: right;\n",
       "    }\n",
       "</style>\n",
       "<table border=\"1\" class=\"dataframe\">\n",
       "  <thead>\n",
       "    <tr style=\"text-align: right;\">\n",
       "      <th></th>\n",
       "      <th>fixed acidity</th>\n",
       "      <th>volatile acidity</th>\n",
       "      <th>citric acid</th>\n",
       "      <th>residual sugar</th>\n",
       "      <th>chlorides</th>\n",
       "      <th>free sulfur dioxide</th>\n",
       "      <th>total sulfur dioxide</th>\n",
       "      <th>density</th>\n",
       "      <th>pH</th>\n",
       "      <th>sulphates</th>\n",
       "      <th>alcohol</th>\n",
       "      <th>qualityscore</th>\n",
       "    </tr>\n",
       "  </thead>\n",
       "  <tbody>\n",
       "    <tr>\n",
       "      <th>0</th>\n",
       "      <td>7.0</td>\n",
       "      <td>0.27</td>\n",
       "      <td>0.36</td>\n",
       "      <td>20.7</td>\n",
       "      <td>0.045</td>\n",
       "      <td>45.0</td>\n",
       "      <td>170.0</td>\n",
       "      <td>1.0010</td>\n",
       "      <td>3.00</td>\n",
       "      <td>0.45</td>\n",
       "      <td>8.8</td>\n",
       "      <td>6</td>\n",
       "    </tr>\n",
       "    <tr>\n",
       "      <th>1</th>\n",
       "      <td>6.3</td>\n",
       "      <td>0.30</td>\n",
       "      <td>0.34</td>\n",
       "      <td>1.6</td>\n",
       "      <td>0.049</td>\n",
       "      <td>14.0</td>\n",
       "      <td>132.0</td>\n",
       "      <td>0.9940</td>\n",
       "      <td>3.30</td>\n",
       "      <td>0.49</td>\n",
       "      <td>9.5</td>\n",
       "      <td>6</td>\n",
       "    </tr>\n",
       "    <tr>\n",
       "      <th>2</th>\n",
       "      <td>8.1</td>\n",
       "      <td>0.28</td>\n",
       "      <td>0.40</td>\n",
       "      <td>6.9</td>\n",
       "      <td>0.050</td>\n",
       "      <td>30.0</td>\n",
       "      <td>97.0</td>\n",
       "      <td>0.9951</td>\n",
       "      <td>3.26</td>\n",
       "      <td>0.44</td>\n",
       "      <td>10.1</td>\n",
       "      <td>6</td>\n",
       "    </tr>\n",
       "    <tr>\n",
       "      <th>3</th>\n",
       "      <td>7.2</td>\n",
       "      <td>0.23</td>\n",
       "      <td>0.32</td>\n",
       "      <td>8.5</td>\n",
       "      <td>0.058</td>\n",
       "      <td>47.0</td>\n",
       "      <td>186.0</td>\n",
       "      <td>0.9956</td>\n",
       "      <td>3.19</td>\n",
       "      <td>0.40</td>\n",
       "      <td>9.9</td>\n",
       "      <td>6</td>\n",
       "    </tr>\n",
       "    <tr>\n",
       "      <th>4</th>\n",
       "      <td>7.2</td>\n",
       "      <td>0.23</td>\n",
       "      <td>0.32</td>\n",
       "      <td>8.5</td>\n",
       "      <td>0.058</td>\n",
       "      <td>47.0</td>\n",
       "      <td>186.0</td>\n",
       "      <td>0.9956</td>\n",
       "      <td>3.19</td>\n",
       "      <td>0.40</td>\n",
       "      <td>9.9</td>\n",
       "      <td>6</td>\n",
       "    </tr>\n",
       "  </tbody>\n",
       "</table>\n",
       "</div>"
      ],
      "text/plain": [
       "   fixed acidity  volatile acidity  citric acid  residual sugar  chlorides  \\\n",
       "0            7.0              0.27         0.36            20.7      0.045   \n",
       "1            6.3              0.30         0.34             1.6      0.049   \n",
       "2            8.1              0.28         0.40             6.9      0.050   \n",
       "3            7.2              0.23         0.32             8.5      0.058   \n",
       "4            7.2              0.23         0.32             8.5      0.058   \n",
       "\n",
       "   free sulfur dioxide  total sulfur dioxide  density    pH  sulphates  \\\n",
       "0                 45.0                 170.0   1.0010  3.00       0.45   \n",
       "1                 14.0                 132.0   0.9940  3.30       0.49   \n",
       "2                 30.0                  97.0   0.9951  3.26       0.44   \n",
       "3                 47.0                 186.0   0.9956  3.19       0.40   \n",
       "4                 47.0                 186.0   0.9956  3.19       0.40   \n",
       "\n",
       "   alcohol  qualityscore  \n",
       "0      8.8             6  \n",
       "1      9.5             6  \n",
       "2     10.1             6  \n",
       "3      9.9             6  \n",
       "4      9.9             6  "
      ]
     },
     "execution_count": 20,
     "metadata": {},
     "output_type": "execute_result"
    }
   ],
   "source": [
    "# verandert column name quality naar qualityscore om het makkelere te maken met het mergen van de twee datasets\n",
    "whiteWine = whiteWine.rename(columns = {'quality':'qualityscore'})\n",
    "whiteWine.head()"
   ]
  },
  {
   "cell_type": "markdown",
   "metadata": {},
   "source": [
    "**Normaliseren** "
   ]
  },
  {
   "cell_type": "markdown",
   "metadata": {},
   "source": [
    "We gaan daarom de features normaliseren door middel van de z-score.\n",
    "Z-score betkent dat we van een bepaalde normaalverdeling naar een standaard normaalverdeling gaat, waar de gemiddelde gelijk aan 0 is en de standaarddeviatie gelijk aan 1 is.\n",
    "\n",
    "De z-score kunnen we berekenen:\n",
    "𝑧𝑖= 𝑥𝑖− μ / 𝜎\n",
    "\n",
    "    zi = z score\n",
    "    x = waarde van kolom x\n",
    "    μ = gemiddelde waarde van kolom x\n",
    "    𝜎 = standaarddeviatie van kolom x"
   ]
  },
  {
   "cell_type": "code",
   "execution_count": 21,
   "metadata": {},
   "outputs": [
    {
     "data": {
      "text/html": [
       "<div>\n",
       "<style scoped>\n",
       "    .dataframe tbody tr th:only-of-type {\n",
       "        vertical-align: middle;\n",
       "    }\n",
       "\n",
       "    .dataframe tbody tr th {\n",
       "        vertical-align: top;\n",
       "    }\n",
       "\n",
       "    .dataframe thead th {\n",
       "        text-align: right;\n",
       "    }\n",
       "</style>\n",
       "<table border=\"1\" class=\"dataframe\">\n",
       "  <thead>\n",
       "    <tr style=\"text-align: right;\">\n",
       "      <th></th>\n",
       "      <th>fixed acidity</th>\n",
       "      <th>volatile acidity</th>\n",
       "      <th>citric acid</th>\n",
       "      <th>residual sugar</th>\n",
       "      <th>chlorides</th>\n",
       "      <th>free sulfur dioxide</th>\n",
       "      <th>total sulfur dioxide</th>\n",
       "      <th>density</th>\n",
       "      <th>pH</th>\n",
       "      <th>sulphates</th>\n",
       "      <th>alcohol</th>\n",
       "      <th>qualityscore</th>\n",
       "    </tr>\n",
       "  </thead>\n",
       "  <tbody>\n",
       "    <tr>\n",
       "      <th>0</th>\n",
       "      <td>0.172079</td>\n",
       "      <td>-0.081762</td>\n",
       "      <td>0.213258</td>\n",
       "      <td>2.821061</td>\n",
       "      <td>-0.035351</td>\n",
       "      <td>0.569873</td>\n",
       "      <td>0.744489</td>\n",
       "      <td>2.331274</td>\n",
       "      <td>-1.246794</td>\n",
       "      <td>-0.349149</td>\n",
       "      <td>-1.393010</td>\n",
       "      <td>0.137856</td>\n",
       "    </tr>\n",
       "    <tr>\n",
       "      <th>1</th>\n",
       "      <td>-0.657434</td>\n",
       "      <td>0.215874</td>\n",
       "      <td>0.047996</td>\n",
       "      <td>-0.944669</td>\n",
       "      <td>0.147732</td>\n",
       "      <td>-1.252891</td>\n",
       "      <td>-0.149669</td>\n",
       "      <td>-0.009153</td>\n",
       "      <td>0.739953</td>\n",
       "      <td>0.001342</td>\n",
       "      <td>-0.824192</td>\n",
       "      <td>0.137856</td>\n",
       "    </tr>\n",
       "    <tr>\n",
       "      <th>2</th>\n",
       "      <td>1.475600</td>\n",
       "      <td>0.017450</td>\n",
       "      <td>0.543783</td>\n",
       "      <td>0.100272</td>\n",
       "      <td>0.193503</td>\n",
       "      <td>-0.312109</td>\n",
       "      <td>-0.973236</td>\n",
       "      <td>0.358628</td>\n",
       "      <td>0.475053</td>\n",
       "      <td>-0.436771</td>\n",
       "      <td>-0.336633</td>\n",
       "      <td>0.137856</td>\n",
       "    </tr>\n",
       "    <tr>\n",
       "      <th>3</th>\n",
       "      <td>0.409083</td>\n",
       "      <td>-0.478608</td>\n",
       "      <td>-0.117266</td>\n",
       "      <td>0.415726</td>\n",
       "      <td>0.559670</td>\n",
       "      <td>0.687471</td>\n",
       "      <td>1.120977</td>\n",
       "      <td>0.525802</td>\n",
       "      <td>0.011479</td>\n",
       "      <td>-0.787262</td>\n",
       "      <td>-0.499152</td>\n",
       "      <td>0.137856</td>\n",
       "    </tr>\n",
       "    <tr>\n",
       "      <th>4</th>\n",
       "      <td>0.409083</td>\n",
       "      <td>-0.478608</td>\n",
       "      <td>-0.117266</td>\n",
       "      <td>0.415726</td>\n",
       "      <td>0.559670</td>\n",
       "      <td>0.687471</td>\n",
       "      <td>1.120977</td>\n",
       "      <td>0.525802</td>\n",
       "      <td>0.011479</td>\n",
       "      <td>-0.787262</td>\n",
       "      <td>-0.499152</td>\n",
       "      <td>0.137856</td>\n",
       "    </tr>\n",
       "  </tbody>\n",
       "</table>\n",
       "</div>"
      ],
      "text/plain": [
       "   fixed acidity  volatile acidity  citric acid  residual sugar  chlorides  \\\n",
       "0       0.172079         -0.081762     0.213258        2.821061  -0.035351   \n",
       "1      -0.657434          0.215874     0.047996       -0.944669   0.147732   \n",
       "2       1.475600          0.017450     0.543783        0.100272   0.193503   \n",
       "3       0.409083         -0.478608    -0.117266        0.415726   0.559670   \n",
       "4       0.409083         -0.478608    -0.117266        0.415726   0.559670   \n",
       "\n",
       "   free sulfur dioxide  total sulfur dioxide   density        pH  sulphates  \\\n",
       "0             0.569873              0.744489  2.331274 -1.246794  -0.349149   \n",
       "1            -1.252891             -0.149669 -0.009153  0.739953   0.001342   \n",
       "2            -0.312109             -0.973236  0.358628  0.475053  -0.436771   \n",
       "3             0.687471              1.120977  0.525802  0.011479  -0.787262   \n",
       "4             0.687471              1.120977  0.525802  0.011479  -0.787262   \n",
       "\n",
       "    alcohol  qualityscore  \n",
       "0 -1.393010      0.137856  \n",
       "1 -0.824192      0.137856  \n",
       "2 -0.336633      0.137856  \n",
       "3 -0.499152      0.137856  \n",
       "4 -0.499152      0.137856  "
      ]
     },
     "execution_count": 21,
     "metadata": {},
     "output_type": "execute_result"
    }
   ],
   "source": [
    "# whiteWine normaliseren \n",
    "whitenorm = pd.DataFrame()\n",
    "for col in list(whiteWine.columns):\n",
    "    whitenorm[col] = (whiteWine[col]-whiteWine[col].mean())/whiteWine[col].std()\n",
    "whitenorm.head()"
   ]
  },
  {
   "cell_type": "markdown",
   "metadata": {},
   "source": [
    "Bepaal wat de feature variabelen \n",
    "Doordat er wordt gebruik maken va unsupervised learning , dan weten dat er geen target variabel is."
   ]
  },
  {
   "cell_type": "code",
   "execution_count": 22,
   "metadata": {},
   "outputs": [
    {
     "data": {
      "text/html": [
       "<div>\n",
       "<style scoped>\n",
       "    .dataframe tbody tr th:only-of-type {\n",
       "        vertical-align: middle;\n",
       "    }\n",
       "\n",
       "    .dataframe tbody tr th {\n",
       "        vertical-align: top;\n",
       "    }\n",
       "\n",
       "    .dataframe thead th {\n",
       "        text-align: right;\n",
       "    }\n",
       "</style>\n",
       "<table border=\"1\" class=\"dataframe\">\n",
       "  <thead>\n",
       "    <tr style=\"text-align: right;\">\n",
       "      <th></th>\n",
       "      <th>fixed acidity</th>\n",
       "      <th>volatile acidity</th>\n",
       "      <th>citric acid</th>\n",
       "      <th>residual sugar</th>\n",
       "      <th>chlorides</th>\n",
       "      <th>free sulfur dioxide</th>\n",
       "      <th>total sulfur dioxide</th>\n",
       "      <th>density</th>\n",
       "      <th>pH</th>\n",
       "      <th>sulphates</th>\n",
       "      <th>alcohol</th>\n",
       "      <th>qualityscore</th>\n",
       "    </tr>\n",
       "  </thead>\n",
       "  <tbody>\n",
       "    <tr>\n",
       "      <th>0</th>\n",
       "      <td>10.0</td>\n",
       "      <td>0.29</td>\n",
       "      <td>0.40</td>\n",
       "      <td>2.9</td>\n",
       "      <td>0.098</td>\n",
       "      <td>10.0</td>\n",
       "      <td>26.0</td>\n",
       "      <td>10.00600</td>\n",
       "      <td>3.48</td>\n",
       "      <td>0.91</td>\n",
       "      <td>9.7</td>\n",
       "      <td>87</td>\n",
       "    </tr>\n",
       "    <tr>\n",
       "      <th>1</th>\n",
       "      <td>8.3</td>\n",
       "      <td>0.26</td>\n",
       "      <td>0.37</td>\n",
       "      <td>1.4</td>\n",
       "      <td>0.076</td>\n",
       "      <td>8.0</td>\n",
       "      <td>23.0</td>\n",
       "      <td>0.99740</td>\n",
       "      <td>3.26</td>\n",
       "      <td>0.70</td>\n",
       "      <td>9.6</td>\n",
       "      <td>91</td>\n",
       "    </tr>\n",
       "    <tr>\n",
       "      <th>2</th>\n",
       "      <td>7.0</td>\n",
       "      <td>0.69</td>\n",
       "      <td>0.07</td>\n",
       "      <td>2.5</td>\n",
       "      <td>0.091</td>\n",
       "      <td>15.0</td>\n",
       "      <td>21.0</td>\n",
       "      <td>0.99572</td>\n",
       "      <td>3.38</td>\n",
       "      <td>0.60</td>\n",
       "      <td>11.3</td>\n",
       "      <td>90</td>\n",
       "    </tr>\n",
       "    <tr>\n",
       "      <th>3</th>\n",
       "      <td>7.0</td>\n",
       "      <td>0.69</td>\n",
       "      <td>0.07</td>\n",
       "      <td>2.5</td>\n",
       "      <td>0.091</td>\n",
       "      <td>15.0</td>\n",
       "      <td>21.0</td>\n",
       "      <td>0.99572</td>\n",
       "      <td>3.38</td>\n",
       "      <td>0.60</td>\n",
       "      <td>11.3</td>\n",
       "      <td>90</td>\n",
       "    </tr>\n",
       "    <tr>\n",
       "      <th>4</th>\n",
       "      <td>8.0</td>\n",
       "      <td>0.48</td>\n",
       "      <td>0.34</td>\n",
       "      <td>2.2</td>\n",
       "      <td>0.073</td>\n",
       "      <td>16.0</td>\n",
       "      <td>25.0</td>\n",
       "      <td>0.99360</td>\n",
       "      <td>3.28</td>\n",
       "      <td>0.66</td>\n",
       "      <td>12.4</td>\n",
       "      <td>92</td>\n",
       "    </tr>\n",
       "  </tbody>\n",
       "</table>\n",
       "</div>"
      ],
      "text/plain": [
       "   fixed acidity  volatile acidity  citric acid  residual sugar  chlorides  \\\n",
       "0           10.0              0.29         0.40             2.9      0.098   \n",
       "1            8.3              0.26         0.37             1.4      0.076   \n",
       "2            7.0              0.69         0.07             2.5      0.091   \n",
       "3            7.0              0.69         0.07             2.5      0.091   \n",
       "4            8.0              0.48         0.34             2.2      0.073   \n",
       "\n",
       "   free sulfur dioxide  total sulfur dioxide   density    pH  sulphates  \\\n",
       "0                 10.0                  26.0  10.00600  3.48       0.91   \n",
       "1                  8.0                  23.0   0.99740  3.26       0.70   \n",
       "2                 15.0                  21.0   0.99572  3.38       0.60   \n",
       "3                 15.0                  21.0   0.99572  3.38       0.60   \n",
       "4                 16.0                  25.0   0.99360  3.28       0.66   \n",
       "\n",
       "   alcohol  qualityscore  \n",
       "0      9.7            87  \n",
       "1      9.6            91  \n",
       "2     11.3            90  \n",
       "3     11.3            90  \n",
       "4     12.4            92  "
      ]
     },
     "execution_count": 22,
     "metadata": {},
     "output_type": "execute_result"
    }
   ],
   "source": [
    "#Voor deze dataset zullen we gaan kijken naar de chemische samenstelling van de wijnen \n",
    "redfeat = df.loc[:, 'fixed acidity':]\n",
    "redfeat['qualityscore'] = df['points']\n",
    "redfeat.head()"
   ]
  },
  {
   "cell_type": "code",
   "execution_count": 23,
   "metadata": {},
   "outputs": [
    {
     "data": {
      "text/plain": [
       "fixed acidity           float64\n",
       "volatile acidity        float64\n",
       "citric acid             float64\n",
       "residual sugar          float64\n",
       "chlorides               float64\n",
       "free sulfur dioxide     float64\n",
       "total sulfur dioxide    float64\n",
       "density                 float64\n",
       "pH                      float64\n",
       "sulphates               float64\n",
       "alcohol                 float64\n",
       "qualityscore              int64\n",
       "dtype: object"
      ]
     },
     "execution_count": 23,
     "metadata": {},
     "output_type": "execute_result"
    }
   ],
   "source": [
    "redfeat.dtypes"
   ]
  },
  {
   "cell_type": "code",
   "execution_count": 24,
   "metadata": {},
   "outputs": [
    {
     "data": {
      "text/html": [
       "<div>\n",
       "<style scoped>\n",
       "    .dataframe tbody tr th:only-of-type {\n",
       "        vertical-align: middle;\n",
       "    }\n",
       "\n",
       "    .dataframe tbody tr th {\n",
       "        vertical-align: top;\n",
       "    }\n",
       "\n",
       "    .dataframe thead th {\n",
       "        text-align: right;\n",
       "    }\n",
       "</style>\n",
       "<table border=\"1\" class=\"dataframe\">\n",
       "  <thead>\n",
       "    <tr style=\"text-align: right;\">\n",
       "      <th></th>\n",
       "      <th>fixed acidity</th>\n",
       "      <th>volatile acidity</th>\n",
       "      <th>citric acid</th>\n",
       "      <th>residual sugar</th>\n",
       "      <th>chlorides</th>\n",
       "      <th>free sulfur dioxide</th>\n",
       "      <th>total sulfur dioxide</th>\n",
       "      <th>density</th>\n",
       "      <th>pH</th>\n",
       "      <th>sulphates</th>\n",
       "      <th>alcohol</th>\n",
       "      <th>qualityscore</th>\n",
       "    </tr>\n",
       "  </thead>\n",
       "  <tbody>\n",
       "    <tr>\n",
       "      <th>0</th>\n",
       "      <td>0.949468</td>\n",
       "      <td>-1.331489</td>\n",
       "      <td>0.542608</td>\n",
       "      <td>0.239972</td>\n",
       "      <td>0.223513</td>\n",
       "      <td>-0.559258</td>\n",
       "      <td>-0.639351</td>\n",
       "      <td>0.827454</td>\n",
       "      <td>1.096616</td>\n",
       "      <td>1.446967</td>\n",
       "      <td>-0.678378</td>\n",
       "      <td>-0.609065</td>\n",
       "    </tr>\n",
       "    <tr>\n",
       "      <th>1</th>\n",
       "      <td>-0.030446</td>\n",
       "      <td>-1.499210</td>\n",
       "      <td>0.380756</td>\n",
       "      <td>-0.826104</td>\n",
       "      <td>-0.244140</td>\n",
       "      <td>-0.751951</td>\n",
       "      <td>-0.729745</td>\n",
       "      <td>-0.126196</td>\n",
       "      <td>-0.332630</td>\n",
       "      <td>0.229796</td>\n",
       "      <td>-0.773452</td>\n",
       "      <td>0.735925</td>\n",
       "    </tr>\n",
       "    <tr>\n",
       "      <th>2</th>\n",
       "      <td>-0.779792</td>\n",
       "      <td>0.904783</td>\n",
       "      <td>-1.237767</td>\n",
       "      <td>-0.044315</td>\n",
       "      <td>0.074714</td>\n",
       "      <td>-0.077527</td>\n",
       "      <td>-0.790008</td>\n",
       "      <td>-0.126374</td>\n",
       "      <td>0.446959</td>\n",
       "      <td>-0.349809</td>\n",
       "      <td>0.842812</td>\n",
       "      <td>0.399678</td>\n",
       "    </tr>\n",
       "    <tr>\n",
       "      <th>3</th>\n",
       "      <td>-0.779792</td>\n",
       "      <td>0.904783</td>\n",
       "      <td>-1.237767</td>\n",
       "      <td>-0.044315</td>\n",
       "      <td>0.074714</td>\n",
       "      <td>-0.077527</td>\n",
       "      <td>-0.790008</td>\n",
       "      <td>-0.126374</td>\n",
       "      <td>0.446959</td>\n",
       "      <td>-0.349809</td>\n",
       "      <td>0.842812</td>\n",
       "      <td>0.399678</td>\n",
       "    </tr>\n",
       "    <tr>\n",
       "      <th>4</th>\n",
       "      <td>-0.203372</td>\n",
       "      <td>-0.269260</td>\n",
       "      <td>0.218904</td>\n",
       "      <td>-0.257530</td>\n",
       "      <td>-0.307911</td>\n",
       "      <td>0.018820</td>\n",
       "      <td>-0.669482</td>\n",
       "      <td>-0.126599</td>\n",
       "      <td>-0.202698</td>\n",
       "      <td>-0.002046</td>\n",
       "      <td>1.888630</td>\n",
       "      <td>1.072172</td>\n",
       "    </tr>\n",
       "  </tbody>\n",
       "</table>\n",
       "</div>"
      ],
      "text/plain": [
       "   fixed acidity  volatile acidity  citric acid  residual sugar  chlorides  \\\n",
       "0       0.949468         -1.331489     0.542608        0.239972   0.223513   \n",
       "1      -0.030446         -1.499210     0.380756       -0.826104  -0.244140   \n",
       "2      -0.779792          0.904783    -1.237767       -0.044315   0.074714   \n",
       "3      -0.779792          0.904783    -1.237767       -0.044315   0.074714   \n",
       "4      -0.203372         -0.269260     0.218904       -0.257530  -0.307911   \n",
       "\n",
       "   free sulfur dioxide  total sulfur dioxide   density        pH  sulphates  \\\n",
       "0            -0.559258             -0.639351  0.827454  1.096616   1.446967   \n",
       "1            -0.751951             -0.729745 -0.126196 -0.332630   0.229796   \n",
       "2            -0.077527             -0.790008 -0.126374  0.446959  -0.349809   \n",
       "3            -0.077527             -0.790008 -0.126374  0.446959  -0.349809   \n",
       "4             0.018820             -0.669482 -0.126599 -0.202698  -0.002046   \n",
       "\n",
       "    alcohol  qualityscore  \n",
       "0 -0.678378     -0.609065  \n",
       "1 -0.773452      0.735925  \n",
       "2  0.842812      0.399678  \n",
       "3  0.842812      0.399678  \n",
       "4  1.888630      1.072172  "
      ]
     },
     "execution_count": 24,
     "metadata": {},
     "output_type": "execute_result"
    }
   ],
   "source": [
    "# redWine dataset normaliseren \n",
    "rednorm = pd.DataFrame()\n",
    "for col in list(redfeat.columns):\n",
    "    rednorm[col] = (redfeat[col]-redfeat[col].mean())/redfeat[col].std()\n",
    "rednorm.head()"
   ]
  },
  {
   "cell_type": "markdown",
   "metadata": {},
   "source": [
    "**Aan de hand van de bovenstaande output zien we dat de benodigde features (de chemische samenstellingen) zijn continue waardes.**"
   ]
  },
  {
   "cell_type": "code",
   "execution_count": 25,
   "metadata": {},
   "outputs": [
    {
     "data": {
      "text/html": [
       "<div>\n",
       "<style scoped>\n",
       "    .dataframe tbody tr th:only-of-type {\n",
       "        vertical-align: middle;\n",
       "    }\n",
       "\n",
       "    .dataframe tbody tr th {\n",
       "        vertical-align: top;\n",
       "    }\n",
       "\n",
       "    .dataframe thead th {\n",
       "        text-align: right;\n",
       "    }\n",
       "</style>\n",
       "<table border=\"1\" class=\"dataframe\">\n",
       "  <thead>\n",
       "    <tr style=\"text-align: right;\">\n",
       "      <th></th>\n",
       "      <th>fixed acidity</th>\n",
       "      <th>volatile acidity</th>\n",
       "      <th>citric acid</th>\n",
       "      <th>residual sugar</th>\n",
       "      <th>chlorides</th>\n",
       "      <th>free sulfur dioxide</th>\n",
       "      <th>total sulfur dioxide</th>\n",
       "      <th>density</th>\n",
       "      <th>pH</th>\n",
       "      <th>sulphates</th>\n",
       "      <th>alcohol</th>\n",
       "      <th>qualityscore</th>\n",
       "    </tr>\n",
       "  </thead>\n",
       "  <tbody>\n",
       "    <tr>\n",
       "      <th>0</th>\n",
       "      <td>0.949468</td>\n",
       "      <td>-1.331489</td>\n",
       "      <td>0.542608</td>\n",
       "      <td>0.239972</td>\n",
       "      <td>0.223513</td>\n",
       "      <td>-0.559258</td>\n",
       "      <td>-0.639351</td>\n",
       "      <td>0.827454</td>\n",
       "      <td>1.096616</td>\n",
       "      <td>1.446967</td>\n",
       "      <td>-0.678378</td>\n",
       "      <td>-0.609065</td>\n",
       "    </tr>\n",
       "    <tr>\n",
       "      <th>1</th>\n",
       "      <td>-0.030446</td>\n",
       "      <td>-1.499210</td>\n",
       "      <td>0.380756</td>\n",
       "      <td>-0.826104</td>\n",
       "      <td>-0.244140</td>\n",
       "      <td>-0.751951</td>\n",
       "      <td>-0.729745</td>\n",
       "      <td>-0.126196</td>\n",
       "      <td>-0.332630</td>\n",
       "      <td>0.229796</td>\n",
       "      <td>-0.773452</td>\n",
       "      <td>0.735925</td>\n",
       "    </tr>\n",
       "    <tr>\n",
       "      <th>2</th>\n",
       "      <td>-0.779792</td>\n",
       "      <td>0.904783</td>\n",
       "      <td>-1.237767</td>\n",
       "      <td>-0.044315</td>\n",
       "      <td>0.074714</td>\n",
       "      <td>-0.077527</td>\n",
       "      <td>-0.790008</td>\n",
       "      <td>-0.126374</td>\n",
       "      <td>0.446959</td>\n",
       "      <td>-0.349809</td>\n",
       "      <td>0.842812</td>\n",
       "      <td>0.399678</td>\n",
       "    </tr>\n",
       "    <tr>\n",
       "      <th>3</th>\n",
       "      <td>-0.779792</td>\n",
       "      <td>0.904783</td>\n",
       "      <td>-1.237767</td>\n",
       "      <td>-0.044315</td>\n",
       "      <td>0.074714</td>\n",
       "      <td>-0.077527</td>\n",
       "      <td>-0.790008</td>\n",
       "      <td>-0.126374</td>\n",
       "      <td>0.446959</td>\n",
       "      <td>-0.349809</td>\n",
       "      <td>0.842812</td>\n",
       "      <td>0.399678</td>\n",
       "    </tr>\n",
       "    <tr>\n",
       "      <th>4</th>\n",
       "      <td>-0.203372</td>\n",
       "      <td>-0.269260</td>\n",
       "      <td>0.218904</td>\n",
       "      <td>-0.257530</td>\n",
       "      <td>-0.307911</td>\n",
       "      <td>0.018820</td>\n",
       "      <td>-0.669482</td>\n",
       "      <td>-0.126599</td>\n",
       "      <td>-0.202698</td>\n",
       "      <td>-0.002046</td>\n",
       "      <td>1.888630</td>\n",
       "      <td>1.072172</td>\n",
       "    </tr>\n",
       "  </tbody>\n",
       "</table>\n",
       "</div>"
      ],
      "text/plain": [
       "   fixed acidity  volatile acidity  citric acid  residual sugar  chlorides  \\\n",
       "0       0.949468         -1.331489     0.542608        0.239972   0.223513   \n",
       "1      -0.030446         -1.499210     0.380756       -0.826104  -0.244140   \n",
       "2      -0.779792          0.904783    -1.237767       -0.044315   0.074714   \n",
       "3      -0.779792          0.904783    -1.237767       -0.044315   0.074714   \n",
       "4      -0.203372         -0.269260     0.218904       -0.257530  -0.307911   \n",
       "\n",
       "   free sulfur dioxide  total sulfur dioxide   density        pH  sulphates  \\\n",
       "0            -0.559258             -0.639351  0.827454  1.096616   1.446967   \n",
       "1            -0.751951             -0.729745 -0.126196 -0.332630   0.229796   \n",
       "2            -0.077527             -0.790008 -0.126374  0.446959  -0.349809   \n",
       "3            -0.077527             -0.790008 -0.126374  0.446959  -0.349809   \n",
       "4             0.018820             -0.669482 -0.126599 -0.202698  -0.002046   \n",
       "\n",
       "    alcohol  qualityscore  \n",
       "0 -0.678378     -0.609065  \n",
       "1 -0.773452      0.735925  \n",
       "2  0.842812      0.399678  \n",
       "3  0.842812      0.399678  \n",
       "4  1.888630      1.072172  "
      ]
     },
     "execution_count": 25,
     "metadata": {},
     "output_type": "execute_result"
    }
   ],
   "source": [
    "# Datasets samenvoegen\n",
    "feat = pd.concat([rednorm, whitenorm], ignore_index =True)\n",
    "feat.head()"
   ]
  },
  {
   "cell_type": "code",
   "execution_count": 26,
   "metadata": {},
   "outputs": [
    {
     "data": {
      "text/plain": [
       "(7363, 12)"
      ]
     },
     "execution_count": 26,
     "metadata": {},
     "output_type": "execute_result"
    }
   ],
   "source": [
    "feat.shape"
   ]
  },
  {
   "cell_type": "markdown",
   "metadata": {},
   "source": [
    "Boxplot tekenen van alle chemische samenstelling"
   ]
  },
  {
   "cell_type": "markdown",
   "metadata": {},
   "source": [
    "Boxplotten tekenen van de chemische samenstellingen van de wijnen met een hoge score. \n",
    "Wijnen met hoge score beschouw ewe als de wijnen die een qualityscore boven  de gemiddelde."
   ]
  },
  {
   "cell_type": "code",
   "execution_count": 27,
   "metadata": {},
   "outputs": [
    {
     "data": {
      "text/plain": [
       "4475"
      ]
     },
     "execution_count": 27,
     "metadata": {},
     "output_type": "execute_result"
    }
   ],
   "source": [
    "qualityscore_gem = feat['qualityscore'].mean()\n",
    "hogescore = feat[feat['qualityscore'] >qualityscore_gem]\n",
    "len(hogescore) "
   ]
  },
  {
   "cell_type": "code",
   "execution_count": 28,
   "metadata": {},
   "outputs": [
    {
     "data": {
      "text/plain": [
       "fixed acidity            0\n",
       "volatile acidity         0\n",
       "citric acid             93\n",
       "residual sugar           0\n",
       "chlorides                0\n",
       "free sulfur dioxide      0\n",
       "total sulfur dioxide     0\n",
       "density                  1\n",
       "pH                       0\n",
       "sulphates                0\n",
       "alcohol                  5\n",
       "qualityscore             0\n",
       "dtype: int64"
      ]
     },
     "execution_count": 28,
     "metadata": {},
     "output_type": "execute_result"
    }
   ],
   "source": [
    "hogescore.isnull().sum()\n"
   ]
  },
  {
   "cell_type": "code",
   "execution_count": 29,
   "metadata": {},
   "outputs": [],
   "source": [
    "hogescore = hogescore.fillna(0) # verandert alle NaN waardes naar 0"
   ]
  },
  {
   "cell_type": "code",
   "execution_count": 30,
   "metadata": {},
   "outputs": [
    {
     "data": {
      "text/html": [
       "<div>\n",
       "<style scoped>\n",
       "    .dataframe tbody tr th:only-of-type {\n",
       "        vertical-align: middle;\n",
       "    }\n",
       "\n",
       "    .dataframe tbody tr th {\n",
       "        vertical-align: top;\n",
       "    }\n",
       "\n",
       "    .dataframe thead th {\n",
       "        text-align: right;\n",
       "    }\n",
       "</style>\n",
       "<table border=\"1\" class=\"dataframe\">\n",
       "  <thead>\n",
       "    <tr style=\"text-align: right;\">\n",
       "      <th></th>\n",
       "      <th>fixed acidity</th>\n",
       "      <th>volatile acidity</th>\n",
       "      <th>citric acid</th>\n",
       "      <th>residual sugar</th>\n",
       "      <th>chlorides</th>\n",
       "      <th>free sulfur dioxide</th>\n",
       "      <th>total sulfur dioxide</th>\n",
       "      <th>density</th>\n",
       "      <th>pH</th>\n",
       "      <th>sulphates</th>\n",
       "      <th>alcohol</th>\n",
       "      <th>qualityscore</th>\n",
       "    </tr>\n",
       "  </thead>\n",
       "  <tbody>\n",
       "    <tr>\n",
       "      <th>count</th>\n",
       "      <td>4475.000000</td>\n",
       "      <td>4475.000000</td>\n",
       "      <td>4475.000000</td>\n",
       "      <td>4475.000000</td>\n",
       "      <td>4475.000000</td>\n",
       "      <td>4475.000000</td>\n",
       "      <td>4475.000000</td>\n",
       "      <td>4475.000000</td>\n",
       "      <td>4475.000000</td>\n",
       "      <td>4475.000000</td>\n",
       "      <td>4475.000000</td>\n",
       "      <td>4475.000000</td>\n",
       "    </tr>\n",
       "    <tr>\n",
       "      <th>mean</th>\n",
       "      <td>-0.037271</td>\n",
       "      <td>-0.198172</td>\n",
       "      <td>0.036935</td>\n",
       "      <td>-0.051375</td>\n",
       "      <td>-0.125672</td>\n",
       "      <td>-0.018880</td>\n",
       "      <td>-0.155149</td>\n",
       "      <td>-0.152200</td>\n",
       "      <td>0.052295</td>\n",
       "      <td>0.080328</td>\n",
       "      <td>0.331097</td>\n",
       "      <td>0.647252</td>\n",
       "    </tr>\n",
       "    <tr>\n",
       "      <th>std</th>\n",
       "      <td>0.993635</td>\n",
       "      <td>0.898916</td>\n",
       "      <td>0.925227</td>\n",
       "      <td>0.985668</td>\n",
       "      <td>0.823798</td>\n",
       "      <td>0.907034</td>\n",
       "      <td>0.891282</td>\n",
       "      <td>0.939363</td>\n",
       "      <td>1.011362</td>\n",
       "      <td>1.022135</td>\n",
       "      <td>1.023553</td>\n",
       "      <td>0.657171</td>\n",
       "    </tr>\n",
       "    <tr>\n",
       "      <th>min</th>\n",
       "      <td>-3.619982</td>\n",
       "      <td>-2.281905</td>\n",
       "      <td>-2.761461</td>\n",
       "      <td>-1.181463</td>\n",
       "      <td>-1.604586</td>\n",
       "      <td>-1.899678</td>\n",
       "      <td>-2.832144</td>\n",
       "      <td>-2.312802</td>\n",
       "      <td>-3.101091</td>\n",
       "      <td>-2.364468</td>\n",
       "      <td>-1.636790</td>\n",
       "      <td>0.063430</td>\n",
       "    </tr>\n",
       "    <tr>\n",
       "      <th>25%</th>\n",
       "      <td>-0.722150</td>\n",
       "      <td>-0.851892</td>\n",
       "      <td>-0.530422</td>\n",
       "      <td>-0.826104</td>\n",
       "      <td>-0.499224</td>\n",
       "      <td>-0.664902</td>\n",
       "      <td>-0.790008</td>\n",
       "      <td>-0.744716</td>\n",
       "      <td>-0.650770</td>\n",
       "      <td>-0.612016</td>\n",
       "      <td>-0.499152</td>\n",
       "      <td>0.137856</td>\n",
       "    </tr>\n",
       "    <tr>\n",
       "      <th>50%</th>\n",
       "      <td>-0.145730</td>\n",
       "      <td>-0.280185</td>\n",
       "      <td>-0.117266</td>\n",
       "      <td>-0.294045</td>\n",
       "      <td>-0.222883</td>\n",
       "      <td>-0.135713</td>\n",
       "      <td>-0.307904</td>\n",
       "      <td>-0.126426</td>\n",
       "      <td>0.011479</td>\n",
       "      <td>-0.060006</td>\n",
       "      <td>0.313446</td>\n",
       "      <td>0.137856</td>\n",
       "    </tr>\n",
       "    <tr>\n",
       "      <th>75%</th>\n",
       "      <td>0.527585</td>\n",
       "      <td>0.315085</td>\n",
       "      <td>0.488658</td>\n",
       "      <td>0.336862</td>\n",
       "      <td>0.056190</td>\n",
       "      <td>0.511075</td>\n",
       "      <td>0.385121</td>\n",
       "      <td>0.191455</td>\n",
       "      <td>0.673728</td>\n",
       "      <td>0.614700</td>\n",
       "      <td>1.128035</td>\n",
       "      <td>1.266985</td>\n",
       "    </tr>\n",
       "    <tr>\n",
       "      <th>max</th>\n",
       "      <td>8.704217</td>\n",
       "      <td>6.813453</td>\n",
       "      <td>10.955302</td>\n",
       "      <td>11.712916</td>\n",
       "      <td>9.576526</td>\n",
       "      <td>5.414217</td>\n",
       "      <td>7.285241</td>\n",
       "      <td>15.029763</td>\n",
       "      <td>4.539801</td>\n",
       "      <td>7.474859</td>\n",
       "      <td>3.409820</td>\n",
       "      <td>3.762152</td>\n",
       "    </tr>\n",
       "  </tbody>\n",
       "</table>\n",
       "</div>"
      ],
      "text/plain": [
       "       fixed acidity  volatile acidity  citric acid  residual sugar  \\\n",
       "count    4475.000000       4475.000000  4475.000000     4475.000000   \n",
       "mean       -0.037271         -0.198172     0.036935       -0.051375   \n",
       "std         0.993635          0.898916     0.925227        0.985668   \n",
       "min        -3.619982         -2.281905    -2.761461       -1.181463   \n",
       "25%        -0.722150         -0.851892    -0.530422       -0.826104   \n",
       "50%        -0.145730         -0.280185    -0.117266       -0.294045   \n",
       "75%         0.527585          0.315085     0.488658        0.336862   \n",
       "max         8.704217          6.813453    10.955302       11.712916   \n",
       "\n",
       "         chlorides  free sulfur dioxide  total sulfur dioxide      density  \\\n",
       "count  4475.000000          4475.000000           4475.000000  4475.000000   \n",
       "mean     -0.125672            -0.018880             -0.155149    -0.152200   \n",
       "std       0.823798             0.907034              0.891282     0.939363   \n",
       "min      -1.604586            -1.899678             -2.832144    -2.312802   \n",
       "25%      -0.499224            -0.664902             -0.790008    -0.744716   \n",
       "50%      -0.222883            -0.135713             -0.307904    -0.126426   \n",
       "75%       0.056190             0.511075              0.385121     0.191455   \n",
       "max       9.576526             5.414217              7.285241    15.029763   \n",
       "\n",
       "                pH    sulphates      alcohol  qualityscore  \n",
       "count  4475.000000  4475.000000  4475.000000   4475.000000  \n",
       "mean      0.052295     0.080328     0.331097      0.647252  \n",
       "std       1.011362     1.022135     1.023553      0.657171  \n",
       "min      -3.101091    -2.364468    -1.636790      0.063430  \n",
       "25%      -0.650770    -0.612016    -0.499152      0.137856  \n",
       "50%       0.011479    -0.060006     0.313446      0.137856  \n",
       "75%       0.673728     0.614700     1.128035      1.266985  \n",
       "max       4.539801     7.474859     3.409820      3.762152  "
      ]
     },
     "execution_count": 30,
     "metadata": {},
     "output_type": "execute_result"
    }
   ],
   "source": [
    "hogescore.describe()"
   ]
  },
  {
   "cell_type": "code",
   "execution_count": 31,
   "metadata": {},
   "outputs": [
    {
     "data": {
      "text/plain": [
       "<matplotlib.axes._subplots.AxesSubplot at 0x16b16493a90>"
      ]
     },
     "execution_count": 31,
     "metadata": {},
     "output_type": "execute_result"
    },
    {
     "data": {
      "image/png": "[encoded data removed]",
      "text/plain": [
       "<Figure size 432x288 with 1 Axes>"
      ]
     },
     "metadata": {
      "needs_background": "light"
     },
     "output_type": "display_data"
    }
   ],
   "source": [
    "hogescore.boxplot(rot = 50)"
   ]
  },
  {
   "cell_type": "code",
   "execution_count": 32,
   "metadata": {},
   "outputs": [
    {
     "data": {
      "text/html": [
       "<div>\n",
       "<style scoped>\n",
       "    .dataframe tbody tr th:only-of-type {\n",
       "        vertical-align: middle;\n",
       "    }\n",
       "\n",
       "    .dataframe tbody tr th {\n",
       "        vertical-align: top;\n",
       "    }\n",
       "\n",
       "    .dataframe thead th {\n",
       "        text-align: right;\n",
       "    }\n",
       "</style>\n",
       "<table border=\"1\" class=\"dataframe\">\n",
       "  <thead>\n",
       "    <tr style=\"text-align: right;\">\n",
       "      <th></th>\n",
       "      <th>fixed acidity</th>\n",
       "      <th>volatile acidity</th>\n",
       "      <th>citric acid</th>\n",
       "      <th>residual sugar</th>\n",
       "      <th>chlorides</th>\n",
       "      <th>free sulfur dioxide</th>\n",
       "      <th>total sulfur dioxide</th>\n",
       "      <th>density</th>\n",
       "      <th>pH</th>\n",
       "      <th>sulphates</th>\n",
       "      <th>alcohol</th>\n",
       "      <th>qualityscore</th>\n",
       "    </tr>\n",
       "  </thead>\n",
       "  <tbody>\n",
       "    <tr>\n",
       "      <th>fixed acidity</th>\n",
       "      <td>1.000000</td>\n",
       "      <td>-0.138978</td>\n",
       "      <td>0.400865</td>\n",
       "      <td>0.124804</td>\n",
       "      <td>0.076029</td>\n",
       "      <td>-0.057445</td>\n",
       "      <td>0.062856</td>\n",
       "      <td>0.269343</td>\n",
       "      <td>-0.505045</td>\n",
       "      <td>0.040821</td>\n",
       "      <td>-0.139906</td>\n",
       "      <td>-0.017556</td>\n",
       "    </tr>\n",
       "    <tr>\n",
       "      <th>volatile acidity</th>\n",
       "      <td>-0.138978</td>\n",
       "      <td>1.000000</td>\n",
       "      <td>-0.256278</td>\n",
       "      <td>0.056545</td>\n",
       "      <td>-0.024539</td>\n",
       "      <td>-0.067016</td>\n",
       "      <td>0.052871</td>\n",
       "      <td>-0.061330</td>\n",
       "      <td>0.080326</td>\n",
       "      <td>-0.081598</td>\n",
       "      <td>0.143809</td>\n",
       "      <td>-0.026904</td>\n",
       "    </tr>\n",
       "    <tr>\n",
       "      <th>citric acid</th>\n",
       "      <td>0.400865</td>\n",
       "      <td>-0.256278</td>\n",
       "      <td>1.000000</td>\n",
       "      <td>0.066042</td>\n",
       "      <td>0.150876</td>\n",
       "      <td>0.004695</td>\n",
       "      <td>0.053408</td>\n",
       "      <td>0.109539</td>\n",
       "      <td>-0.228977</td>\n",
       "      <td>0.104860</td>\n",
       "      <td>-0.000987</td>\n",
       "      <td>0.019732</td>\n",
       "    </tr>\n",
       "    <tr>\n",
       "      <th>residual sugar</th>\n",
       "      <td>0.124804</td>\n",
       "      <td>0.056545</td>\n",
       "      <td>0.066042</td>\n",
       "      <td>1.000000</td>\n",
       "      <td>0.095989</td>\n",
       "      <td>0.218926</td>\n",
       "      <td>0.335659</td>\n",
       "      <td>0.734932</td>\n",
       "      <td>-0.188975</td>\n",
       "      <td>-0.054865</td>\n",
       "      <td>-0.328244</td>\n",
       "      <td>-0.053990</td>\n",
       "    </tr>\n",
       "    <tr>\n",
       "      <th>chlorides</th>\n",
       "      <td>0.076029</td>\n",
       "      <td>-0.024539</td>\n",
       "      <td>0.150876</td>\n",
       "      <td>0.095989</td>\n",
       "      <td>1.000000</td>\n",
       "      <td>0.084704</td>\n",
       "      <td>0.145583</td>\n",
       "      <td>0.248406</td>\n",
       "      <td>-0.119497</td>\n",
       "      <td>0.052760</td>\n",
       "      <td>-0.345626</td>\n",
       "      <td>-0.151796</td>\n",
       "    </tr>\n",
       "    <tr>\n",
       "      <th>free sulfur dioxide</th>\n",
       "      <td>-0.057445</td>\n",
       "      <td>-0.067016</td>\n",
       "      <td>0.004695</td>\n",
       "      <td>0.218926</td>\n",
       "      <td>0.084704</td>\n",
       "      <td>1.000000</td>\n",
       "      <td>0.603197</td>\n",
       "      <td>0.247599</td>\n",
       "      <td>0.039137</td>\n",
       "      <td>0.046580</td>\n",
       "      <td>-0.201136</td>\n",
       "      <td>-0.038472</td>\n",
       "    </tr>\n",
       "    <tr>\n",
       "      <th>total sulfur dioxide</th>\n",
       "      <td>0.062856</td>\n",
       "      <td>0.052871</td>\n",
       "      <td>0.053408</td>\n",
       "      <td>0.335659</td>\n",
       "      <td>0.145583</td>\n",
       "      <td>0.603197</td>\n",
       "      <td>1.000000</td>\n",
       "      <td>0.435843</td>\n",
       "      <td>0.008072</td>\n",
       "      <td>0.079334</td>\n",
       "      <td>-0.366188</td>\n",
       "      <td>-0.130263</td>\n",
       "    </tr>\n",
       "    <tr>\n",
       "      <th>density</th>\n",
       "      <td>0.269343</td>\n",
       "      <td>-0.061330</td>\n",
       "      <td>0.109539</td>\n",
       "      <td>0.734932</td>\n",
       "      <td>0.248406</td>\n",
       "      <td>0.247599</td>\n",
       "      <td>0.435843</td>\n",
       "      <td>1.000000</td>\n",
       "      <td>-0.092589</td>\n",
       "      <td>0.060616</td>\n",
       "      <td>-0.626598</td>\n",
       "      <td>-0.173226</td>\n",
       "    </tr>\n",
       "    <tr>\n",
       "      <th>pH</th>\n",
       "      <td>-0.505045</td>\n",
       "      <td>0.080326</td>\n",
       "      <td>-0.228977</td>\n",
       "      <td>-0.188975</td>\n",
       "      <td>-0.119497</td>\n",
       "      <td>0.039137</td>\n",
       "      <td>0.008072</td>\n",
       "      <td>-0.092589</td>\n",
       "      <td>1.000000</td>\n",
       "      <td>0.081241</td>\n",
       "      <td>0.120132</td>\n",
       "      <td>0.044484</td>\n",
       "    </tr>\n",
       "    <tr>\n",
       "      <th>sulphates</th>\n",
       "      <td>0.040821</td>\n",
       "      <td>-0.081598</td>\n",
       "      <td>0.104860</td>\n",
       "      <td>-0.054865</td>\n",
       "      <td>0.052760</td>\n",
       "      <td>0.046580</td>\n",
       "      <td>0.079334</td>\n",
       "      <td>0.060616</td>\n",
       "      <td>0.081241</td>\n",
       "      <td>1.000000</td>\n",
       "      <td>-0.019353</td>\n",
       "      <td>0.053029</td>\n",
       "    </tr>\n",
       "    <tr>\n",
       "      <th>alcohol</th>\n",
       "      <td>-0.139906</td>\n",
       "      <td>0.143809</td>\n",
       "      <td>-0.000987</td>\n",
       "      <td>-0.328244</td>\n",
       "      <td>-0.345626</td>\n",
       "      <td>-0.201136</td>\n",
       "      <td>-0.366188</td>\n",
       "      <td>-0.626598</td>\n",
       "      <td>0.120132</td>\n",
       "      <td>-0.019353</td>\n",
       "      <td>1.000000</td>\n",
       "      <td>0.327088</td>\n",
       "    </tr>\n",
       "    <tr>\n",
       "      <th>qualityscore</th>\n",
       "      <td>-0.017556</td>\n",
       "      <td>-0.026904</td>\n",
       "      <td>0.019732</td>\n",
       "      <td>-0.053990</td>\n",
       "      <td>-0.151796</td>\n",
       "      <td>-0.038472</td>\n",
       "      <td>-0.130263</td>\n",
       "      <td>-0.173226</td>\n",
       "      <td>0.044484</td>\n",
       "      <td>0.053029</td>\n",
       "      <td>0.327088</td>\n",
       "      <td>1.000000</td>\n",
       "    </tr>\n",
       "  </tbody>\n",
       "</table>\n",
       "</div>"
      ],
      "text/plain": [
       "                      fixed acidity  volatile acidity  citric acid  \\\n",
       "fixed acidity              1.000000         -0.138978     0.400865   \n",
       "volatile acidity          -0.138978          1.000000    -0.256278   \n",
       "citric acid                0.400865         -0.256278     1.000000   \n",
       "residual sugar             0.124804          0.056545     0.066042   \n",
       "chlorides                  0.076029         -0.024539     0.150876   \n",
       "free sulfur dioxide       -0.057445         -0.067016     0.004695   \n",
       "total sulfur dioxide       0.062856          0.052871     0.053408   \n",
       "density                    0.269343         -0.061330     0.109539   \n",
       "pH                        -0.505045          0.080326    -0.228977   \n",
       "sulphates                  0.040821         -0.081598     0.104860   \n",
       "alcohol                   -0.139906          0.143809    -0.000987   \n",
       "qualityscore              -0.017556         -0.026904     0.019732   \n",
       "\n",
       "                      residual sugar  chlorides  free sulfur dioxide  \\\n",
       "fixed acidity               0.124804   0.076029            -0.057445   \n",
       "volatile acidity            0.056545  -0.024539            -0.067016   \n",
       "citric acid                 0.066042   0.150876             0.004695   \n",
       "residual sugar              1.000000   0.095989             0.218926   \n",
       "chlorides                   0.095989   1.000000             0.084704   \n",
       "free sulfur dioxide         0.218926   0.084704             1.000000   \n",
       "total sulfur dioxide        0.335659   0.145583             0.603197   \n",
       "density                     0.734932   0.248406             0.247599   \n",
       "pH                         -0.188975  -0.119497             0.039137   \n",
       "sulphates                  -0.054865   0.052760             0.046580   \n",
       "alcohol                    -0.328244  -0.345626            -0.201136   \n",
       "qualityscore               -0.053990  -0.151796            -0.038472   \n",
       "\n",
       "                      total sulfur dioxide   density        pH  sulphates  \\\n",
       "fixed acidity                     0.062856  0.269343 -0.505045   0.040821   \n",
       "volatile acidity                  0.052871 -0.061330  0.080326  -0.081598   \n",
       "citric acid                       0.053408  0.109539 -0.228977   0.104860   \n",
       "residual sugar                    0.335659  0.734932 -0.188975  -0.054865   \n",
       "chlorides                         0.145583  0.248406 -0.119497   0.052760   \n",
       "free sulfur dioxide               0.603197  0.247599  0.039137   0.046580   \n",
       "total sulfur dioxide              1.000000  0.435843  0.008072   0.079334   \n",
       "density                           0.435843  1.000000 -0.092589   0.060616   \n",
       "pH                                0.008072 -0.092589  1.000000   0.081241   \n",
       "sulphates                         0.079334  0.060616  0.081241   1.000000   \n",
       "alcohol                          -0.366188 -0.626598  0.120132  -0.019353   \n",
       "qualityscore                     -0.130263 -0.173226  0.044484   0.053029   \n",
       "\n",
       "                       alcohol  qualityscore  \n",
       "fixed acidity        -0.139906     -0.017556  \n",
       "volatile acidity      0.143809     -0.026904  \n",
       "citric acid          -0.000987      0.019732  \n",
       "residual sugar       -0.328244     -0.053990  \n",
       "chlorides            -0.345626     -0.151796  \n",
       "free sulfur dioxide  -0.201136     -0.038472  \n",
       "total sulfur dioxide -0.366188     -0.130263  \n",
       "density              -0.626598     -0.173226  \n",
       "pH                    0.120132      0.044484  \n",
       "sulphates            -0.019353      0.053029  \n",
       "alcohol               1.000000      0.327088  \n",
       "qualityscore          0.327088      1.000000  "
      ]
     },
     "execution_count": 32,
     "metadata": {},
     "output_type": "execute_result"
    }
   ],
   "source": [
    "hogescore.corr()"
   ]
  },
  {
   "cell_type": "markdown",
   "metadata": {},
   "source": [
    "Uit de bovenstaande grafiek kunnen we de volgende features nemen voor onze model:\n",
    "    1. citric acid\n",
    "    2. residual sugar\n",
    "    3. density\n",
    "    4. pH\n",
    "    5. alcohol "
   ]
  },
  {
   "cell_type": "code",
   "execution_count": 33,
   "metadata": {},
   "outputs": [],
   "source": [
    "hogescore = hogescore[['citric acid', 'residual sugar', 'density', 'pH', 'alcohol']]"
   ]
  },
  {
   "cell_type": "code",
   "execution_count": 34,
   "metadata": {},
   "outputs": [
    {
     "data": {
      "text/plain": [
       "<seaborn.axisgrid.PairGrid at 0x16b16954eb8>"
      ]
     },
     "execution_count": 34,
     "metadata": {},
     "output_type": "execute_result"
    },
    {
     "data": {
      "image/png": "[encoded data removed]",
      "text/plain": [
       "<Figure size 900x900 with 30 Axes>"
      ]
     },
     "metadata": {
      "needs_background": "light"
     },
     "output_type": "display_data"
    }
   ],
   "source": [
    "sns.pairplot(hogescore)"
   ]
  },
  {
   "cell_type": "markdown",
   "metadata": {},
   "source": [
    "Aan de hand van de bovenstaande pairplot is te zeggen dat er"
   ]
  },
  {
   "cell_type": "markdown",
   "metadata": {},
   "source": [
    "Er is tez zien dat er veel outliers voorkomt in de features.\n"
   ]
  },
  {
   "cell_type": "markdown",
   "metadata": {},
   "source": [
    "### Model implementeren\n",
    "\n",
    "\n"
   ]
  },
  {
   "cell_type": "code",
   "execution_count": 35,
   "metadata": {},
   "outputs": [],
   "source": [
    "#hogescore = hogescore.drop(['qualityscore'], axis = 1) # sinds we had already filter the wines with a score above  average, we can delete qualityscore."
   ]
  },
  {
   "cell_type": "code",
   "execution_count": 36,
   "metadata": {},
   "outputs": [],
   "source": [
    "# Determining the optimal value foor k using the elbow point method\n",
    "distortions = []\n",
    "K = range(1, 30) # \n",
    "for k in K:\n",
    "    kmeanModel = KMeans(n_clusters=k)\n",
    "    kmeanModel.fit(hogescore)\n",
    "    distortions.append(kmeanModel.inertia_)"
   ]
  },
  {
   "cell_type": "code",
   "execution_count": 37,
   "metadata": {},
   "outputs": [
    {
     "data": {
      "image/png": "[encoded data removed]",
      "text/plain": [
       "<Figure size 1152x576 with 1 Axes>"
      ]
     },
     "metadata": {
      "needs_background": "light"
     },
     "output_type": "display_data"
    }
   ],
   "source": [
    "plt.figure(figsize=(16,8))\n",
    "plt.plot(K, distortions, 'bx-')\n",
    "plt.xlabel('k')\n",
    "plt.ylabel('Distortion')\n",
    "plt.title('The Elbow Method showing the optimal k')\n",
    "plt.show()"
   ]
  },
  {
   "cell_type": "markdown",
   "metadata": {},
   "source": []
  },
  {
   "cell_type": "code",
   "execution_count": 70,
   "metadata": {},
   "outputs": [],
   "source": [
    "# build the model with the output from elbow method which is 2\n",
    "clusterNum = 3\n",
    "model_kmeans =KMeans()\n",
    "data_kmeans = hogescore\n",
    "number_clusters = 3\n",
    "model_kmeans.set_params(n_clusters = number_clusters, random_state = 0)\n",
    "k_means.fit(data_kmeans)\n",
    "prediction_kMeans = model_kmeans.fit_predict(data_kmeans)"
   ]
  },
  {
   "cell_type": "code",
   "execution_count": 72,
   "metadata": {},
   "outputs": [
    {
     "data": {
      "image/png": "[encoded data removed]",
      "text/plain": [
       "<Figure size 720x720 with 1 Axes>"
      ]
     },
     "metadata": {
      "needs_background": "light"
     },
     "output_type": "display_data"
    }
   ],
   "source": [
    "plt.scatter(data_kmeans.loc[:,'residual sugar'],data_kmeans.loc[:,'density'],marker='o', c=prediction_kMeans)\n",
    "plt.scatter(model_kmeans.cluster_centers_[:,0],model_kmeans.cluster_centers_[:,1],marker='x', s=40)\n",
    "plt.gcf().set_size_inches((10, 10))  \n",
    "plt.show()"
   ]
  },
  {
   "cell_type": "code",
   "execution_count": 74,
   "metadata": {},
   "outputs": [
    {
     "data": {
      "text/plain": [
       "-13017.59557421822"
      ]
     },
     "execution_count": 74,
     "metadata": {},
     "output_type": "execute_result"
    }
   ],
   "source": [
    "model_kmeans.score(data_kmeans)"
   ]
  },
  {
   "cell_type": "code",
   "execution_count": 39,
   "metadata": {},
   "outputs": [
    {
     "data": {
      "text/html": [
       "<div>\n",
       "<style scoped>\n",
       "    .dataframe tbody tr th:only-of-type {\n",
       "        vertical-align: middle;\n",
       "    }\n",
       "\n",
       "    .dataframe tbody tr th {\n",
       "        vertical-align: top;\n",
       "    }\n",
       "\n",
       "    .dataframe thead th {\n",
       "        text-align: right;\n",
       "    }\n",
       "</style>\n",
       "<table border=\"1\" class=\"dataframe\">\n",
       "  <thead>\n",
       "    <tr style=\"text-align: right;\">\n",
       "      <th></th>\n",
       "      <th>citric acid</th>\n",
       "      <th>residual sugar</th>\n",
       "      <th>density</th>\n",
       "      <th>pH</th>\n",
       "      <th>alcohol</th>\n",
       "    </tr>\n",
       "    <tr>\n",
       "      <th>kmeanlabel</th>\n",
       "      <th></th>\n",
       "      <th></th>\n",
       "      <th></th>\n",
       "      <th></th>\n",
       "      <th></th>\n",
       "    </tr>\n",
       "  </thead>\n",
       "  <tbody>\n",
       "    <tr>\n",
       "      <th>0</th>\n",
       "      <td>0.400408</td>\n",
       "      <td>-0.423200</td>\n",
       "      <td>-0.677892</td>\n",
       "      <td>-0.432756</td>\n",
       "      <td>1.013083</td>\n",
       "    </tr>\n",
       "    <tr>\n",
       "      <th>1</th>\n",
       "      <td>0.206739</td>\n",
       "      <td>1.250835</td>\n",
       "      <td>1.020467</td>\n",
       "      <td>-0.433809</td>\n",
       "      <td>-0.677133</td>\n",
       "    </tr>\n",
       "    <tr>\n",
       "      <th>2</th>\n",
       "      <td>-0.453578</td>\n",
       "      <td>-0.424241</td>\n",
       "      <td>-0.283249</td>\n",
       "      <td>0.860662</td>\n",
       "      <td>0.197050</td>\n",
       "    </tr>\n",
       "  </tbody>\n",
       "</table>\n",
       "</div>"
      ],
      "text/plain": [
       "            citric acid  residual sugar   density        pH   alcohol\n",
       "kmeanlabel                                                           \n",
       "0              0.400408       -0.423200 -0.677892 -0.432756  1.013083\n",
       "1              0.206739        1.250835  1.020467 -0.433809 -0.677133\n",
       "2             -0.453578       -0.424241 -0.283249  0.860662  0.197050"
      ]
     },
     "execution_count": 39,
     "metadata": {},
     "output_type": "execute_result"
    }
   ],
   "source": [
    "hogescore['kmeanlabel'] = labels\n",
    "hogescore.groupby('kmeanlabel').mean()"
   ]
  },
  {
   "cell_type": "code",
   "execution_count": 40,
   "metadata": {},
   "outputs": [
    {
     "data": {
      "text/plain": [
       "['citric acid', 'residual sugar', 'density', 'pH', 'alcohol', 'kmeanlabel']"
      ]
     },
     "execution_count": 40,
     "metadata": {},
     "output_type": "execute_result"
    }
   ],
   "source": [
    "col = list(hogescore.columns)\n",
    "col"
   ]
  },
  {
   "cell_type": "code",
   "execution_count": 41,
   "metadata": {},
   "outputs": [
    {
     "data": {
      "image/png": "[encoded data removed]",
      "text/plain": [
       "<Figure size 432x288 with 1 Axes>"
      ]
     },
     "metadata": {
      "needs_background": "light"
     },
     "output_type": "display_data"
    },
    {
     "data": {
      "image/png": "[encoded data removed]",
      "text/plain": [
       "<Figure size 432x288 with 1 Axes>"
      ]
     },
     "metadata": {
      "needs_background": "light"
     },
     "output_type": "display_data"
    },
    {
     "data": {
      "image/png": "[encoded data removed]",
      "text/plain": [
       "<Figure size 432x288 with 1 Axes>"
      ]
     },
     "metadata": {
      "needs_background": "light"
     },
     "output_type": "display_data"
    },
    {
     "data": {
      "image/png": "[encoded data removed]",
      "text/plain": [
       "<Figure size 432x288 with 1 Axes>"
      ]
     },
     "metadata": {
      "needs_background": "light"
     },
     "output_type": "display_data"
    },
    {
     "data": {
      "image/png": "[encoded data removed]",
      "text/plain": [
       "<Figure size 432x288 with 1 Axes>"
      ]
     },
     "metadata": {
      "needs_background": "light"
     },
     "output_type": "display_data"
    }
   ],
   "source": [
    "for i in range(len(col)-1):\n",
    "    hogescore.loc[:, ['kmeanlabel',col[i]]].boxplot(by=  'kmeanlabel', rot = 50)"
   ]
  },
  {
   "cell_type": "code",
   "execution_count": 65,
   "metadata": {},
   "outputs": [
    {
     "ename": "ValueError",
     "evalue": "Incorrect number of features. Got 6 features, expected 2",
     "output_type": "error",
     "traceback": [
      "\u001b[1;31m---------------------------------------------------------------------------\u001b[0m",
      "\u001b[1;31mValueError\u001b[0m                                Traceback (most recent call last)",
      "\u001b[1;32m<ipython-input-65-a32311655da9>\u001b[0m in \u001b[0;36m<module>\u001b[1;34m\u001b[0m\n\u001b[1;32m----> 1\u001b[1;33m \u001b[0mkmeans\u001b[0m\u001b[1;33m.\u001b[0m\u001b[0mscore\u001b[0m\u001b[1;33m(\u001b[0m\u001b[0mhogescore\u001b[0m\u001b[1;33m)\u001b[0m\u001b[1;33m\u001b[0m\u001b[1;33m\u001b[0m\u001b[0m\n\u001b[0m",
      "\u001b[1;32mC:\\ProgramData\\Anaconda3\\lib\\site-packages\\sklearn\\cluster\\k_means_.py\u001b[0m in \u001b[0;36mscore\u001b[1;34m(self, X, y, sample_weight)\u001b[0m\n\u001b[0;32m   1099\u001b[0m         \u001b[0mcheck_is_fitted\u001b[0m\u001b[1;33m(\u001b[0m\u001b[0mself\u001b[0m\u001b[1;33m,\u001b[0m \u001b[1;34m'cluster_centers_'\u001b[0m\u001b[1;33m)\u001b[0m\u001b[1;33m\u001b[0m\u001b[1;33m\u001b[0m\u001b[0m\n\u001b[0;32m   1100\u001b[0m \u001b[1;33m\u001b[0m\u001b[0m\n\u001b[1;32m-> 1101\u001b[1;33m         \u001b[0mX\u001b[0m \u001b[1;33m=\u001b[0m \u001b[0mself\u001b[0m\u001b[1;33m.\u001b[0m\u001b[0m_check_test_data\u001b[0m\u001b[1;33m(\u001b[0m\u001b[0mX\u001b[0m\u001b[1;33m)\u001b[0m\u001b[1;33m\u001b[0m\u001b[1;33m\u001b[0m\u001b[0m\n\u001b[0m\u001b[0;32m   1102\u001b[0m         \u001b[0mx_squared_norms\u001b[0m \u001b[1;33m=\u001b[0m \u001b[0mrow_norms\u001b[0m\u001b[1;33m(\u001b[0m\u001b[0mX\u001b[0m\u001b[1;33m,\u001b[0m \u001b[0msquared\u001b[0m\u001b[1;33m=\u001b[0m\u001b[1;32mTrue\u001b[0m\u001b[1;33m)\u001b[0m\u001b[1;33m\u001b[0m\u001b[1;33m\u001b[0m\u001b[0m\n\u001b[0;32m   1103\u001b[0m         return -_labels_inertia(X, sample_weight, x_squared_norms,\n",
      "\u001b[1;32mC:\\ProgramData\\Anaconda3\\lib\\site-packages\\sklearn\\cluster\\k_means_.py\u001b[0m in \u001b[0;36m_check_test_data\u001b[1;34m(self, X)\u001b[0m\n\u001b[0;32m    935\u001b[0m             raise ValueError(\"Incorrect number of features. \"\n\u001b[0;32m    936\u001b[0m                              \"Got %d features, expected %d\" % (\n\u001b[1;32m--> 937\u001b[1;33m                                  n_features, expected_n_features))\n\u001b[0m\u001b[0;32m    938\u001b[0m \u001b[1;33m\u001b[0m\u001b[0m\n\u001b[0;32m    939\u001b[0m         \u001b[1;32mreturn\u001b[0m \u001b[0mX\u001b[0m\u001b[1;33m\u001b[0m\u001b[1;33m\u001b[0m\u001b[0m\n",
      "\u001b[1;31mValueError\u001b[0m: Incorrect number of features. Got 6 features, expected 2"
     ]
    }
   ],
   "source": [
    "kmeans.score(hogescore)"
   ]
  },
  {
   "cell_type": "code",
   "execution_count": 42,
   "metadata": {},
   "outputs": [],
   "source": [
    "#conmi por visualize e qualtiy di amount of k means ccluster cu  mi a kies.\n",
    "# Delete quality score"
   ]
  },
  {
   "cell_type": "markdown",
   "metadata": {},
   "source": [
    "### K means model 2"
   ]
  },
  {
   "cell_type": "markdown",
   "metadata": {},
   "source": [
    "Aan de hand van de correlatieonderzoek van de features is en de pairplot, is te zien dat de features *residual sugar* en *density* een sterke correlatie heeft met een Pearson correlatiecoefficient van 0.734932. We kunnen onze model op deze twee features toepassen."
   ]
  },
  {
   "cell_type": "code",
   "execution_count": 43,
   "metadata": {},
   "outputs": [],
   "source": [
    "X = hogescore[['residual sugar', 'density']]"
   ]
  },
  {
   "cell_type": "code",
   "execution_count": 44,
   "metadata": {},
   "outputs": [],
   "source": [
    "# Determining the optimal value foor k using the elbow point method\n",
    "distortions = []\n",
    "K = range(1, 10) # \n",
    "for k in K:\n",
    "    kmeanModel = KMeans(n_clusters=k)\n",
    "    kmeanModel.fit(X)\n",
    "    distortions.append(kmeanModel.inertia_)"
   ]
  },
  {
   "cell_type": "code",
   "execution_count": 45,
   "metadata": {},
   "outputs": [
    {
     "data": {
      "image/png": "[encoded data removed]",
      "text/plain": [
       "<Figure size 1152x576 with 1 Axes>"
      ]
     },
     "metadata": {
      "needs_background": "light"
     },
     "output_type": "display_data"
    }
   ],
   "source": [
    "plt.figure(figsize=(16,8))\n",
    "plt.plot(K, distortions, 'bx-')\n",
    "plt.xlabel('k')\n",
    "plt.ylabel('Distortion')\n",
    "plt.title('The Elbow Method showing the optimal k')\n",
    "plt.show()"
   ]
  },
  {
   "cell_type": "markdown",
   "metadata": {},
   "source": [
    "Uit de grafiek is de knick 2. We kunnen onze k aan 2 stellen."
   ]
  },
  {
   "cell_type": "code",
   "execution_count": 46,
   "metadata": {},
   "outputs": [
    {
     "name": "stdout",
     "output_type": "stream",
     "text": [
      "[[ 1.26346015  0.94450965]\n",
      " [-0.49240017 -0.52006053]]\n"
     ]
    }
   ],
   "source": [
    "# doe de clustering\n",
    "kmeans = KMeans(n_clusters=2, random_state=0).fit(X)\n",
    "\n",
    "# druk de middelpunten af\n",
    "print(kmeans.cluster_centers_)\n",
    "\n",
    "# deel twee nieuwe winkels in:\n",
    "#print(iceMeans.predict([[11, 15], [20, 4]]))"
   ]
  },
  {
   "cell_type": "code",
   "execution_count": 56,
   "metadata": {},
   "outputs": [],
   "source": [
    "Xmeans = X[\"Groep\"].copy()"
   ]
  },
  {
   "cell_type": "code",
   "execution_count": 57,
   "metadata": {},
   "outputs": [],
   "source": [
    "Xmeans = kmeans.labels_\n"
   ]
  },
  {
   "cell_type": "code",
   "execution_count": 58,
   "metadata": {},
   "outputs": [
    {
     "name": "stderr",
     "output_type": "stream",
     "text": [
      "No handles with labels found to put in legend.\n"
     ]
    },
    {
     "data": {
      "image/png": "[encoded data removed]",
      "text/plain": [
       "<Figure size 432x288 with 1 Axes>"
      ]
     },
     "metadata": {
      "needs_background": "light"
     },
     "output_type": "display_data"
    }
   ],
   "source": [
    "plt.scatter(X['residual sugar'], X['density'], c=X['Groep'], cmap='plasma')\n",
    "plt.xlim(0,2)\n",
    "plt.ylim(0,2)\n",
    "\n",
    "# Titel boven de grafiek:\n",
    "plt.title('k means op residual sugar en density')\n",
    "# X-as label\n",
    "plt.xlabel('residual sugar')\n",
    "# Y-as label\n",
    "plt.ylabel('density')\n",
    "# afdrukken legenda\n",
    "plt.legend()\n",
    "\n",
    "plt.show()"
   ]
  },
  {
   "cell_type": "code",
   "execution_count": 64,
   "metadata": {},
   "outputs": [
    {
     "data": {
      "text/plain": [
       "-3894.2251947081004"
      ]
     },
     "execution_count": 64,
     "metadata": {},
     "output_type": "execute_result"
    }
   ],
   "source": [
    "#Kwaliteit testen \n",
    "kmeans.score(X.loc[:, \"residual sugar\":\"density\"])"
   ]
  },
  {
   "cell_type": "markdown",
   "metadata": {},
   "source": [
    "## Communication "
   ]
  },
  {
   "cell_type": "code",
   "execution_count": null,
   "metadata": {},
   "outputs": [],
   "source": []
  }
 ],
 "metadata": {
  "kernelspec": {
   "display_name": "Python 3",
   "language": "python",
   "name": "python3"
  },
  "language_info": {
   "codemirror_mode": {
    "name": "ipython",
    "version": 3
   },
   "file_extension": ".py",
   "mimetype": "text/x-python",
   "name": "python",
   "nbconvert_exporter": "python",
   "pygments_lexer": "ipython3",
   "version": "3.7.3"
  }
 },
 "nbformat": 4,
 "nbformat_minor": 2
}
