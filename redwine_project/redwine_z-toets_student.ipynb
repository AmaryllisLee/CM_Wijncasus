{
 "cells": [
  {
   "cell_type": "markdown",
   "metadata": {},
   "source": [
    "# Z-toets wijnrecensies"
   ]
  },
  {
   "cell_type": "markdown",
   "metadata": {},
   "source": [
    "In het afgelopen jaar was het bijzonder zonnig in Portugal. De verbouwers van wijn vragen zich af of dit de zuurgraad (pH) van heeft beïnvloed, met andere woorden: of de wijnen uit het afgelopen jaar een andere pH hebben dan ???. Ze doen daarom een steekproef en meten de zuurgraad in enkele rode wijnen van afgelopen jaar. Daar komen de volgende meetwaarden uit:\n",
    "\n",
    "| Wijn | pH |\n",
    "|------|---------------|\n",
    "|Casa Santa Vitória| 3.41 | \n",
    "|Monte da Penha| 3.51 | \n",
    "|Real Companhia Velha| 3.39 | \n",
    "|Aveleda| 3.11 | \n",
    "|Companhia das Quintas| 3.21 | \n",
    "|J, Portugal Ramos| 3.50 | \n",
    "|Sogrape| 3.46 | \n",
    "|Casa Santos Lima| 3.37 | \n",
    "|Quinta de Ventozelo| 3.71 |\n",
    "\n",
    "Bepaal of deze wijnen een significant andere zuurgraad hebben dan gemiddeld. Neem de dataset als populatie en kies als betrouwbaarheid 95%."
   ]
  },
  {
   "cell_type": "markdown",
   "metadata": {},
   "source": [
    "# Uitwerking"
   ]
  },
  {
   "cell_type": "code",
   "execution_count": 2,
   "metadata": {
    "tags": [
     "student"
    ]
   },
   "outputs": [],
   "source": [
    "import numpy as np\n",
    "import pandas as pd\n",
    "import matplotlib.pyplot as plt\n",
    "import math \n",
    "import scipy.stats as st\n",
    "\n",
    "%matplotlib inline"
   ]
  },
  {
   "cell_type": "markdown",
   "metadata": {},
   "source": [
    "#### 1. Stel hypothesen op\n",
    "\n",
    "H0: de wijnen van vorig jaar hebben hetzelfde ph als gemiddeld\n",
    "\n",
    "Ha: de wijnen van vorig jaar hebben een andere ph als gemiddeld\n",
    "\n",
    "Er is sprake van een _dubbelzijdige_ toets"
   ]
  },
  {
   "cell_type": "code",
   "execution_count": 3,
   "metadata": {
    "scrolled": true,
    "tags": [
     "student"
    ]
   },
   "outputs": [
    {
     "data": {
      "text/plain": [
       "0    3.48\n",
       "1    3.26\n",
       "2    3.38\n",
       "3    3.38\n",
       "4    3.28\n",
       "5    3.21\n",
       "6    3.17\n",
       "7    3.25\n",
       "8    3.29\n",
       "9    3.38\n",
       "Name: pH, dtype: float64"
      ]
     },
     "execution_count": 3,
     "metadata": {},
     "output_type": "execute_result"
    }
   ],
   "source": [
    "# Dataset inlezen \n",
    "df = pd.read_csv('redwine.csv',encoding  = \"ansi\", delimiter = ';')\n",
    "populatie = df['pH'] # de pH kolom uithalen van onzen df \n",
    "populatie.head(10)"
   ]
  },
  {
   "cell_type": "code",
   "execution_count": 4,
   "metadata": {
    "tags": [
     "student"
    ]
   },
   "outputs": [
    {
     "data": {
      "text/html": [
       "<div>\n",
       "<style scoped>\n",
       "    .dataframe tbody tr th:only-of-type {\n",
       "        vertical-align: middle;\n",
       "    }\n",
       "\n",
       "    .dataframe tbody tr th {\n",
       "        vertical-align: top;\n",
       "    }\n",
       "\n",
       "    .dataframe thead th {\n",
       "        text-align: right;\n",
       "    }\n",
       "</style>\n",
       "<table border=\"1\" class=\"dataframe\">\n",
       "  <thead>\n",
       "    <tr style=\"text-align: right;\">\n",
       "      <th></th>\n",
       "      <th>ph</th>\n",
       "    </tr>\n",
       "  </thead>\n",
       "  <tbody>\n",
       "    <tr>\n",
       "      <th>0</th>\n",
       "      <td>3.41</td>\n",
       "    </tr>\n",
       "    <tr>\n",
       "      <th>1</th>\n",
       "      <td>3.51</td>\n",
       "    </tr>\n",
       "    <tr>\n",
       "      <th>2</th>\n",
       "      <td>3.39</td>\n",
       "    </tr>\n",
       "    <tr>\n",
       "      <th>3</th>\n",
       "      <td>3.11</td>\n",
       "    </tr>\n",
       "    <tr>\n",
       "      <th>4</th>\n",
       "      <td>3.21</td>\n",
       "    </tr>\n",
       "  </tbody>\n",
       "</table>\n",
       "</div>"
      ],
      "text/plain": [
       "     ph\n",
       "0  3.41\n",
       "1  3.51\n",
       "2  3.39\n",
       "3  3.11\n",
       "4  3.21"
      ]
     },
     "execution_count": 4,
     "metadata": {},
     "output_type": "execute_result"
    }
   ],
   "source": [
    "#Steekproef\n",
    "steekproef = pd.DataFrame()\n",
    "steekproef['ph'] = [3.41  ,3.51,  3.39, 3.11, 3.21, 3.50, 3.46, 3.37, 3.71]\n",
    "steekproefList =  [3.41  ,3.51,  3.39, 3.11, 3.21, 3.50, 3.46, 3.37, 3.71]\n",
    "steekproef.head()"
   ]
  },
  {
   "cell_type": "markdown",
   "metadata": {},
   "source": [
    "#### 3. Bepaal de foutmarge\n",
    "\n",
    "Gegeven: $\\alpha = 0.05$ of $0.025$"
   ]
  },
  {
   "cell_type": "code",
   "execution_count": 11,
   "metadata": {},
   "outputs": [
    {
     "name": "stdout",
     "output_type": "stream",
     "text": [
      "3.311200811359032\n",
      "ph    3.407778\n",
      "dtype: float64\n"
     ]
    }
   ],
   "source": [
    "# ggemiddelde berekennen\n",
    "u = populatie.mean() # gemidddelde populatie\n",
    "s = populatie.std() # stdev populatie\n",
    "x = steekproef.mean() # ggemiddelde steekproef\n",
    "n = len(steekproef)\n",
    "ox = s / math.sqrt(n) #staandaardfout(ox) = stdev populatie / wortel van n  (= grootte van populatie)\n",
    "#print(ox)\n",
    "print(u)\n",
    "print(x)"
   ]
  },
  {
   "cell_type": "markdown",
   "metadata": {},
   "source": [
    "#### 4. Bereken z-waarde en p-waarde (maak een schets)"
   ]
  },
  {
   "cell_type": "code",
   "execution_count": 6,
   "metadata": {},
   "outputs": [],
   "source": [
    "# de zscore van elke waarde in steekprroef\n",
    "lst = []\n",
    "for i in populatie:\n",
    "      lst.append(  (i- u)   /   s  )"
   ]
  },
  {
   "cell_type": "code",
   "execution_count": 7,
   "metadata": {},
   "outputs": [
    {
     "data": {
      "text/plain": [
       "ph    1.882258\n",
       "dtype: float64"
      ]
     },
     "execution_count": 7,
     "metadata": {},
     "output_type": "execute_result"
    }
   ],
   "source": [
    "#z-toetstwaarde\n",
    "z = (x - u)/ox\n",
    "z"
   ]
  },
  {
   "cell_type": "code",
   "execution_count": 12,
   "metadata": {},
   "outputs": [
    {
     "name": "stdout",
     "output_type": "stream",
     "text": [
      "De p-waarde p = 0.0301\n"
     ]
    }
   ],
   "source": [
    "#Uit de tabel halen we P(z>1.88)\n",
    "p = 1 - 0.9699\n",
    "print(\"De p-waarde p = {:.4f}\".format(p))"
   ]
  },
  {
   "cell_type": "markdown",
   "metadata": {
    "tags": [
     "student"
    ]
   },
   "source": [
    "p  >2.5% , dus Ha kan aangenomen worden en H0 moet  verworpen worden. "
   ]
  },
  {
   "cell_type": "code",
   "execution_count": 20,
   "metadata": {},
   "outputs": [
    {
     "name": "stdout",
     "output_type": "stream",
     "text": [
      "[0.02990047]\n",
      "De p-waarde p = 0.0299\n"
     ]
    }
   ],
   "source": [
    "#p waarde berekenen met behulp van stats.norm van scipy\n",
    "p2 = 1 - st.norm.cdf(z)\n",
    "print(\"De p-waarde p = {:.4f}\".format(p2[0]))"
   ]
  },
  {
   "cell_type": "markdown",
   "metadata": {
    "scrolled": true,
    "tags": [
     "student"
    ]
   },
   "source": [
    "#### 5. Conclusie\n",
    "Ha wordt aangenome en H0  wordt verworpen .\n",
    "\n",
    "Er geldt dat $p = 0.0299 < \\alpha = 0.05$.\n",
    "Dat p = 0.0299 betekent dat deze uitkomst niet door toeval kan plaatsvinden, \n",
    "dus we verwerpen $H_0$ en aanvaarden $H_A$: de wijnen van vorig jaar hebben een andere ph als gemiddeld\n"
   ]
  }
 ],
 "metadata": {
  "celltoolbar": "Tags",
  "kernelspec": {
   "display_name": "Python 3",
   "language": "python",
   "name": "python3"
  },
  "language_info": {
   "codemirror_mode": {
    "name": "ipython",
    "version": 3
   },
   "file_extension": ".py",
   "mimetype": "text/x-python",
   "name": "python",
   "nbconvert_exporter": "python",
   "pygments_lexer": "ipython3",
   "version": "3.7.3"
  }
 },
 "nbformat": 4,
 "nbformat_minor": 2
}
