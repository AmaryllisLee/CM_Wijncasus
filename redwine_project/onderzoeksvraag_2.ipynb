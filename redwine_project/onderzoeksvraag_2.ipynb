{
 "cells": [
  {
   "cell_type": "markdown",
   "metadata": {},
   "source": [
    "# Redwine"
   ]
  },
  {
   "cell_type": "markdown",
   "metadata": {},
   "source": [
    "Namen - Studentennummer\n",
    "* Quinn de Groot\n",
    "* Kaai ter Horst\n",
    "* Amaryllis Lee  - 1735290"
   ]
  },
  {
   "cell_type": "markdown",
   "metadata": {},
   "source": [
    "### Casusopdracht\n",
    "Voor deze casus moeten we een data science pipeline maken, waarbij we dataset redwine.csv analyseert. Het uitgangspunt van de analyse is een aantal onderzoeksvragen. Vervolgens doorloop je het data science proces van CRISP-DM en leg je de resultaten op een reproduceerbare manier vast in Jupyter Notebook."
   ]
  },
  {
   "cell_type": "markdown",
   "metadata": {},
   "source": [
    "### Onderzoeksvragen"
   ]
  },
  {
   "cell_type": "markdown",
   "metadata": {},
   "source": [
    "Er zijn drie onderzoekesvragen beschreven, waar een verplecht is van de opdracht en 2 zelf bedacht zijn.Bovendien zijn er ook de eisen die we zullen toepassen voor elke ondezeoksvraag."
   ]
  },
  {
   "cell_type": "markdown",
   "metadata": {},
   "source": [
    " 1.\t**In hoeverre is de score van een Portugese Red te voorspellen op basis van de chemische kenmerken?**\n",
    "    1.\tToepassing van een supervised machine learning \n",
    "    2.\tCorrelatieonderzoek\n",
    "    \n",
    "2.\t**Kunnen we verschillende groepen vinden van de wijnen met een hoge score op base van de chemische samenstelling?**\n",
    "    1.\tToepassing van een unsupervised machine learning\n",
    "    2.\tGebruik van externe dataset\n",
    "    \n",
    "3.\t**Wat is het verband tusen de ingredienten van de wijnen en de regio's?**\n",
    "    1.\tInteractieve visualisatie\n",
    "    2.\tToepassing van supervised learning.\n"
   ]
  },
  {
   "cell_type": "markdown",
   "metadata": {},
   "source": [
    "## Inhoud\n",
    "\n",
    "1. Data Understanding\n",
    "    - Data Collection \n",
    "    - Data exploration & analysis\n",
    "2. Data Preparation\n",
    "    - Data munging\n",
    "    - Data cleaning\n",
    "3. Data Analyses\n",
    "    - Analyse oderzoeksvraag 1\n",
    "    - Analyse onderzoeksvraag 2\n",
    "    - Analyse onderzoeksvraag 3\n"
   ]
  },
  {
   "cell_type": "markdown",
   "metadata": {},
   "source": [
    "## Data Understanding "
   ]
  },
  {
   "cell_type": "markdown",
   "metadata": {},
   "source": [
    "### Data Collection \n",
    "In de Data Collection zullen de libraries gaan importeren, de toegewezen datasets en de externe dataset gaan inlezenen bekijken.\n",
    "De bron voor de externe dataset: https://www.kaggle.com/piyushgoyal443/red-wine-dataset"
   ]
  },
  {
   "cell_type": "markdown",
   "metadata": {},
   "source": [
    "#### Libraries importeren "
   ]
  },
  {
   "cell_type": "code",
   "execution_count": 3,
   "metadata": {},
   "outputs": [],
   "source": [
    "import numpy as np \n",
    "import pandas as pd\n",
    "import matplotlib.pyplot as plt\n",
    "import seaborn as sns\n",
    "\n",
    "%matplotlib inline"
   ]
  },
  {
   "cell_type": "markdown",
   "metadata": {},
   "source": [
    "#### Datasets inlezen en verkennen "
   ]
  },
  {
   "cell_type": "code",
   "execution_count": 4,
   "metadata": {
    "scrolled": true
   },
   "outputs": [
    {
     "data": {
      "text/html": [
       "<div>\n",
       "<style scoped>\n",
       "    .dataframe tbody tr th:only-of-type {\n",
       "        vertical-align: middle;\n",
       "    }\n",
       "\n",
       "    .dataframe tbody tr th {\n",
       "        vertical-align: top;\n",
       "    }\n",
       "\n",
       "    .dataframe thead th {\n",
       "        text-align: right;\n",
       "    }\n",
       "</style>\n",
       "<table border=\"1\" class=\"dataframe\">\n",
       "  <thead>\n",
       "    <tr style=\"text-align: right;\">\n",
       "      <th></th>\n",
       "      <th>id</th>\n",
       "      <th>points</th>\n",
       "      <th>price</th>\n",
       "      <th>fixed acidity</th>\n",
       "      <th>volatile acidity</th>\n",
       "      <th>residual sugar</th>\n",
       "      <th>chlorides</th>\n",
       "      <th>free sulfur dioxide</th>\n",
       "      <th>total sulfur dioxide</th>\n",
       "      <th>pH</th>\n",
       "      <th>sulphates</th>\n",
       "    </tr>\n",
       "  </thead>\n",
       "  <tbody>\n",
       "    <tr>\n",
       "      <th>count</th>\n",
       "      <td>2465.000000</td>\n",
       "      <td>2465.000000</td>\n",
       "      <td>2196.000000</td>\n",
       "      <td>2465.000000</td>\n",
       "      <td>2465.000000</td>\n",
       "      <td>2465.000000</td>\n",
       "      <td>2465.000000</td>\n",
       "      <td>2465.000000</td>\n",
       "      <td>2465.000000</td>\n",
       "      <td>2465.000000</td>\n",
       "      <td>2465.000000</td>\n",
       "    </tr>\n",
       "    <tr>\n",
       "      <th>mean</th>\n",
       "      <td>1233.089655</td>\n",
       "      <td>88.811359</td>\n",
       "      <td>24.819217</td>\n",
       "      <td>8.352819</td>\n",
       "      <td>0.528162</td>\n",
       "      <td>2.562353</td>\n",
       "      <td>0.087485</td>\n",
       "      <td>15.804665</td>\n",
       "      <td>47.218661</td>\n",
       "      <td>3.311201</td>\n",
       "      <td>0.660353</td>\n",
       "    </tr>\n",
       "    <tr>\n",
       "      <th>std</th>\n",
       "      <td>711.869967</td>\n",
       "      <td>2.974000</td>\n",
       "      <td>25.539475</td>\n",
       "      <td>1.734847</td>\n",
       "      <td>0.178869</td>\n",
       "      <td>1.407030</td>\n",
       "      <td>0.047043</td>\n",
       "      <td>10.379218</td>\n",
       "      <td>33.187830</td>\n",
       "      <td>0.153927</td>\n",
       "      <td>0.172531</td>\n",
       "    </tr>\n",
       "    <tr>\n",
       "      <th>min</th>\n",
       "      <td>1.000000</td>\n",
       "      <td>81.000000</td>\n",
       "      <td>5.000000</td>\n",
       "      <td>4.600000</td>\n",
       "      <td>0.120000</td>\n",
       "      <td>0.900000</td>\n",
       "      <td>0.012000</td>\n",
       "      <td>1.000000</td>\n",
       "      <td>6.000000</td>\n",
       "      <td>2.740000</td>\n",
       "      <td>0.330000</td>\n",
       "    </tr>\n",
       "    <tr>\n",
       "      <th>25%</th>\n",
       "      <td>617.000000</td>\n",
       "      <td>87.000000</td>\n",
       "      <td>12.000000</td>\n",
       "      <td>7.100000</td>\n",
       "      <td>0.400000</td>\n",
       "      <td>1.900000</td>\n",
       "      <td>0.070000</td>\n",
       "      <td>7.000000</td>\n",
       "      <td>22.000000</td>\n",
       "      <td>3.210000</td>\n",
       "      <td>0.550000</td>\n",
       "    </tr>\n",
       "    <tr>\n",
       "      <th>50%</th>\n",
       "      <td>1233.000000</td>\n",
       "      <td>88.000000</td>\n",
       "      <td>17.000000</td>\n",
       "      <td>7.900000</td>\n",
       "      <td>0.520000</td>\n",
       "      <td>2.200000</td>\n",
       "      <td>0.079000</td>\n",
       "      <td>14.000000</td>\n",
       "      <td>38.000000</td>\n",
       "      <td>3.310000</td>\n",
       "      <td>0.620000</td>\n",
       "    </tr>\n",
       "    <tr>\n",
       "      <th>75%</th>\n",
       "      <td>1849.000000</td>\n",
       "      <td>91.000000</td>\n",
       "      <td>28.000000</td>\n",
       "      <td>9.300000</td>\n",
       "      <td>0.635000</td>\n",
       "      <td>2.600000</td>\n",
       "      <td>0.091000</td>\n",
       "      <td>21.000000</td>\n",
       "      <td>64.000000</td>\n",
       "      <td>3.400000</td>\n",
       "      <td>0.730000</td>\n",
       "    </tr>\n",
       "    <tr>\n",
       "      <th>max</th>\n",
       "      <td>2466.000000</td>\n",
       "      <td>100.000000</td>\n",
       "      <td>450.000000</td>\n",
       "      <td>15.900000</td>\n",
       "      <td>1.580000</td>\n",
       "      <td>15.500000</td>\n",
       "      <td>0.611000</td>\n",
       "      <td>72.000000</td>\n",
       "      <td>289.000000</td>\n",
       "      <td>4.010000</td>\n",
       "      <td>2.000000</td>\n",
       "    </tr>\n",
       "  </tbody>\n",
       "</table>\n",
       "</div>"
      ],
      "text/plain": [
       "                id       points        price  fixed acidity  volatile acidity  \\\n",
       "count  2465.000000  2465.000000  2196.000000    2465.000000       2465.000000   \n",
       "mean   1233.089655    88.811359    24.819217       8.352819          0.528162   \n",
       "std     711.869967     2.974000    25.539475       1.734847          0.178869   \n",
       "min       1.000000    81.000000     5.000000       4.600000          0.120000   \n",
       "25%     617.000000    87.000000    12.000000       7.100000          0.400000   \n",
       "50%    1233.000000    88.000000    17.000000       7.900000          0.520000   \n",
       "75%    1849.000000    91.000000    28.000000       9.300000          0.635000   \n",
       "max    2466.000000   100.000000   450.000000      15.900000          1.580000   \n",
       "\n",
       "       residual sugar    chlorides  free sulfur dioxide  total sulfur dioxide  \\\n",
       "count     2465.000000  2465.000000          2465.000000           2465.000000   \n",
       "mean         2.562353     0.087485            15.804665             47.218661   \n",
       "std          1.407030     0.047043            10.379218             33.187830   \n",
       "min          0.900000     0.012000             1.000000              6.000000   \n",
       "25%          1.900000     0.070000             7.000000             22.000000   \n",
       "50%          2.200000     0.079000            14.000000             38.000000   \n",
       "75%          2.600000     0.091000            21.000000             64.000000   \n",
       "max         15.500000     0.611000            72.000000            289.000000   \n",
       "\n",
       "                pH    sulphates  \n",
       "count  2465.000000  2465.000000  \n",
       "mean      3.311201     0.660353  \n",
       "std       0.153927     0.172531  \n",
       "min       2.740000     0.330000  \n",
       "25%       3.210000     0.550000  \n",
       "50%       3.310000     0.620000  \n",
       "75%       3.400000     0.730000  \n",
       "max       4.010000     2.000000  "
      ]
     },
     "execution_count": 4,
     "metadata": {},
     "output_type": "execute_result"
    }
   ],
   "source": [
    "# load dataset redwine.csv\n",
    "df = pd.read_csv('redwine.csv',encoding  = \"cp1252\", delimiter = ';')\n",
    "# De attributen van de dataset  bekijken\n",
    "df.describe()"
   ]
  },
  {
   "cell_type": "code",
   "execution_count": 5,
   "metadata": {},
   "outputs": [
    {
     "data": {
      "text/plain": [
       "Index(['id', 'country', 'description', 'designation', 'points', 'price',\n",
       "       'province', 'taster_name', 'title', 'variety', 'winery',\n",
       "       'fixed acidity', 'volatile acidity', 'citric acid', 'residual sugar',\n",
       "       'chlorides', 'free sulfur dioxide', 'total sulfur dioxide', 'density',\n",
       "       'pH', 'sulphates', 'alcohol'],\n",
       "      dtype='object')"
      ]
     },
     "execution_count": 5,
     "metadata": {},
     "output_type": "execute_result"
    }
   ],
   "source": [
    "df.columns"
   ]
  },
  {
   "cell_type": "markdown",
   "metadata": {},
   "source": [
    "### Data exploration"
   ]
  },
  {
   "cell_type": "markdown",
   "metadata": {},
   "source": [
    "Er zal in de data redwine.csv ( **df** ) de *features* word bekeken.Er wordt gezien of de *feautures* in de dataset compleet is en goed is voor het oplossen van de onderzoeksvragen "
   ]
  },
  {
   "cell_type": "code",
   "execution_count": 6,
   "metadata": {},
   "outputs": [
    {
     "data": {
      "text/plain": [
       "(2465, 22)"
      ]
     },
     "execution_count": 6,
     "metadata": {},
     "output_type": "execute_result"
    }
   ],
   "source": [
    "# Dimensie bekijken van df \n",
    "df.shape "
   ]
  },
  {
   "cell_type": "code",
   "execution_count": 7,
   "metadata": {},
   "outputs": [
    {
     "data": {
      "text/plain": [
       "Index(['id', 'country', 'description', 'designation', 'points', 'price',\n",
       "       'province', 'taster_name', 'title', 'variety', 'winery',\n",
       "       'fixed acidity', 'volatile acidity', 'citric acid', 'residual sugar',\n",
       "       'chlorides', 'free sulfur dioxide', 'total sulfur dioxide', 'density',\n",
       "       'pH', 'sulphates', 'alcohol'],\n",
       "      dtype='object')"
      ]
     },
     "execution_count": 7,
     "metadata": {},
     "output_type": "execute_result"
    }
   ],
   "source": [
    "# Return een lijst van de features in de dataset\n",
    "df.columns"
   ]
  },
  {
   "cell_type": "code",
   "execution_count": 8,
   "metadata": {},
   "outputs": [
    {
     "data": {
      "text/plain": [
       "id                        int64\n",
       "country                  object\n",
       "description              object\n",
       "designation              object\n",
       "points                    int64\n",
       "price                   float64\n",
       "province                 object\n",
       "taster_name              object\n",
       "title                    object\n",
       "variety                  object\n",
       "winery                   object\n",
       "fixed acidity           float64\n",
       "volatile acidity        float64\n",
       "citric acid              object\n",
       "residual sugar          float64\n",
       "chlorides               float64\n",
       "free sulfur dioxide     float64\n",
       "total sulfur dioxide    float64\n",
       "density                  object\n",
       "pH                      float64\n",
       "sulphates               float64\n",
       "alcohol                  object\n",
       "dtype: object"
      ]
     },
     "execution_count": 8,
     "metadata": {},
     "output_type": "execute_result"
    }
   ],
   "source": [
    "# De datypes voor elke feature\n",
    "df.dtypes"
   ]
  },
  {
   "cell_type": "code",
   "execution_count": 9,
   "metadata": {
    "scrolled": true
   },
   "outputs": [
    {
     "data": {
      "text/plain": [
       "6.0"
      ]
     },
     "execution_count": 9,
     "metadata": {},
     "output_type": "execute_result"
    }
   ],
   "source": [
    "#Bekijk de waardes van de features.\n",
    "df['total sulfur dioxide'].min()"
   ]
  },
  {
   "cell_type": "markdown",
   "metadata": {},
   "source": [
    "\n",
    "- Numerieke features:  \n",
    "    - id\n",
    "    - points \n",
    "    - price\n",
    "    - fixed_acidity\n",
    "    - volatile acidity\n",
    "    - residual sugar\n",
    "    - chlorides\n",
    "    - free sulfur dioxide\n",
    "    - total sulfur dioxide\n",
    "    - pH \n",
    "    - sulphates\n",
    "    - alcohol\n",
    "- Characters (string) Features\n",
    "    - country                  # moet verwijdert worden, alle waarden = Portugal\n",
    "    - description              \n",
    "    - designation               \n",
    "    - province                 \n",
    "    - taster_name              \n",
    "    - title                    \n",
    "    - variety                  # moet verwijderd worden\n",
    "    - winery                   \n",
    "    \n",
    "  "
   ]
  },
  {
   "cell_type": "code",
   "execution_count": 10,
   "metadata": {},
   "outputs": [
    {
     "name": "stdout",
     "output_type": "stream",
     "text": [
      "['Portuguese Red']\n",
      "['Portugal']\n"
     ]
    }
   ],
   "source": [
    "print(df['variety'].unique()) # Er is te zien dat alle wijnen zij Portuguese Red, dus dit kolom kunnen we verwijderen .\n",
    "print(df['country'].unique()) # Er is te zien dat alle wijnen zij Portugal, dus dit kolom kunnen we verwijderen."
   ]
  },
  {
   "cell_type": "markdown",
   "metadata": {},
   "source": [
    "Alle features die de datatype object heeft, moet de volgende datatypes hebben.\n",
    "! : features die we gaan gebruiken om onderzoeksvragen op te lossen.\n",
    "* country                  object \n",
    "* description              object \n",
    "* designation              object\n",
    "* province                 object \n",
    "* taster_name              object \n",
    "* title                    object\n",
    "* variety                  object  \n",
    "* winery                   object  \n",
    "* citric acid              object - float!\n",
    "* density                  object - float!\n",
    "* alcohol                  object - float!"
   ]
  },
  {
   "cell_type": "code",
   "execution_count": 11,
   "metadata": {},
   "outputs": [
    {
     "data": {
      "text/plain": [
       "0      0.4\n",
       "1     0.37\n",
       "2     0.07\n",
       "3     0.07\n",
       "4     0.34\n",
       "5     0.42\n",
       "6     0.43\n",
       "7     -   \n",
       "8     0.41\n",
       "9     0.07\n",
       "Name: citric acid, dtype: object"
      ]
     },
     "execution_count": 11,
     "metadata": {},
     "output_type": "execute_result"
    }
   ],
   "source": [
    "df['citric acid'].head(10)"
   ]
  },
  {
   "cell_type": "code",
   "execution_count": 12,
   "metadata": {},
   "outputs": [],
   "source": [
    "# de datatypes van de nodige features veranderen \n",
    "# we gebruiken errors = 'coerce' om alle invalid parsing naar NaN te zetten.\n",
    "df['citric acid'] = pd.to_numeric(df['citric acid'], errors = 'coerce')\n",
    "df['density']     = pd.to_numeric(df['density'], errors = 'coerce')\n",
    "df['alcohol']     = pd.to_numeric(df['alcohol'], errors = 'coerce')"
   ]
  },
  {
   "cell_type": "code",
   "execution_count": 13,
   "metadata": {},
   "outputs": [
    {
     "data": {
      "text/plain": [
       "id                        int64\n",
       "country                  object\n",
       "description              object\n",
       "designation              object\n",
       "points                    int64\n",
       "price                   float64\n",
       "province                 object\n",
       "taster_name              object\n",
       "title                    object\n",
       "variety                  object\n",
       "winery                   object\n",
       "fixed acidity           float64\n",
       "volatile acidity        float64\n",
       "citric acid             float64\n",
       "residual sugar          float64\n",
       "chlorides               float64\n",
       "free sulfur dioxide     float64\n",
       "total sulfur dioxide    float64\n",
       "density                 float64\n",
       "pH                      float64\n",
       "sulphates               float64\n",
       "alcohol                 float64\n",
       "dtype: object"
      ]
     },
     "execution_count": 13,
     "metadata": {},
     "output_type": "execute_result"
    }
   ],
   "source": [
    "df.dtypes"
   ]
  },
  {
   "cell_type": "markdown",
   "metadata": {},
   "source": [
    "#### Missend waardes\n",
    "Er wordt bekeken of er missend waardes zijn in de kolommen. Verder wordt deze missend waardes verwerkt of verwijdert."
   ]
  },
  {
   "cell_type": "code",
   "execution_count": 14,
   "metadata": {},
   "outputs": [
    {
     "data": {
      "text/plain": [
       "id                        0\n",
       "country                   0\n",
       "description               0\n",
       "designation             153\n",
       "points                    0\n",
       "price                   269\n",
       "province                  0\n",
       "taster_name               0\n",
       "title                     0\n",
       "variety                   0\n",
       "winery                    0\n",
       "fixed acidity             0\n",
       "volatile acidity          0\n",
       "citric acid             203\n",
       "residual sugar            0\n",
       "chlorides                 0\n",
       "free sulfur dioxide       0\n",
       "total sulfur dioxide      0\n",
       "density                   1\n",
       "pH                        0\n",
       "sulphates                 0\n",
       "alcohol                  10\n",
       "dtype: int64"
      ]
     },
     "execution_count": 14,
     "metadata": {},
     "output_type": "execute_result"
    }
   ],
   "source": [
    "df.isnull().sum()"
   ]
  },
  {
   "cell_type": "markdown",
   "metadata": {},
   "source": [
    "Aan de hand van de data exploration, kunnen we de volgende kolommen verwijderen:\n",
    "* country : Deze kolom bevat alleen de waarde Portugal, we kunnen concluderen dat alle wijen komt van Portugal\n",
    "* variety : Deze kolom bevat alleen de waarde Portuguese Red\n",
    "* designation  en price: Deze kolommen zullen we niet gaan gebruiken om onze onderzoeksvragen op te lossen en ze  bevatten veel NaN waarden. "
   ]
  },
  {
   "cell_type": "code",
   "execution_count": 15,
   "metadata": {
    "scrolled": false
   },
   "outputs": [],
   "source": [
    "#kolommen verwijderen \n",
    "df = df.drop(['country'], axis = 1)\n",
    "df = df.drop(['variety'], axis = 1)\n",
    "df = df.drop(['designation'], axis = 1)\n",
    "df = df.drop(['price'], axis = 1)"
   ]
  },
  {
   "cell_type": "markdown",
   "metadata": {},
   "source": [
    "### Data  analysis\n",
    "*In deze sectie worden een analyse uitgevoerd op de dataset voor de onderzoeksvragen*\n",
    "Hier worden gekeken naar de "
   ]
  },
  {
   "cell_type": "markdown",
   "metadata": {},
   "source": [
    "#### Analyse  onderzoeksvraag 3: \n",
    "In deze analyse gaan we de unieke aantal wijnen per regio bepalen. Hiermee kunnen we een steekproef nemen van de provincie die minstens een aantal wijnen bevatten."
   ]
  },
  {
   "cell_type": "code",
   "execution_count": 16,
   "metadata": {},
   "outputs": [
    {
     "data": {
      "text/plain": [
       "count      2465\n",
       "unique       30\n",
       "top       Douro\n",
       "freq        880\n",
       "Name: province, dtype: object"
      ]
     },
     "execution_count": 16,
     "metadata": {},
     "output_type": "execute_result"
    }
   ],
   "source": [
    "#informatie halen van kolom 'province'\n",
    "df['province'].describe() "
   ]
  },
  {
   "cell_type": "markdown",
   "metadata": {},
   "source": [
    "Uit de bovenstaande code kunnen we de onderstaande informatie uithalen:\n",
    "* count : Er zijn 2456 regio's\n",
    "* unique : Uit de 2456 regio's zijn er 30 unieke regio's\n",
    "* top : Duoro's is de meeste voorkomende regio\n",
    "* freq : De regio komt voor 880 keer in de kolom"
   ]
  },
  {
   "cell_type": "code",
   "execution_count": 17,
   "metadata": {},
   "outputs": [],
   "source": [
    "#aantal wijnen per regio\n",
    "wijnen_regios = df.groupby(df['province'].loc[df['points'] > 0]).count()['title']"
   ]
  },
  {
   "cell_type": "code",
   "execution_count": 18,
   "metadata": {},
   "outputs": [
    {
     "data": {
      "text/plain": [
       "<matplotlib.axes._subplots.AxesSubplot at 0x26b0ee7cb70>"
      ]
     },
     "execution_count": 18,
     "metadata": {},
     "output_type": "execute_result"
    },
    {
     "data": {
      "image/png": "[encoded data removed]",
      "text/plain": [
       "<Figure size 720x576 with 1 Axes>"
      ]
     },
     "metadata": {
      "needs_background": "light"
     },
     "output_type": "display_data"
    }
   ],
   "source": [
    "\n",
    "plt.figure(figsize = (10,8) )\n",
    "wijnen_regios.plot(kind = 'barh', stacked = True)"
   ]
  },
  {
   "cell_type": "code",
   "execution_count": 19,
   "metadata": {},
   "outputs": [],
   "source": [
    "# aantal unieke wijnen per regio bepalen\n",
    "unieke_wijnen = list(df.groupby(df['province'].loc[df['points'] > 0]).count()['title'])\n",
    "unieke_regios = [str(i) for i in df['province'].unique()] # zet alle unieke regio's in een lijst"
   ]
  },
  {
   "cell_type": "code",
   "execution_count": 20,
   "metadata": {},
   "outputs": [
    {
     "data": {
      "text/plain": [
       "\"\\n   #visualiseer in een staaf diagram\\nbar_width = 0.25\\n\\n\\nplt.figure(figsize = (9,6), dpi=150)\\n\\n#Data \\nindex = np.arange(len(df['province'].unique()))  # the label locations\\nplt.bar(index, unieke_wijnen, bar_width)\\n\\n#Assen \\nx.set_xlabel('Regio's in Portugal')\\nx.set_xticks(index + bar_width,unieke_regios)\\nx.set_xticklabel(df['province'], rotation = 50)\\nx.set_title('Aantal unieke wijnen per regio in Portugal')\\n\\n#TODO : alle x cpprdinaten (regio's) in de grafiek laten tonen.\\n\\nplt.show()\\n\""
      ]
     },
     "execution_count": 20,
     "metadata": {},
     "output_type": "execute_result"
    }
   ],
   "source": [
    " '''\n",
    "    #visualiseer in een staaf diagram\n",
    "bar_width = 0.25\n",
    "\n",
    "\n",
    "plt.figure(figsize = (9,6), dpi=150)\n",
    "\n",
    "#Data \n",
    "index = np.arange(len(df['province'].unique()))  # the label locations\n",
    "plt.bar(index, unieke_wijnen, bar_width)\n",
    "\n",
    "#Assen \n",
    "x.set_xlabel('Regio\\'s in Portugal')\n",
    "x.set_xticks(index + bar_width,unieke_regios)\n",
    "x.set_xticklabel(df['province'], rotation = 50)\n",
    "x.set_title('Aantal unieke wijnen per regio in Portugal')\n",
    "\n",
    "#TODO : alle x cpprdinaten (regio's) in de grafiek laten tonen.\n",
    "\n",
    "plt.show()\n",
    "'''"
   ]
  },
  {
   "cell_type": "markdown",
   "metadata": {},
   "source": [
    "Deze grafiek geeft de aantal unieke wijnen per regio. \n",
    "Elke bar geeft een provincie aan.\n",
    "Hiermee kunnen we zien welke provincies kunnen  we nemne als selectie om onze onderzoeksvragen op te lossen.\n",
    "\n",
    "Aan de hand van de grafieken, nemen we een selectie van alle regio's die meer dan 10 wijnen hebt."
   ]
  },
  {
   "cell_type": "markdown",
   "metadata": {},
   "source": [
    "# Onderzoeksvraag 2: Ama"
   ]
  },
  {
   "cell_type": "markdown",
   "metadata": {},
   "source": [
    "**Kunnen we verschillende groepen vinden van de wijnen met een hoge score op base van de chemische samenstelling?**\n",
    "* Toepassing van een unsupervised machine learning\n",
    "* Gebruik van externe dataset\n",
    "\n",
    "Er zal voor deze onderzoeksvraag gebruik maken van clustering en de model k means."
   ]
  },
  {
   "cell_type": "markdown",
   "metadata": {},
   "source": [
    "1. Externe dataset\n",
    "3. boxplot voor elke chemische samenstelling"
   ]
  },
  {
   "cell_type": "code",
   "execution_count": 21,
   "metadata": {},
   "outputs": [
    {
     "data": {
      "text/plain": [
       "(2465, 18)"
      ]
     },
     "execution_count": 21,
     "metadata": {},
     "output_type": "execute_result"
    }
   ],
   "source": [
    "df.shape"
   ]
  },
  {
   "cell_type": "code",
   "execution_count": 22,
   "metadata": {},
   "outputs": [
    {
     "data": {
      "text/html": [
       "<div>\n",
       "<style scoped>\n",
       "    .dataframe tbody tr th:only-of-type {\n",
       "        vertical-align: middle;\n",
       "    }\n",
       "\n",
       "    .dataframe tbody tr th {\n",
       "        vertical-align: top;\n",
       "    }\n",
       "\n",
       "    .dataframe thead th {\n",
       "        text-align: right;\n",
       "    }\n",
       "</style>\n",
       "<table border=\"1\" class=\"dataframe\">\n",
       "  <thead>\n",
       "    <tr style=\"text-align: right;\">\n",
       "      <th></th>\n",
       "      <th>fixed acidity</th>\n",
       "      <th>volatile acidity</th>\n",
       "      <th>citric acid</th>\n",
       "      <th>residual sugar</th>\n",
       "      <th>chlorides</th>\n",
       "      <th>free sulfur dioxide</th>\n",
       "      <th>total sulfur dioxide</th>\n",
       "      <th>density</th>\n",
       "      <th>pH</th>\n",
       "      <th>sulphates</th>\n",
       "      <th>alcohol</th>\n",
       "      <th>quality</th>\n",
       "    </tr>\n",
       "  </thead>\n",
       "  <tbody>\n",
       "    <tr>\n",
       "      <th>0</th>\n",
       "      <td>7.0</td>\n",
       "      <td>0.27</td>\n",
       "      <td>0.36</td>\n",
       "      <td>20.7</td>\n",
       "      <td>0.045</td>\n",
       "      <td>45.0</td>\n",
       "      <td>170.0</td>\n",
       "      <td>1.0010</td>\n",
       "      <td>3.00</td>\n",
       "      <td>0.45</td>\n",
       "      <td>8.8</td>\n",
       "      <td>6</td>\n",
       "    </tr>\n",
       "    <tr>\n",
       "      <th>1</th>\n",
       "      <td>6.3</td>\n",
       "      <td>0.30</td>\n",
       "      <td>0.34</td>\n",
       "      <td>1.6</td>\n",
       "      <td>0.049</td>\n",
       "      <td>14.0</td>\n",
       "      <td>132.0</td>\n",
       "      <td>0.9940</td>\n",
       "      <td>3.30</td>\n",
       "      <td>0.49</td>\n",
       "      <td>9.5</td>\n",
       "      <td>6</td>\n",
       "    </tr>\n",
       "    <tr>\n",
       "      <th>2</th>\n",
       "      <td>8.1</td>\n",
       "      <td>0.28</td>\n",
       "      <td>0.40</td>\n",
       "      <td>6.9</td>\n",
       "      <td>0.050</td>\n",
       "      <td>30.0</td>\n",
       "      <td>97.0</td>\n",
       "      <td>0.9951</td>\n",
       "      <td>3.26</td>\n",
       "      <td>0.44</td>\n",
       "      <td>10.1</td>\n",
       "      <td>6</td>\n",
       "    </tr>\n",
       "    <tr>\n",
       "      <th>3</th>\n",
       "      <td>7.2</td>\n",
       "      <td>0.23</td>\n",
       "      <td>0.32</td>\n",
       "      <td>8.5</td>\n",
       "      <td>0.058</td>\n",
       "      <td>47.0</td>\n",
       "      <td>186.0</td>\n",
       "      <td>0.9956</td>\n",
       "      <td>3.19</td>\n",
       "      <td>0.40</td>\n",
       "      <td>9.9</td>\n",
       "      <td>6</td>\n",
       "    </tr>\n",
       "    <tr>\n",
       "      <th>4</th>\n",
       "      <td>7.2</td>\n",
       "      <td>0.23</td>\n",
       "      <td>0.32</td>\n",
       "      <td>8.5</td>\n",
       "      <td>0.058</td>\n",
       "      <td>47.0</td>\n",
       "      <td>186.0</td>\n",
       "      <td>0.9956</td>\n",
       "      <td>3.19</td>\n",
       "      <td>0.40</td>\n",
       "      <td>9.9</td>\n",
       "      <td>6</td>\n",
       "    </tr>\n",
       "  </tbody>\n",
       "</table>\n",
       "</div>"
      ],
      "text/plain": [
       "   fixed acidity  volatile acidity  citric acid  residual sugar  chlorides  \\\n",
       "0            7.0              0.27         0.36            20.7      0.045   \n",
       "1            6.3              0.30         0.34             1.6      0.049   \n",
       "2            8.1              0.28         0.40             6.9      0.050   \n",
       "3            7.2              0.23         0.32             8.5      0.058   \n",
       "4            7.2              0.23         0.32             8.5      0.058   \n",
       "\n",
       "   free sulfur dioxide  total sulfur dioxide  density    pH  sulphates  \\\n",
       "0                 45.0                 170.0   1.0010  3.00       0.45   \n",
       "1                 14.0                 132.0   0.9940  3.30       0.49   \n",
       "2                 30.0                  97.0   0.9951  3.26       0.44   \n",
       "3                 47.0                 186.0   0.9956  3.19       0.40   \n",
       "4                 47.0                 186.0   0.9956  3.19       0.40   \n",
       "\n",
       "   alcohol  quality  \n",
       "0      8.8        6  \n",
       "1      9.5        6  \n",
       "2     10.1        6  \n",
       "3      9.9        6  \n",
       "4      9.9        6  "
      ]
     },
     "execution_count": 22,
     "metadata": {},
     "output_type": "execute_result"
    }
   ],
   "source": [
    "#load extenr dataset.\n",
    "whiteWine = pd.read_csv('winequality-white.csv', delimiter = ';')\n",
    "whiteWine.head()"
   ]
  },
  {
   "cell_type": "code",
   "execution_count": 23,
   "metadata": {},
   "outputs": [
    {
     "data": {
      "text/plain": [
       "count    4898.000000\n",
       "mean        5.877909\n",
       "std         0.885639\n",
       "min         3.000000\n",
       "25%         5.000000\n",
       "50%         6.000000\n",
       "75%         6.000000\n",
       "max         9.000000\n",
       "Name: quality, dtype: float64"
      ]
     },
     "execution_count": 23,
     "metadata": {},
     "output_type": "execute_result"
    }
   ],
   "source": [
    "whiteWine['quality'].describe()"
   ]
  },
  {
   "cell_type": "code",
   "execution_count": 24,
   "metadata": {},
   "outputs": [
    {
     "data": {
      "text/html": [
       "<div>\n",
       "<style scoped>\n",
       "    .dataframe tbody tr th:only-of-type {\n",
       "        vertical-align: middle;\n",
       "    }\n",
       "\n",
       "    .dataframe tbody tr th {\n",
       "        vertical-align: top;\n",
       "    }\n",
       "\n",
       "    .dataframe thead th {\n",
       "        text-align: right;\n",
       "    }\n",
       "</style>\n",
       "<table border=\"1\" class=\"dataframe\">\n",
       "  <thead>\n",
       "    <tr style=\"text-align: right;\">\n",
       "      <th></th>\n",
       "      <th>fixed acidity</th>\n",
       "      <th>volatile acidity</th>\n",
       "      <th>citric acid</th>\n",
       "      <th>residual sugar</th>\n",
       "      <th>chlorides</th>\n",
       "      <th>free sulfur dioxide</th>\n",
       "      <th>total sulfur dioxide</th>\n",
       "      <th>density</th>\n",
       "      <th>pH</th>\n",
       "      <th>sulphates</th>\n",
       "      <th>alcohol</th>\n",
       "      <th>qualityscore</th>\n",
       "    </tr>\n",
       "  </thead>\n",
       "  <tbody>\n",
       "    <tr>\n",
       "      <th>0</th>\n",
       "      <td>7.0</td>\n",
       "      <td>0.27</td>\n",
       "      <td>0.36</td>\n",
       "      <td>20.7</td>\n",
       "      <td>0.045</td>\n",
       "      <td>45.0</td>\n",
       "      <td>170.0</td>\n",
       "      <td>1.0010</td>\n",
       "      <td>3.00</td>\n",
       "      <td>0.45</td>\n",
       "      <td>8.8</td>\n",
       "      <td>6</td>\n",
       "    </tr>\n",
       "    <tr>\n",
       "      <th>1</th>\n",
       "      <td>6.3</td>\n",
       "      <td>0.30</td>\n",
       "      <td>0.34</td>\n",
       "      <td>1.6</td>\n",
       "      <td>0.049</td>\n",
       "      <td>14.0</td>\n",
       "      <td>132.0</td>\n",
       "      <td>0.9940</td>\n",
       "      <td>3.30</td>\n",
       "      <td>0.49</td>\n",
       "      <td>9.5</td>\n",
       "      <td>6</td>\n",
       "    </tr>\n",
       "    <tr>\n",
       "      <th>2</th>\n",
       "      <td>8.1</td>\n",
       "      <td>0.28</td>\n",
       "      <td>0.40</td>\n",
       "      <td>6.9</td>\n",
       "      <td>0.050</td>\n",
       "      <td>30.0</td>\n",
       "      <td>97.0</td>\n",
       "      <td>0.9951</td>\n",
       "      <td>3.26</td>\n",
       "      <td>0.44</td>\n",
       "      <td>10.1</td>\n",
       "      <td>6</td>\n",
       "    </tr>\n",
       "    <tr>\n",
       "      <th>3</th>\n",
       "      <td>7.2</td>\n",
       "      <td>0.23</td>\n",
       "      <td>0.32</td>\n",
       "      <td>8.5</td>\n",
       "      <td>0.058</td>\n",
       "      <td>47.0</td>\n",
       "      <td>186.0</td>\n",
       "      <td>0.9956</td>\n",
       "      <td>3.19</td>\n",
       "      <td>0.40</td>\n",
       "      <td>9.9</td>\n",
       "      <td>6</td>\n",
       "    </tr>\n",
       "    <tr>\n",
       "      <th>4</th>\n",
       "      <td>7.2</td>\n",
       "      <td>0.23</td>\n",
       "      <td>0.32</td>\n",
       "      <td>8.5</td>\n",
       "      <td>0.058</td>\n",
       "      <td>47.0</td>\n",
       "      <td>186.0</td>\n",
       "      <td>0.9956</td>\n",
       "      <td>3.19</td>\n",
       "      <td>0.40</td>\n",
       "      <td>9.9</td>\n",
       "      <td>6</td>\n",
       "    </tr>\n",
       "  </tbody>\n",
       "</table>\n",
       "</div>"
      ],
      "text/plain": [
       "   fixed acidity  volatile acidity  citric acid  residual sugar  chlorides  \\\n",
       "0            7.0              0.27         0.36            20.7      0.045   \n",
       "1            6.3              0.30         0.34             1.6      0.049   \n",
       "2            8.1              0.28         0.40             6.9      0.050   \n",
       "3            7.2              0.23         0.32             8.5      0.058   \n",
       "4            7.2              0.23         0.32             8.5      0.058   \n",
       "\n",
       "   free sulfur dioxide  total sulfur dioxide  density    pH  sulphates  \\\n",
       "0                 45.0                 170.0   1.0010  3.00       0.45   \n",
       "1                 14.0                 132.0   0.9940  3.30       0.49   \n",
       "2                 30.0                  97.0   0.9951  3.26       0.44   \n",
       "3                 47.0                 186.0   0.9956  3.19       0.40   \n",
       "4                 47.0                 186.0   0.9956  3.19       0.40   \n",
       "\n",
       "   alcohol  qualityscore  \n",
       "0      8.8             6  \n",
       "1      9.5             6  \n",
       "2     10.1             6  \n",
       "3      9.9             6  \n",
       "4      9.9             6  "
      ]
     },
     "execution_count": 24,
     "metadata": {},
     "output_type": "execute_result"
    }
   ],
   "source": [
    "# verandert column name quality naar qualityscore om het makkelere te maken met het mergen van de twee datasets\n",
    "whiteWine = whiteWine.rename(columns = {'quality':'qualityscore'})\n",
    "whiteWine.head()"
   ]
  },
  {
   "cell_type": "code",
   "execution_count": 25,
   "metadata": {},
   "outputs": [
    {
     "data": {
      "text/plain": [
       "(4898, 12)"
      ]
     },
     "execution_count": 25,
     "metadata": {},
     "output_type": "execute_result"
    }
   ],
   "source": [
    "whiteWine.shape # er zijn 4898 rijen en 12 kolommen "
   ]
  },
  {
   "cell_type": "code",
   "execution_count": 26,
   "metadata": {},
   "outputs": [
    {
     "data": {
      "text/plain": [
       "fixed acidity           0\n",
       "volatile acidity        0\n",
       "citric acid             0\n",
       "residual sugar          0\n",
       "chlorides               0\n",
       "free sulfur dioxide     0\n",
       "total sulfur dioxide    0\n",
       "density                 0\n",
       "pH                      0\n",
       "sulphates               0\n",
       "alcohol                 0\n",
       "qualityscore            0\n",
       "dtype: int64"
      ]
     },
     "execution_count": 26,
     "metadata": {},
     "output_type": "execute_result"
    }
   ],
   "source": [
    "whiteWine.isnull().sum() # er zijn geen missende waardes "
   ]
  },
  {
   "cell_type": "code",
   "execution_count": 27,
   "metadata": {},
   "outputs": [
    {
     "data": {
      "text/plain": [
       "fixed acidity           float64\n",
       "volatile acidity        float64\n",
       "citric acid             float64\n",
       "residual sugar          float64\n",
       "chlorides               float64\n",
       "free sulfur dioxide     float64\n",
       "total sulfur dioxide    float64\n",
       "density                 float64\n",
       "pH                      float64\n",
       "sulphates               float64\n",
       "alcohol                 float64\n",
       "qualityscore              int64\n",
       "dtype: object"
      ]
     },
     "execution_count": 27,
     "metadata": {},
     "output_type": "execute_result"
    }
   ],
   "source": [
    "whiteWine.dtypes"
   ]
  },
  {
   "cell_type": "code",
   "execution_count": 28,
   "metadata": {
    "scrolled": true
   },
   "outputs": [
    {
     "data": {
      "text/html": [
       "<div>\n",
       "<style scoped>\n",
       "    .dataframe tbody tr th:only-of-type {\n",
       "        vertical-align: middle;\n",
       "    }\n",
       "\n",
       "    .dataframe tbody tr th {\n",
       "        vertical-align: top;\n",
       "    }\n",
       "\n",
       "    .dataframe thead th {\n",
       "        text-align: right;\n",
       "    }\n",
       "</style>\n",
       "<table border=\"1\" class=\"dataframe\">\n",
       "  <thead>\n",
       "    <tr style=\"text-align: right;\">\n",
       "      <th></th>\n",
       "      <th>fixed acidity</th>\n",
       "      <th>volatile acidity</th>\n",
       "      <th>citric acid</th>\n",
       "      <th>residual sugar</th>\n",
       "      <th>chlorides</th>\n",
       "      <th>free sulfur dioxide</th>\n",
       "      <th>total sulfur dioxide</th>\n",
       "      <th>density</th>\n",
       "      <th>pH</th>\n",
       "      <th>sulphates</th>\n",
       "      <th>alcohol</th>\n",
       "      <th>qualityscore</th>\n",
       "    </tr>\n",
       "  </thead>\n",
       "  <tbody>\n",
       "    <tr>\n",
       "      <th>count</th>\n",
       "      <td>4898.000000</td>\n",
       "      <td>4898.000000</td>\n",
       "      <td>4898.000000</td>\n",
       "      <td>4898.000000</td>\n",
       "      <td>4898.000000</td>\n",
       "      <td>4898.000000</td>\n",
       "      <td>4898.000000</td>\n",
       "      <td>4898.000000</td>\n",
       "      <td>4898.000000</td>\n",
       "      <td>4898.000000</td>\n",
       "      <td>4898.000000</td>\n",
       "      <td>4898.000000</td>\n",
       "    </tr>\n",
       "    <tr>\n",
       "      <th>mean</th>\n",
       "      <td>6.854788</td>\n",
       "      <td>0.278241</td>\n",
       "      <td>0.334192</td>\n",
       "      <td>6.391415</td>\n",
       "      <td>0.045772</td>\n",
       "      <td>35.308085</td>\n",
       "      <td>138.360657</td>\n",
       "      <td>0.994027</td>\n",
       "      <td>3.188267</td>\n",
       "      <td>0.489847</td>\n",
       "      <td>10.514267</td>\n",
       "      <td>5.877909</td>\n",
       "    </tr>\n",
       "    <tr>\n",
       "      <th>std</th>\n",
       "      <td>0.843868</td>\n",
       "      <td>0.100795</td>\n",
       "      <td>0.121020</td>\n",
       "      <td>5.072058</td>\n",
       "      <td>0.021848</td>\n",
       "      <td>17.007137</td>\n",
       "      <td>42.498065</td>\n",
       "      <td>0.002991</td>\n",
       "      <td>0.151001</td>\n",
       "      <td>0.114126</td>\n",
       "      <td>1.230621</td>\n",
       "      <td>0.885639</td>\n",
       "    </tr>\n",
       "    <tr>\n",
       "      <th>min</th>\n",
       "      <td>3.800000</td>\n",
       "      <td>0.080000</td>\n",
       "      <td>0.000000</td>\n",
       "      <td>0.600000</td>\n",
       "      <td>0.009000</td>\n",
       "      <td>2.000000</td>\n",
       "      <td>9.000000</td>\n",
       "      <td>0.987110</td>\n",
       "      <td>2.720000</td>\n",
       "      <td>0.220000</td>\n",
       "      <td>8.000000</td>\n",
       "      <td>3.000000</td>\n",
       "    </tr>\n",
       "    <tr>\n",
       "      <th>25%</th>\n",
       "      <td>6.300000</td>\n",
       "      <td>0.210000</td>\n",
       "      <td>0.270000</td>\n",
       "      <td>1.700000</td>\n",
       "      <td>0.036000</td>\n",
       "      <td>23.000000</td>\n",
       "      <td>108.000000</td>\n",
       "      <td>0.991723</td>\n",
       "      <td>3.090000</td>\n",
       "      <td>0.410000</td>\n",
       "      <td>9.500000</td>\n",
       "      <td>5.000000</td>\n",
       "    </tr>\n",
       "    <tr>\n",
       "      <th>50%</th>\n",
       "      <td>6.800000</td>\n",
       "      <td>0.260000</td>\n",
       "      <td>0.320000</td>\n",
       "      <td>5.200000</td>\n",
       "      <td>0.043000</td>\n",
       "      <td>34.000000</td>\n",
       "      <td>134.000000</td>\n",
       "      <td>0.993740</td>\n",
       "      <td>3.180000</td>\n",
       "      <td>0.470000</td>\n",
       "      <td>10.400000</td>\n",
       "      <td>6.000000</td>\n",
       "    </tr>\n",
       "    <tr>\n",
       "      <th>75%</th>\n",
       "      <td>7.300000</td>\n",
       "      <td>0.320000</td>\n",
       "      <td>0.390000</td>\n",
       "      <td>9.900000</td>\n",
       "      <td>0.050000</td>\n",
       "      <td>46.000000</td>\n",
       "      <td>167.000000</td>\n",
       "      <td>0.996100</td>\n",
       "      <td>3.280000</td>\n",
       "      <td>0.550000</td>\n",
       "      <td>11.400000</td>\n",
       "      <td>6.000000</td>\n",
       "    </tr>\n",
       "    <tr>\n",
       "      <th>max</th>\n",
       "      <td>14.200000</td>\n",
       "      <td>1.100000</td>\n",
       "      <td>1.660000</td>\n",
       "      <td>65.800000</td>\n",
       "      <td>0.346000</td>\n",
       "      <td>289.000000</td>\n",
       "      <td>440.000000</td>\n",
       "      <td>1.038980</td>\n",
       "      <td>3.820000</td>\n",
       "      <td>1.080000</td>\n",
       "      <td>14.200000</td>\n",
       "      <td>9.000000</td>\n",
       "    </tr>\n",
       "  </tbody>\n",
       "</table>\n",
       "</div>"
      ],
      "text/plain": [
       "       fixed acidity  volatile acidity  citric acid  residual sugar  \\\n",
       "count    4898.000000       4898.000000  4898.000000     4898.000000   \n",
       "mean        6.854788          0.278241     0.334192        6.391415   \n",
       "std         0.843868          0.100795     0.121020        5.072058   \n",
       "min         3.800000          0.080000     0.000000        0.600000   \n",
       "25%         6.300000          0.210000     0.270000        1.700000   \n",
       "50%         6.800000          0.260000     0.320000        5.200000   \n",
       "75%         7.300000          0.320000     0.390000        9.900000   \n",
       "max        14.200000          1.100000     1.660000       65.800000   \n",
       "\n",
       "         chlorides  free sulfur dioxide  total sulfur dioxide      density  \\\n",
       "count  4898.000000          4898.000000           4898.000000  4898.000000   \n",
       "mean      0.045772            35.308085            138.360657     0.994027   \n",
       "std       0.021848            17.007137             42.498065     0.002991   \n",
       "min       0.009000             2.000000              9.000000     0.987110   \n",
       "25%       0.036000            23.000000            108.000000     0.991723   \n",
       "50%       0.043000            34.000000            134.000000     0.993740   \n",
       "75%       0.050000            46.000000            167.000000     0.996100   \n",
       "max       0.346000           289.000000            440.000000     1.038980   \n",
       "\n",
       "                pH    sulphates      alcohol  qualityscore  \n",
       "count  4898.000000  4898.000000  4898.000000   4898.000000  \n",
       "mean      3.188267     0.489847    10.514267      5.877909  \n",
       "std       0.151001     0.114126     1.230621      0.885639  \n",
       "min       2.720000     0.220000     8.000000      3.000000  \n",
       "25%       3.090000     0.410000     9.500000      5.000000  \n",
       "50%       3.180000     0.470000    10.400000      6.000000  \n",
       "75%       3.280000     0.550000    11.400000      6.000000  \n",
       "max       3.820000     1.080000    14.200000      9.000000  "
      ]
     },
     "execution_count": 28,
     "metadata": {},
     "output_type": "execute_result"
    }
   ],
   "source": [
    "whiteWine.describe()"
   ]
  },
  {
   "cell_type": "markdown",
   "metadata": {},
   "source": [
    "**Normaliseren** "
   ]
  },
  {
   "cell_type": "markdown",
   "metadata": {},
   "source": [
    "We gaan daarom de features normaliseren door middel van de z-score.\n",
    "Z-score betkent dat we van een bepaalde normaalverdeling naar een standaard normaalverdeling gaat, waar de gemiddelde gelijk aan 0 is en de standaarddeviatie gelijk aan 1 is.\n",
    "\n",
    "De z-score kunnen we berekenen:\n",
    "𝑧𝑖= 𝑥𝑖− μ / 𝜎\n",
    "\n",
    "    zi = z score\n",
    "    x = waarde van kolom x\n",
    "    μ = gemiddelde waarde van kolom x\n",
    "    𝜎 = standaarddeviatie van kolom x"
   ]
  },
  {
   "cell_type": "code",
   "execution_count": 29,
   "metadata": {},
   "outputs": [
    {
     "data": {
      "text/html": [
       "<div>\n",
       "<style scoped>\n",
       "    .dataframe tbody tr th:only-of-type {\n",
       "        vertical-align: middle;\n",
       "    }\n",
       "\n",
       "    .dataframe tbody tr th {\n",
       "        vertical-align: top;\n",
       "    }\n",
       "\n",
       "    .dataframe thead th {\n",
       "        text-align: right;\n",
       "    }\n",
       "</style>\n",
       "<table border=\"1\" class=\"dataframe\">\n",
       "  <thead>\n",
       "    <tr style=\"text-align: right;\">\n",
       "      <th></th>\n",
       "      <th>fixed acidity</th>\n",
       "      <th>volatile acidity</th>\n",
       "      <th>citric acid</th>\n",
       "      <th>residual sugar</th>\n",
       "      <th>chlorides</th>\n",
       "      <th>free sulfur dioxide</th>\n",
       "      <th>total sulfur dioxide</th>\n",
       "      <th>density</th>\n",
       "      <th>pH</th>\n",
       "      <th>sulphates</th>\n",
       "      <th>alcohol</th>\n",
       "      <th>qualityscore</th>\n",
       "    </tr>\n",
       "  </thead>\n",
       "  <tbody>\n",
       "    <tr>\n",
       "      <th>0</th>\n",
       "      <td>0.172079</td>\n",
       "      <td>-0.081762</td>\n",
       "      <td>0.213258</td>\n",
       "      <td>2.821061</td>\n",
       "      <td>-0.035351</td>\n",
       "      <td>0.569873</td>\n",
       "      <td>0.744489</td>\n",
       "      <td>2.331274</td>\n",
       "      <td>-1.246794</td>\n",
       "      <td>-0.349149</td>\n",
       "      <td>-1.393010</td>\n",
       "      <td>0.137856</td>\n",
       "    </tr>\n",
       "    <tr>\n",
       "      <th>1</th>\n",
       "      <td>-0.657434</td>\n",
       "      <td>0.215874</td>\n",
       "      <td>0.047996</td>\n",
       "      <td>-0.944669</td>\n",
       "      <td>0.147732</td>\n",
       "      <td>-1.252891</td>\n",
       "      <td>-0.149669</td>\n",
       "      <td>-0.009153</td>\n",
       "      <td>0.739953</td>\n",
       "      <td>0.001342</td>\n",
       "      <td>-0.824192</td>\n",
       "      <td>0.137856</td>\n",
       "    </tr>\n",
       "    <tr>\n",
       "      <th>2</th>\n",
       "      <td>1.475600</td>\n",
       "      <td>0.017450</td>\n",
       "      <td>0.543783</td>\n",
       "      <td>0.100272</td>\n",
       "      <td>0.193503</td>\n",
       "      <td>-0.312109</td>\n",
       "      <td>-0.973236</td>\n",
       "      <td>0.358628</td>\n",
       "      <td>0.475053</td>\n",
       "      <td>-0.436771</td>\n",
       "      <td>-0.336633</td>\n",
       "      <td>0.137856</td>\n",
       "    </tr>\n",
       "    <tr>\n",
       "      <th>3</th>\n",
       "      <td>0.409083</td>\n",
       "      <td>-0.478608</td>\n",
       "      <td>-0.117266</td>\n",
       "      <td>0.415726</td>\n",
       "      <td>0.559670</td>\n",
       "      <td>0.687471</td>\n",
       "      <td>1.120977</td>\n",
       "      <td>0.525802</td>\n",
       "      <td>0.011479</td>\n",
       "      <td>-0.787262</td>\n",
       "      <td>-0.499152</td>\n",
       "      <td>0.137856</td>\n",
       "    </tr>\n",
       "    <tr>\n",
       "      <th>4</th>\n",
       "      <td>0.409083</td>\n",
       "      <td>-0.478608</td>\n",
       "      <td>-0.117266</td>\n",
       "      <td>0.415726</td>\n",
       "      <td>0.559670</td>\n",
       "      <td>0.687471</td>\n",
       "      <td>1.120977</td>\n",
       "      <td>0.525802</td>\n",
       "      <td>0.011479</td>\n",
       "      <td>-0.787262</td>\n",
       "      <td>-0.499152</td>\n",
       "      <td>0.137856</td>\n",
       "    </tr>\n",
       "  </tbody>\n",
       "</table>\n",
       "</div>"
      ],
      "text/plain": [
       "   fixed acidity  volatile acidity  citric acid  residual sugar  chlorides  \\\n",
       "0       0.172079         -0.081762     0.213258        2.821061  -0.035351   \n",
       "1      -0.657434          0.215874     0.047996       -0.944669   0.147732   \n",
       "2       1.475600          0.017450     0.543783        0.100272   0.193503   \n",
       "3       0.409083         -0.478608    -0.117266        0.415726   0.559670   \n",
       "4       0.409083         -0.478608    -0.117266        0.415726   0.559670   \n",
       "\n",
       "   free sulfur dioxide  total sulfur dioxide   density        pH  sulphates  \\\n",
       "0             0.569873              0.744489  2.331274 -1.246794  -0.349149   \n",
       "1            -1.252891             -0.149669 -0.009153  0.739953   0.001342   \n",
       "2            -0.312109             -0.973236  0.358628  0.475053  -0.436771   \n",
       "3             0.687471              1.120977  0.525802  0.011479  -0.787262   \n",
       "4             0.687471              1.120977  0.525802  0.011479  -0.787262   \n",
       "\n",
       "    alcohol  qualityscore  \n",
       "0 -1.393010      0.137856  \n",
       "1 -0.824192      0.137856  \n",
       "2 -0.336633      0.137856  \n",
       "3 -0.499152      0.137856  \n",
       "4 -0.499152      0.137856  "
      ]
     },
     "execution_count": 29,
     "metadata": {},
     "output_type": "execute_result"
    }
   ],
   "source": [
    "# whiteWine normaliseren \n",
    "whitenorm = pd.DataFrame()\n",
    "for col in list(whiteWine.columns):\n",
    "    whitenorm[col] = (whiteWine[col]-whiteWine[col].mean())/whiteWine[col].std()\n",
    "whitenorm.head()"
   ]
  },
  {
   "cell_type": "markdown",
   "metadata": {},
   "source": [
    "Bepaal wat de feature variabelen \n",
    "Doordat er wordt gebruik maken va unsupervised learning , dan weten dat er geen target variabel is."
   ]
  },
  {
   "cell_type": "code",
   "execution_count": 30,
   "metadata": {},
   "outputs": [
    {
     "data": {
      "text/html": [
       "<div>\n",
       "<style scoped>\n",
       "    .dataframe tbody tr th:only-of-type {\n",
       "        vertical-align: middle;\n",
       "    }\n",
       "\n",
       "    .dataframe tbody tr th {\n",
       "        vertical-align: top;\n",
       "    }\n",
       "\n",
       "    .dataframe thead th {\n",
       "        text-align: right;\n",
       "    }\n",
       "</style>\n",
       "<table border=\"1\" class=\"dataframe\">\n",
       "  <thead>\n",
       "    <tr style=\"text-align: right;\">\n",
       "      <th></th>\n",
       "      <th>fixed acidity</th>\n",
       "      <th>volatile acidity</th>\n",
       "      <th>citric acid</th>\n",
       "      <th>residual sugar</th>\n",
       "      <th>chlorides</th>\n",
       "      <th>free sulfur dioxide</th>\n",
       "      <th>total sulfur dioxide</th>\n",
       "      <th>density</th>\n",
       "      <th>pH</th>\n",
       "      <th>sulphates</th>\n",
       "      <th>alcohol</th>\n",
       "      <th>qualityscore</th>\n",
       "    </tr>\n",
       "  </thead>\n",
       "  <tbody>\n",
       "    <tr>\n",
       "      <th>0</th>\n",
       "      <td>10.0</td>\n",
       "      <td>0.29</td>\n",
       "      <td>0.40</td>\n",
       "      <td>2.9</td>\n",
       "      <td>0.098</td>\n",
       "      <td>10.0</td>\n",
       "      <td>26.0</td>\n",
       "      <td>10.00600</td>\n",
       "      <td>3.48</td>\n",
       "      <td>0.91</td>\n",
       "      <td>9.7</td>\n",
       "      <td>87</td>\n",
       "    </tr>\n",
       "    <tr>\n",
       "      <th>1</th>\n",
       "      <td>8.3</td>\n",
       "      <td>0.26</td>\n",
       "      <td>0.37</td>\n",
       "      <td>1.4</td>\n",
       "      <td>0.076</td>\n",
       "      <td>8.0</td>\n",
       "      <td>23.0</td>\n",
       "      <td>0.99740</td>\n",
       "      <td>3.26</td>\n",
       "      <td>0.70</td>\n",
       "      <td>9.6</td>\n",
       "      <td>91</td>\n",
       "    </tr>\n",
       "    <tr>\n",
       "      <th>2</th>\n",
       "      <td>7.0</td>\n",
       "      <td>0.69</td>\n",
       "      <td>0.07</td>\n",
       "      <td>2.5</td>\n",
       "      <td>0.091</td>\n",
       "      <td>15.0</td>\n",
       "      <td>21.0</td>\n",
       "      <td>0.99572</td>\n",
       "      <td>3.38</td>\n",
       "      <td>0.60</td>\n",
       "      <td>11.3</td>\n",
       "      <td>90</td>\n",
       "    </tr>\n",
       "    <tr>\n",
       "      <th>3</th>\n",
       "      <td>7.0</td>\n",
       "      <td>0.69</td>\n",
       "      <td>0.07</td>\n",
       "      <td>2.5</td>\n",
       "      <td>0.091</td>\n",
       "      <td>15.0</td>\n",
       "      <td>21.0</td>\n",
       "      <td>0.99572</td>\n",
       "      <td>3.38</td>\n",
       "      <td>0.60</td>\n",
       "      <td>11.3</td>\n",
       "      <td>90</td>\n",
       "    </tr>\n",
       "    <tr>\n",
       "      <th>4</th>\n",
       "      <td>8.0</td>\n",
       "      <td>0.48</td>\n",
       "      <td>0.34</td>\n",
       "      <td>2.2</td>\n",
       "      <td>0.073</td>\n",
       "      <td>16.0</td>\n",
       "      <td>25.0</td>\n",
       "      <td>0.99360</td>\n",
       "      <td>3.28</td>\n",
       "      <td>0.66</td>\n",
       "      <td>12.4</td>\n",
       "      <td>92</td>\n",
       "    </tr>\n",
       "  </tbody>\n",
       "</table>\n",
       "</div>"
      ],
      "text/plain": [
       "   fixed acidity  volatile acidity  citric acid  residual sugar  chlorides  \\\n",
       "0           10.0              0.29         0.40             2.9      0.098   \n",
       "1            8.3              0.26         0.37             1.4      0.076   \n",
       "2            7.0              0.69         0.07             2.5      0.091   \n",
       "3            7.0              0.69         0.07             2.5      0.091   \n",
       "4            8.0              0.48         0.34             2.2      0.073   \n",
       "\n",
       "   free sulfur dioxide  total sulfur dioxide   density    pH  sulphates  \\\n",
       "0                 10.0                  26.0  10.00600  3.48       0.91   \n",
       "1                  8.0                  23.0   0.99740  3.26       0.70   \n",
       "2                 15.0                  21.0   0.99572  3.38       0.60   \n",
       "3                 15.0                  21.0   0.99572  3.38       0.60   \n",
       "4                 16.0                  25.0   0.99360  3.28       0.66   \n",
       "\n",
       "   alcohol  qualityscore  \n",
       "0      9.7            87  \n",
       "1      9.6            91  \n",
       "2     11.3            90  \n",
       "3     11.3            90  \n",
       "4     12.4            92  "
      ]
     },
     "execution_count": 30,
     "metadata": {},
     "output_type": "execute_result"
    }
   ],
   "source": [
    "#Voor deze dataset zullen we gaan kijken naar de chemische samenstelling van de wijnen \n",
    "redfeat = df.loc[:, 'fixed acidity':]\n",
    "redfeat['qualityscore'] = df['points']\n",
    "redfeat.head()"
   ]
  },
  {
   "cell_type": "code",
   "execution_count": 31,
   "metadata": {},
   "outputs": [
    {
     "data": {
      "text/plain": [
       "fixed acidity           float64\n",
       "volatile acidity        float64\n",
       "citric acid             float64\n",
       "residual sugar          float64\n",
       "chlorides               float64\n",
       "free sulfur dioxide     float64\n",
       "total sulfur dioxide    float64\n",
       "density                 float64\n",
       "pH                      float64\n",
       "sulphates               float64\n",
       "alcohol                 float64\n",
       "qualityscore              int64\n",
       "dtype: object"
      ]
     },
     "execution_count": 31,
     "metadata": {},
     "output_type": "execute_result"
    }
   ],
   "source": [
    "redfeat.dtypes"
   ]
  },
  {
   "cell_type": "code",
   "execution_count": 32,
   "metadata": {},
   "outputs": [
    {
     "data": {
      "text/html": [
       "<div>\n",
       "<style scoped>\n",
       "    .dataframe tbody tr th:only-of-type {\n",
       "        vertical-align: middle;\n",
       "    }\n",
       "\n",
       "    .dataframe tbody tr th {\n",
       "        vertical-align: top;\n",
       "    }\n",
       "\n",
       "    .dataframe thead th {\n",
       "        text-align: right;\n",
       "    }\n",
       "</style>\n",
       "<table border=\"1\" class=\"dataframe\">\n",
       "  <thead>\n",
       "    <tr style=\"text-align: right;\">\n",
       "      <th></th>\n",
       "      <th>fixed acidity</th>\n",
       "      <th>volatile acidity</th>\n",
       "      <th>citric acid</th>\n",
       "      <th>residual sugar</th>\n",
       "      <th>chlorides</th>\n",
       "      <th>free sulfur dioxide</th>\n",
       "      <th>total sulfur dioxide</th>\n",
       "      <th>density</th>\n",
       "      <th>pH</th>\n",
       "      <th>sulphates</th>\n",
       "      <th>alcohol</th>\n",
       "      <th>qualityscore</th>\n",
       "    </tr>\n",
       "  </thead>\n",
       "  <tbody>\n",
       "    <tr>\n",
       "      <th>0</th>\n",
       "      <td>0.949468</td>\n",
       "      <td>-1.331489</td>\n",
       "      <td>0.542608</td>\n",
       "      <td>0.239972</td>\n",
       "      <td>0.223513</td>\n",
       "      <td>-0.559258</td>\n",
       "      <td>-0.639351</td>\n",
       "      <td>0.827454</td>\n",
       "      <td>1.096616</td>\n",
       "      <td>1.446967</td>\n",
       "      <td>-0.678378</td>\n",
       "      <td>-0.609065</td>\n",
       "    </tr>\n",
       "    <tr>\n",
       "      <th>1</th>\n",
       "      <td>-0.030446</td>\n",
       "      <td>-1.499210</td>\n",
       "      <td>0.380756</td>\n",
       "      <td>-0.826104</td>\n",
       "      <td>-0.244140</td>\n",
       "      <td>-0.751951</td>\n",
       "      <td>-0.729745</td>\n",
       "      <td>-0.126196</td>\n",
       "      <td>-0.332630</td>\n",
       "      <td>0.229796</td>\n",
       "      <td>-0.773452</td>\n",
       "      <td>0.735925</td>\n",
       "    </tr>\n",
       "    <tr>\n",
       "      <th>2</th>\n",
       "      <td>-0.779792</td>\n",
       "      <td>0.904783</td>\n",
       "      <td>-1.237767</td>\n",
       "      <td>-0.044315</td>\n",
       "      <td>0.074714</td>\n",
       "      <td>-0.077527</td>\n",
       "      <td>-0.790008</td>\n",
       "      <td>-0.126374</td>\n",
       "      <td>0.446959</td>\n",
       "      <td>-0.349809</td>\n",
       "      <td>0.842812</td>\n",
       "      <td>0.399678</td>\n",
       "    </tr>\n",
       "    <tr>\n",
       "      <th>3</th>\n",
       "      <td>-0.779792</td>\n",
       "      <td>0.904783</td>\n",
       "      <td>-1.237767</td>\n",
       "      <td>-0.044315</td>\n",
       "      <td>0.074714</td>\n",
       "      <td>-0.077527</td>\n",
       "      <td>-0.790008</td>\n",
       "      <td>-0.126374</td>\n",
       "      <td>0.446959</td>\n",
       "      <td>-0.349809</td>\n",
       "      <td>0.842812</td>\n",
       "      <td>0.399678</td>\n",
       "    </tr>\n",
       "    <tr>\n",
       "      <th>4</th>\n",
       "      <td>-0.203372</td>\n",
       "      <td>-0.269260</td>\n",
       "      <td>0.218904</td>\n",
       "      <td>-0.257530</td>\n",
       "      <td>-0.307911</td>\n",
       "      <td>0.018820</td>\n",
       "      <td>-0.669482</td>\n",
       "      <td>-0.126599</td>\n",
       "      <td>-0.202698</td>\n",
       "      <td>-0.002046</td>\n",
       "      <td>1.888630</td>\n",
       "      <td>1.072172</td>\n",
       "    </tr>\n",
       "  </tbody>\n",
       "</table>\n",
       "</div>"
      ],
      "text/plain": [
       "   fixed acidity  volatile acidity  citric acid  residual sugar  chlorides  \\\n",
       "0       0.949468         -1.331489     0.542608        0.239972   0.223513   \n",
       "1      -0.030446         -1.499210     0.380756       -0.826104  -0.244140   \n",
       "2      -0.779792          0.904783    -1.237767       -0.044315   0.074714   \n",
       "3      -0.779792          0.904783    -1.237767       -0.044315   0.074714   \n",
       "4      -0.203372         -0.269260     0.218904       -0.257530  -0.307911   \n",
       "\n",
       "   free sulfur dioxide  total sulfur dioxide   density        pH  sulphates  \\\n",
       "0            -0.559258             -0.639351  0.827454  1.096616   1.446967   \n",
       "1            -0.751951             -0.729745 -0.126196 -0.332630   0.229796   \n",
       "2            -0.077527             -0.790008 -0.126374  0.446959  -0.349809   \n",
       "3            -0.077527             -0.790008 -0.126374  0.446959  -0.349809   \n",
       "4             0.018820             -0.669482 -0.126599 -0.202698  -0.002046   \n",
       "\n",
       "    alcohol  qualityscore  \n",
       "0 -0.678378     -0.609065  \n",
       "1 -0.773452      0.735925  \n",
       "2  0.842812      0.399678  \n",
       "3  0.842812      0.399678  \n",
       "4  1.888630      1.072172  "
      ]
     },
     "execution_count": 32,
     "metadata": {},
     "output_type": "execute_result"
    }
   ],
   "source": [
    "# redWine dataset normaliseren \n",
    "rednorm = pd.DataFrame()\n",
    "for col in list(redfeat.columns):\n",
    "    rednorm[col] = (redfeat[col]-redfeat[col].mean())/redfeat[col].std()\n",
    "rednorm.head()"
   ]
  },
  {
   "cell_type": "markdown",
   "metadata": {},
   "source": [
    "**Aan de hand van de bovenstaande output zien we dat de benodigde features (de chemische samenstellingen) zijn continue waardes.**"
   ]
  },
  {
   "cell_type": "code",
   "execution_count": 33,
   "metadata": {},
   "outputs": [
    {
     "data": {
      "text/html": [
       "<div>\n",
       "<style scoped>\n",
       "    .dataframe tbody tr th:only-of-type {\n",
       "        vertical-align: middle;\n",
       "    }\n",
       "\n",
       "    .dataframe tbody tr th {\n",
       "        vertical-align: top;\n",
       "    }\n",
       "\n",
       "    .dataframe thead th {\n",
       "        text-align: right;\n",
       "    }\n",
       "</style>\n",
       "<table border=\"1\" class=\"dataframe\">\n",
       "  <thead>\n",
       "    <tr style=\"text-align: right;\">\n",
       "      <th></th>\n",
       "      <th>fixed acidity</th>\n",
       "      <th>volatile acidity</th>\n",
       "      <th>citric acid</th>\n",
       "      <th>residual sugar</th>\n",
       "      <th>chlorides</th>\n",
       "      <th>free sulfur dioxide</th>\n",
       "      <th>total sulfur dioxide</th>\n",
       "      <th>density</th>\n",
       "      <th>pH</th>\n",
       "      <th>sulphates</th>\n",
       "      <th>alcohol</th>\n",
       "      <th>qualityscore</th>\n",
       "    </tr>\n",
       "  </thead>\n",
       "  <tbody>\n",
       "    <tr>\n",
       "      <th>0</th>\n",
       "      <td>0.949468</td>\n",
       "      <td>-1.331489</td>\n",
       "      <td>0.542608</td>\n",
       "      <td>0.239972</td>\n",
       "      <td>0.223513</td>\n",
       "      <td>-0.559258</td>\n",
       "      <td>-0.639351</td>\n",
       "      <td>0.827454</td>\n",
       "      <td>1.096616</td>\n",
       "      <td>1.446967</td>\n",
       "      <td>-0.678378</td>\n",
       "      <td>-0.609065</td>\n",
       "    </tr>\n",
       "    <tr>\n",
       "      <th>1</th>\n",
       "      <td>-0.030446</td>\n",
       "      <td>-1.499210</td>\n",
       "      <td>0.380756</td>\n",
       "      <td>-0.826104</td>\n",
       "      <td>-0.244140</td>\n",
       "      <td>-0.751951</td>\n",
       "      <td>-0.729745</td>\n",
       "      <td>-0.126196</td>\n",
       "      <td>-0.332630</td>\n",
       "      <td>0.229796</td>\n",
       "      <td>-0.773452</td>\n",
       "      <td>0.735925</td>\n",
       "    </tr>\n",
       "    <tr>\n",
       "      <th>2</th>\n",
       "      <td>-0.779792</td>\n",
       "      <td>0.904783</td>\n",
       "      <td>-1.237767</td>\n",
       "      <td>-0.044315</td>\n",
       "      <td>0.074714</td>\n",
       "      <td>-0.077527</td>\n",
       "      <td>-0.790008</td>\n",
       "      <td>-0.126374</td>\n",
       "      <td>0.446959</td>\n",
       "      <td>-0.349809</td>\n",
       "      <td>0.842812</td>\n",
       "      <td>0.399678</td>\n",
       "    </tr>\n",
       "    <tr>\n",
       "      <th>3</th>\n",
       "      <td>-0.779792</td>\n",
       "      <td>0.904783</td>\n",
       "      <td>-1.237767</td>\n",
       "      <td>-0.044315</td>\n",
       "      <td>0.074714</td>\n",
       "      <td>-0.077527</td>\n",
       "      <td>-0.790008</td>\n",
       "      <td>-0.126374</td>\n",
       "      <td>0.446959</td>\n",
       "      <td>-0.349809</td>\n",
       "      <td>0.842812</td>\n",
       "      <td>0.399678</td>\n",
       "    </tr>\n",
       "    <tr>\n",
       "      <th>4</th>\n",
       "      <td>-0.203372</td>\n",
       "      <td>-0.269260</td>\n",
       "      <td>0.218904</td>\n",
       "      <td>-0.257530</td>\n",
       "      <td>-0.307911</td>\n",
       "      <td>0.018820</td>\n",
       "      <td>-0.669482</td>\n",
       "      <td>-0.126599</td>\n",
       "      <td>-0.202698</td>\n",
       "      <td>-0.002046</td>\n",
       "      <td>1.888630</td>\n",
       "      <td>1.072172</td>\n",
       "    </tr>\n",
       "  </tbody>\n",
       "</table>\n",
       "</div>"
      ],
      "text/plain": [
       "   fixed acidity  volatile acidity  citric acid  residual sugar  chlorides  \\\n",
       "0       0.949468         -1.331489     0.542608        0.239972   0.223513   \n",
       "1      -0.030446         -1.499210     0.380756       -0.826104  -0.244140   \n",
       "2      -0.779792          0.904783    -1.237767       -0.044315   0.074714   \n",
       "3      -0.779792          0.904783    -1.237767       -0.044315   0.074714   \n",
       "4      -0.203372         -0.269260     0.218904       -0.257530  -0.307911   \n",
       "\n",
       "   free sulfur dioxide  total sulfur dioxide   density        pH  sulphates  \\\n",
       "0            -0.559258             -0.639351  0.827454  1.096616   1.446967   \n",
       "1            -0.751951             -0.729745 -0.126196 -0.332630   0.229796   \n",
       "2            -0.077527             -0.790008 -0.126374  0.446959  -0.349809   \n",
       "3            -0.077527             -0.790008 -0.126374  0.446959  -0.349809   \n",
       "4             0.018820             -0.669482 -0.126599 -0.202698  -0.002046   \n",
       "\n",
       "    alcohol  qualityscore  \n",
       "0 -0.678378     -0.609065  \n",
       "1 -0.773452      0.735925  \n",
       "2  0.842812      0.399678  \n",
       "3  0.842812      0.399678  \n",
       "4  1.888630      1.072172  "
      ]
     },
     "execution_count": 33,
     "metadata": {},
     "output_type": "execute_result"
    }
   ],
   "source": [
    "# Datasets samenvoegen\n",
    "feat = pd.concat([rednorm, whitenorm], ignore_index =True)\n",
    "feat.head()"
   ]
  },
  {
   "cell_type": "markdown",
   "metadata": {},
   "source": [
    "Boxplot tekenen van alle chemische samenstelling"
   ]
  },
  {
   "cell_type": "markdown",
   "metadata": {},
   "source": [
    "Boxplotten tekenen van de chemische samenstellingen van de wijnen met een hoge score. \n",
    "Wijnen met hoge score beschouw ewe als de wijnen die een qualityscore boven  de gemiddelde."
   ]
  },
  {
   "cell_type": "code",
   "execution_count": 34,
   "metadata": {},
   "outputs": [
    {
     "data": {
      "text/plain": [
       "4475"
      ]
     },
     "execution_count": 34,
     "metadata": {},
     "output_type": "execute_result"
    }
   ],
   "source": [
    "qualityscore_gem = feat['qualityscore'].mean()\n",
    "hogescore = feat[feat['qualityscore'] >qualityscore_gem]\n",
    "len(hogescore) "
   ]
  },
  {
   "cell_type": "code",
   "execution_count": 43,
   "metadata": {},
   "outputs": [
    {
     "data": {
      "text/plain": [
       "fixed acidity            0\n",
       "volatile acidity         0\n",
       "citric acid             93\n",
       "residual sugar           0\n",
       "chlorides                0\n",
       "free sulfur dioxide      0\n",
       "total sulfur dioxide     0\n",
       "density                  1\n",
       "pH                       0\n",
       "sulphates                0\n",
       "alcohol                  5\n",
       "qualityscore             0\n",
       "dtype: int64"
      ]
     },
     "execution_count": 43,
     "metadata": {},
     "output_type": "execute_result"
    }
   ],
   "source": [
    "hogescore.isnull().sum()\n"
   ]
  },
  {
   "cell_type": "code",
   "execution_count": 50,
   "metadata": {},
   "outputs": [],
   "source": [
    "hogescore = hogescore.fillna(0) # verandert alle NaN waardes naar 0"
   ]
  },
  {
   "cell_type": "code",
   "execution_count": 51,
   "metadata": {},
   "outputs": [
    {
     "data": {
      "text/html": [
       "<div>\n",
       "<style scoped>\n",
       "    .dataframe tbody tr th:only-of-type {\n",
       "        vertical-align: middle;\n",
       "    }\n",
       "\n",
       "    .dataframe tbody tr th {\n",
       "        vertical-align: top;\n",
       "    }\n",
       "\n",
       "    .dataframe thead th {\n",
       "        text-align: right;\n",
       "    }\n",
       "</style>\n",
       "<table border=\"1\" class=\"dataframe\">\n",
       "  <thead>\n",
       "    <tr style=\"text-align: right;\">\n",
       "      <th></th>\n",
       "      <th>fixed acidity</th>\n",
       "      <th>volatile acidity</th>\n",
       "      <th>citric acid</th>\n",
       "      <th>residual sugar</th>\n",
       "      <th>chlorides</th>\n",
       "      <th>free sulfur dioxide</th>\n",
       "      <th>total sulfur dioxide</th>\n",
       "      <th>density</th>\n",
       "      <th>pH</th>\n",
       "      <th>sulphates</th>\n",
       "      <th>alcohol</th>\n",
       "      <th>qualityscore</th>\n",
       "    </tr>\n",
       "  </thead>\n",
       "  <tbody>\n",
       "    <tr>\n",
       "      <th>count</th>\n",
       "      <td>4475.000000</td>\n",
       "      <td>4475.000000</td>\n",
       "      <td>4475.000000</td>\n",
       "      <td>4475.000000</td>\n",
       "      <td>4475.000000</td>\n",
       "      <td>4475.000000</td>\n",
       "      <td>4475.000000</td>\n",
       "      <td>4475.000000</td>\n",
       "      <td>4475.000000</td>\n",
       "      <td>4475.000000</td>\n",
       "      <td>4475.000000</td>\n",
       "      <td>4475.000000</td>\n",
       "    </tr>\n",
       "    <tr>\n",
       "      <th>mean</th>\n",
       "      <td>-0.037271</td>\n",
       "      <td>-0.198172</td>\n",
       "      <td>0.036935</td>\n",
       "      <td>-0.051375</td>\n",
       "      <td>-0.125672</td>\n",
       "      <td>-0.018880</td>\n",
       "      <td>-0.155149</td>\n",
       "      <td>-0.152200</td>\n",
       "      <td>0.052295</td>\n",
       "      <td>0.080328</td>\n",
       "      <td>0.331097</td>\n",
       "      <td>0.647252</td>\n",
       "    </tr>\n",
       "    <tr>\n",
       "      <th>std</th>\n",
       "      <td>0.993635</td>\n",
       "      <td>0.898916</td>\n",
       "      <td>0.925227</td>\n",
       "      <td>0.985668</td>\n",
       "      <td>0.823798</td>\n",
       "      <td>0.907034</td>\n",
       "      <td>0.891282</td>\n",
       "      <td>0.939363</td>\n",
       "      <td>1.011362</td>\n",
       "      <td>1.022135</td>\n",
       "      <td>1.023553</td>\n",
       "      <td>0.657171</td>\n",
       "    </tr>\n",
       "    <tr>\n",
       "      <th>min</th>\n",
       "      <td>-3.619982</td>\n",
       "      <td>-2.281905</td>\n",
       "      <td>-2.761461</td>\n",
       "      <td>-1.181463</td>\n",
       "      <td>-1.604586</td>\n",
       "      <td>-1.899678</td>\n",
       "      <td>-2.832144</td>\n",
       "      <td>-2.312802</td>\n",
       "      <td>-3.101091</td>\n",
       "      <td>-2.364468</td>\n",
       "      <td>-1.636790</td>\n",
       "      <td>0.063430</td>\n",
       "    </tr>\n",
       "    <tr>\n",
       "      <th>25%</th>\n",
       "      <td>-0.722150</td>\n",
       "      <td>-0.851892</td>\n",
       "      <td>-0.530422</td>\n",
       "      <td>-0.826104</td>\n",
       "      <td>-0.499224</td>\n",
       "      <td>-0.664902</td>\n",
       "      <td>-0.790008</td>\n",
       "      <td>-0.744716</td>\n",
       "      <td>-0.650770</td>\n",
       "      <td>-0.612016</td>\n",
       "      <td>-0.499152</td>\n",
       "      <td>0.137856</td>\n",
       "    </tr>\n",
       "    <tr>\n",
       "      <th>50%</th>\n",
       "      <td>-0.145730</td>\n",
       "      <td>-0.280185</td>\n",
       "      <td>-0.117266</td>\n",
       "      <td>-0.294045</td>\n",
       "      <td>-0.222883</td>\n",
       "      <td>-0.135713</td>\n",
       "      <td>-0.307904</td>\n",
       "      <td>-0.126426</td>\n",
       "      <td>0.011479</td>\n",
       "      <td>-0.060006</td>\n",
       "      <td>0.313446</td>\n",
       "      <td>0.137856</td>\n",
       "    </tr>\n",
       "    <tr>\n",
       "      <th>75%</th>\n",
       "      <td>0.527585</td>\n",
       "      <td>0.315085</td>\n",
       "      <td>0.488658</td>\n",
       "      <td>0.336862</td>\n",
       "      <td>0.056190</td>\n",
       "      <td>0.511075</td>\n",
       "      <td>0.385121</td>\n",
       "      <td>0.191455</td>\n",
       "      <td>0.673728</td>\n",
       "      <td>0.614700</td>\n",
       "      <td>1.128035</td>\n",
       "      <td>1.266985</td>\n",
       "    </tr>\n",
       "    <tr>\n",
       "      <th>max</th>\n",
       "      <td>8.704217</td>\n",
       "      <td>6.813453</td>\n",
       "      <td>10.955302</td>\n",
       "      <td>11.712916</td>\n",
       "      <td>9.576526</td>\n",
       "      <td>5.414217</td>\n",
       "      <td>7.285241</td>\n",
       "      <td>15.029763</td>\n",
       "      <td>4.539801</td>\n",
       "      <td>7.474859</td>\n",
       "      <td>3.409820</td>\n",
       "      <td>3.762152</td>\n",
       "    </tr>\n",
       "  </tbody>\n",
       "</table>\n",
       "</div>"
      ],
      "text/plain": [
       "       fixed acidity  volatile acidity  citric acid  residual sugar  \\\n",
       "count    4475.000000       4475.000000  4475.000000     4475.000000   \n",
       "mean       -0.037271         -0.198172     0.036935       -0.051375   \n",
       "std         0.993635          0.898916     0.925227        0.985668   \n",
       "min        -3.619982         -2.281905    -2.761461       -1.181463   \n",
       "25%        -0.722150         -0.851892    -0.530422       -0.826104   \n",
       "50%        -0.145730         -0.280185    -0.117266       -0.294045   \n",
       "75%         0.527585          0.315085     0.488658        0.336862   \n",
       "max         8.704217          6.813453    10.955302       11.712916   \n",
       "\n",
       "         chlorides  free sulfur dioxide  total sulfur dioxide      density  \\\n",
       "count  4475.000000          4475.000000           4475.000000  4475.000000   \n",
       "mean     -0.125672            -0.018880             -0.155149    -0.152200   \n",
       "std       0.823798             0.907034              0.891282     0.939363   \n",
       "min      -1.604586            -1.899678             -2.832144    -2.312802   \n",
       "25%      -0.499224            -0.664902             -0.790008    -0.744716   \n",
       "50%      -0.222883            -0.135713             -0.307904    -0.126426   \n",
       "75%       0.056190             0.511075              0.385121     0.191455   \n",
       "max       9.576526             5.414217              7.285241    15.029763   \n",
       "\n",
       "                pH    sulphates      alcohol  qualityscore  \n",
       "count  4475.000000  4475.000000  4475.000000   4475.000000  \n",
       "mean      0.052295     0.080328     0.331097      0.647252  \n",
       "std       1.011362     1.022135     1.023553      0.657171  \n",
       "min      -3.101091    -2.364468    -1.636790      0.063430  \n",
       "25%      -0.650770    -0.612016    -0.499152      0.137856  \n",
       "50%       0.011479    -0.060006     0.313446      0.137856  \n",
       "75%       0.673728     0.614700     1.128035      1.266985  \n",
       "max       4.539801     7.474859     3.409820      3.762152  "
      ]
     },
     "execution_count": 51,
     "metadata": {},
     "output_type": "execute_result"
    }
   ],
   "source": [
    "hogescore.describe()"
   ]
  },
  {
   "cell_type": "code",
   "execution_count": 52,
   "metadata": {},
   "outputs": [
    {
     "data": {
      "text/plain": [
       "<matplotlib.axes._subplots.AxesSubplot at 0x26b0f7e2da0>"
      ]
     },
     "execution_count": 52,
     "metadata": {},
     "output_type": "execute_result"
    },
    {
     "data": {
      "image/png": "[encoded data removed]",
      "text/plain": [
       "<Figure size 432x288 with 1 Axes>"
      ]
     },
     "metadata": {
      "needs_background": "light"
     },
     "output_type": "display_data"
    }
   ],
   "source": [
    "hogescore.boxplot(rot = 50)"
   ]
  },
  {
   "cell_type": "markdown",
   "metadata": {},
   "source": [
    "Er is tez zien dat er veel outliers voorkomt in de features.\n"
   ]
  },
  {
   "cell_type": "markdown",
   "metadata": {},
   "source": [
    "Aan de hand van de boxplotten zie we dat de waardes van de feautures zeer divers zijn en voor problemen kunnen zorgen wanneer we gaan weken met afstandsmaten."
   ]
  },
  {
   "cell_type": "markdown",
   "metadata": {},
   "source": [
    "### Model implementeren\n",
    "\n",
    "\n"
   ]
  },
  {
   "cell_type": "code",
   "execution_count": 53,
   "metadata": {},
   "outputs": [],
   "source": [
    "#Model implementeren \n",
    "from sklearn.cluster import KMeans"
   ]
  },
  {
   "cell_type": "code",
   "execution_count": 54,
   "metadata": {},
   "outputs": [
    {
     "name": "stdout",
     "output_type": "stream",
     "text": [
      "[0 0 0 ... 0 0 0]\n"
     ]
    }
   ],
   "source": [
    "# build the model with the output from elbow method which is 2\n",
    "clusterNum = 2\n",
    "k_means =KMeans(init='k-means++', n_clusters=clusterNum, n_init=12)\n",
    "k_means.fit(hogescore)\n",
    "labels = k_means.labels_\n",
    "print(labels)"
   ]
  },
  {
   "cell_type": "code",
   "execution_count": 57,
   "metadata": {},
   "outputs": [
    {
     "ename": "TypeError",
     "evalue": "'(slice(None, None, None), 9)' is an invalid key",
     "output_type": "error",
     "traceback": [
      "\u001b[1;31m---------------------------------------------------------------------------\u001b[0m",
      "\u001b[1;31mTypeError\u001b[0m                                 Traceback (most recent call last)",
      "\u001b[1;32m<ipython-input-57-f92a9db6c552>\u001b[0m in \u001b[0;36m<module>\u001b[1;34m\u001b[0m\n\u001b[0;32m      1\u001b[0m \u001b[1;31m# create 2 dimensional graph\u001b[0m\u001b[1;33m\u001b[0m\u001b[1;33m\u001b[0m\u001b[1;33m\u001b[0m\u001b[0m\n\u001b[0;32m      2\u001b[0m \u001b[0mf3\u001b[0m\u001b[1;33m,\u001b[0m \u001b[0max\u001b[0m \u001b[1;33m=\u001b[0m \u001b[0mplt\u001b[0m\u001b[1;33m.\u001b[0m\u001b[0msubplots\u001b[0m\u001b[1;33m(\u001b[0m\u001b[0mfigsize\u001b[0m\u001b[1;33m=\u001b[0m\u001b[1;33m(\u001b[0m\u001b[1;36m16\u001b[0m\u001b[1;33m,\u001b[0m \u001b[1;36m12\u001b[0m\u001b[1;33m)\u001b[0m\u001b[1;33m)\u001b[0m\u001b[1;33m\u001b[0m\u001b[1;33m\u001b[0m\u001b[0m\n\u001b[1;32m----> 3\u001b[1;33m \u001b[0mplt\u001b[0m\u001b[1;33m.\u001b[0m\u001b[0mscatter\u001b[0m\u001b[1;33m(\u001b[0m\u001b[0mhogescore\u001b[0m\u001b[1;33m[\u001b[0m\u001b[1;33m:\u001b[0m\u001b[1;33m,\u001b[0m \u001b[1;36m9\u001b[0m\u001b[1;33m]\u001b[0m\u001b[1;33m,\u001b[0m \u001b[0mhogescore\u001b[0m\u001b[1;33m[\u001b[0m\u001b[1;33m:\u001b[0m\u001b[1;33m,\u001b[0m \u001b[1;36m5\u001b[0m\u001b[1;33m]\u001b[0m\u001b[1;33m,\u001b[0m \u001b[0mc\u001b[0m\u001b[1;33m=\u001b[0m\u001b[0mlabels\u001b[0m\u001b[1;33m.\u001b[0m\u001b[0mastype\u001b[0m\u001b[1;33m(\u001b[0m\u001b[0mnp\u001b[0m\u001b[1;33m.\u001b[0m\u001b[0mfloat\u001b[0m\u001b[1;33m)\u001b[0m\u001b[1;33m,\u001b[0m \u001b[0malpha\u001b[0m\u001b[1;33m=\u001b[0m\u001b[1;36m.5\u001b[0m\u001b[1;33m)\u001b[0m\u001b[1;33m\u001b[0m\u001b[1;33m\u001b[0m\u001b[0m\n\u001b[0m\u001b[0;32m      4\u001b[0m \u001b[0mplt\u001b[0m\u001b[1;33m.\u001b[0m\u001b[0mxlabel\u001b[0m\u001b[1;33m(\u001b[0m\u001b[1;34m'alcohol'\u001b[0m\u001b[1;33m,\u001b[0m \u001b[0mfontsize\u001b[0m\u001b[1;33m=\u001b[0m\u001b[1;36m18\u001b[0m\u001b[1;33m)\u001b[0m\u001b[1;33m\u001b[0m\u001b[1;33m\u001b[0m\u001b[0m\n\u001b[0;32m      5\u001b[0m \u001b[0mplt\u001b[0m\u001b[1;33m.\u001b[0m\u001b[0mylabel\u001b[0m\u001b[1;33m(\u001b[0m\u001b[1;34m'total sulfur dioxide'\u001b[0m\u001b[1;33m,\u001b[0m \u001b[0mfontsize\u001b[0m\u001b[1;33m=\u001b[0m\u001b[1;36m16\u001b[0m\u001b[1;33m)\u001b[0m\u001b[1;33m\u001b[0m\u001b[1;33m\u001b[0m\u001b[0m\n",
      "\u001b[1;32mC:\\ProgramData\\Anaconda3\\lib\\site-packages\\pandas\\core\\frame.py\u001b[0m in \u001b[0;36m__getitem__\u001b[1;34m(self, key)\u001b[0m\n\u001b[0;32m   2925\u001b[0m             \u001b[1;32mif\u001b[0m \u001b[0mself\u001b[0m\u001b[1;33m.\u001b[0m\u001b[0mcolumns\u001b[0m\u001b[1;33m.\u001b[0m\u001b[0mnlevels\u001b[0m \u001b[1;33m>\u001b[0m \u001b[1;36m1\u001b[0m\u001b[1;33m:\u001b[0m\u001b[1;33m\u001b[0m\u001b[1;33m\u001b[0m\u001b[0m\n\u001b[0;32m   2926\u001b[0m                 \u001b[1;32mreturn\u001b[0m \u001b[0mself\u001b[0m\u001b[1;33m.\u001b[0m\u001b[0m_getitem_multilevel\u001b[0m\u001b[1;33m(\u001b[0m\u001b[0mkey\u001b[0m\u001b[1;33m)\u001b[0m\u001b[1;33m\u001b[0m\u001b[1;33m\u001b[0m\u001b[0m\n\u001b[1;32m-> 2927\u001b[1;33m             \u001b[0mindexer\u001b[0m \u001b[1;33m=\u001b[0m \u001b[0mself\u001b[0m\u001b[1;33m.\u001b[0m\u001b[0mcolumns\u001b[0m\u001b[1;33m.\u001b[0m\u001b[0mget_loc\u001b[0m\u001b[1;33m(\u001b[0m\u001b[0mkey\u001b[0m\u001b[1;33m)\u001b[0m\u001b[1;33m\u001b[0m\u001b[1;33m\u001b[0m\u001b[0m\n\u001b[0m\u001b[0;32m   2928\u001b[0m             \u001b[1;32mif\u001b[0m \u001b[0mis_integer\u001b[0m\u001b[1;33m(\u001b[0m\u001b[0mindexer\u001b[0m\u001b[1;33m)\u001b[0m\u001b[1;33m:\u001b[0m\u001b[1;33m\u001b[0m\u001b[1;33m\u001b[0m\u001b[0m\n\u001b[0;32m   2929\u001b[0m                 \u001b[0mindexer\u001b[0m \u001b[1;33m=\u001b[0m \u001b[1;33m[\u001b[0m\u001b[0mindexer\u001b[0m\u001b[1;33m]\u001b[0m\u001b[1;33m\u001b[0m\u001b[1;33m\u001b[0m\u001b[0m\n",
      "\u001b[1;32mC:\\ProgramData\\Anaconda3\\lib\\site-packages\\pandas\\core\\indexes\\base.py\u001b[0m in \u001b[0;36mget_loc\u001b[1;34m(self, key, method, tolerance)\u001b[0m\n\u001b[0;32m   2655\u001b[0m                                  'backfill or nearest lookups')\n\u001b[0;32m   2656\u001b[0m             \u001b[1;32mtry\u001b[0m\u001b[1;33m:\u001b[0m\u001b[1;33m\u001b[0m\u001b[1;33m\u001b[0m\u001b[0m\n\u001b[1;32m-> 2657\u001b[1;33m                 \u001b[1;32mreturn\u001b[0m \u001b[0mself\u001b[0m\u001b[1;33m.\u001b[0m\u001b[0m_engine\u001b[0m\u001b[1;33m.\u001b[0m\u001b[0mget_loc\u001b[0m\u001b[1;33m(\u001b[0m\u001b[0mkey\u001b[0m\u001b[1;33m)\u001b[0m\u001b[1;33m\u001b[0m\u001b[1;33m\u001b[0m\u001b[0m\n\u001b[0m\u001b[0;32m   2658\u001b[0m             \u001b[1;32mexcept\u001b[0m \u001b[0mKeyError\u001b[0m\u001b[1;33m:\u001b[0m\u001b[1;33m\u001b[0m\u001b[1;33m\u001b[0m\u001b[0m\n\u001b[0;32m   2659\u001b[0m                 \u001b[1;32mreturn\u001b[0m \u001b[0mself\u001b[0m\u001b[1;33m.\u001b[0m\u001b[0m_engine\u001b[0m\u001b[1;33m.\u001b[0m\u001b[0mget_loc\u001b[0m\u001b[1;33m(\u001b[0m\u001b[0mself\u001b[0m\u001b[1;33m.\u001b[0m\u001b[0m_maybe_cast_indexer\u001b[0m\u001b[1;33m(\u001b[0m\u001b[0mkey\u001b[0m\u001b[1;33m)\u001b[0m\u001b[1;33m)\u001b[0m\u001b[1;33m\u001b[0m\u001b[1;33m\u001b[0m\u001b[0m\n",
      "\u001b[1;32mpandas/_libs/index.pyx\u001b[0m in \u001b[0;36mpandas._libs.index.IndexEngine.get_loc\u001b[1;34m()\u001b[0m\n",
      "\u001b[1;32mpandas/_libs/index.pyx\u001b[0m in \u001b[0;36mpandas._libs.index.IndexEngine.get_loc\u001b[1;34m()\u001b[0m\n",
      "\u001b[1;31mTypeError\u001b[0m: '(slice(None, None, None), 9)' is an invalid key"
     ]
    },
    {
     "data": {
      "image/png": "[encoded data removed]",
      "text/plain": [
       "<Figure size 1152x864 with 1 Axes>"
      ]
     },
     "metadata": {
      "needs_background": "light"
     },
     "output_type": "display_data"
    }
   ],
   "source": []
  },
  {
   "cell_type": "markdown",
   "metadata": {},
   "source": [
    "#### Analyse  onderzoeksvraag 1: "
   ]
  },
  {
   "cell_type": "code",
   "execution_count": null,
   "metadata": {},
   "outputs": [],
   "source": [
    "# Histogram plotten van de score van de Portugues Red\n",
    "\n",
    "yb = list(df['points'])\n",
    "plt.hist(yb,bins=len(yb))   \n",
    "plt.show()"
   ]
  },
  {
   "cell_type": "code",
   "execution_count": null,
   "metadata": {},
   "outputs": [],
   "source": [
    "#TODO : histogram plotten van de verdelingvan de score om outliers te zien \n",
    "#TODO : boxplotten , wat betekent None voor de oplssing van de onderzoeksvragen.\n",
    "#TODO : de verschil van de gemiddelde ingredienten per provincie plotten ??"
   ]
  }
 ],
 "metadata": {
  "kernelspec": {
   "display_name": "Python 3",
   "language": "python",
   "name": "python3"
  },
  "language_info": {
   "codemirror_mode": {
    "name": "ipython",
    "version": 3
   },
   "file_extension": ".py",
   "mimetype": "text/x-python",
   "name": "python",
   "nbconvert_exporter": "python",
   "pygments_lexer": "ipython3",
   "version": "3.7.3"
  }
 },
 "nbformat": 4,
 "nbformat_minor": 2
}
